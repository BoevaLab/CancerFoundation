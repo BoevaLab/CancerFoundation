{
 "cells": [
  {
   "cell_type": "code",
   "execution_count": null,
   "metadata": {},
   "outputs": [
    {
     "ename": "IndentationError",
     "evalue": "expected an indented block (1617220460.py, line 173)",
     "output_type": "error",
     "traceback": [
      "\u001b[0;36m  Cell \u001b[0;32mIn[1], line 173\u001b[0;36m\u001b[0m\n\u001b[0;31m    if __name__ == '__main__':\u001b[0m\n\u001b[0m    ^\u001b[0m\n\u001b[0;31mIndentationError\u001b[0m\u001b[0;31m:\u001b[0m expected an indented block\n"
     ]
    }
   ],
   "source": [
    "import pandas as pd\n",
    "import scanpy as sc\n",
    "\n",
    "import time\n",
    "\n",
    "import requests\n",
    "from bs4 import BeautifulSoup\n",
    "import pandas as pd\n",
    "from typing import List, Dict\n",
    "from datetime import datetime\n",
    "import os\n",
    "import hashlib\n",
    "import json\n",
    "from pathlib import Path\n",
    "import re\n",
    "\n",
    "\n",
    "class WebScraper:\n",
    "    def __init__(self, base_url: str, cache_dir: str = \".cache\"):\n",
    "        self.base_url = base_url\n",
    "        self.cache_dir = Path(cache_dir)\n",
    "        self.cache_dir.mkdir(exist_ok=True)\n",
    "\n",
    "        self.session = requests.Session()\n",
    "        self.session.headers.update({\n",
    "            'User-Agent': 'Mozilla/5.0 (Windows NT 10.0; Win64; x64) AppleWebKit/537.36 (KHTML, like Gecko) Chrome/91.0.4472.124 Safari/537.36'\n",
    "        })\n",
    "\n",
    "    def _get_cache_path(self, url: str) -> Path:\n",
    "        \"\"\"Generate a cache file path for a given URL.\"\"\"\n",
    "        url_hash = hashlib.md5(url.encode()).hexdigest()\n",
    "        return self.cache_dir / f\"{url_hash}.html\"\n",
    "\n",
    "    def fetch_page(self, url: str) -> BeautifulSoup:\n",
    "        \"\"\"\n",
    "        Fetch and parse a webpage with caching.\n",
    "\n",
    "        Args:\n",
    "            url (str): The URL to fetch\n",
    "\n",
    "        Returns:\n",
    "            BeautifulSoup: Parsed HTML content\n",
    "        \"\"\"\n",
    "        cache_path = self._get_cache_path(url)\n",
    "\n",
    "        # Try to load from cache first\n",
    "        if cache_path.exists():\n",
    "            with open(cache_path, 'r', encoding='utf-8') as f:\n",
    "                print(f\"Loading from cache: {url}\")\n",
    "                return BeautifulSoup(f.read(), 'html.parser')\n",
    "\n",
    "        # If not in cache, fetch and store\n",
    "        try:\n",
    "            print(f\"Downloading: {url}\")\n",
    "            response = self.session.get(url)\n",
    "            response.raise_for_status()\n",
    "\n",
    "            # Save to cache\n",
    "            with open(cache_path, 'w', encoding='utf-8') as f:\n",
    "                f.write(response.text)\n",
    "\n",
    "            return BeautifulSoup(response.text, 'html.parser')\n",
    "\n",
    "        except requests.exceptions.RequestException as e:\n",
    "            print(f\"Error fetching {url}: {str(e)}\")\n",
    "            raise\n",
    "\n",
    "    def extract_data(self, soup: BeautifulSoup) -> List[Dict]:\n",
    "        \"\"\"\n",
    "        Extract desired data from the parsed HTML.\n",
    "        Override this method based on your specific needs.\n",
    "\n",
    "        Args:\n",
    "            soup (BeautifulSoup): Parsed HTML content\n",
    "\n",
    "        Returns:\n",
    "            List[Dict]: Extracted data as a list of dictionaries\n",
    "        \"\"\"\n",
    "        # Example extraction - modify according to your needs\n",
    "        data = []\n",
    "        # Add your extraction logic here\n",
    "        return data\n",
    "\n",
    "    def save_to_csv(self, data: List[Dict], filename: str):\n",
    "        \"\"\"\n",
    "        Save extracted data to CSV file.\n",
    "\n",
    "        Args:\n",
    "            data (List[Dict]): Data to save\n",
    "            filename (str): Output filename\n",
    "        \"\"\"\n",
    "        df = pd.DataFrame(data)\n",
    "        df.to_csv(filename, index=False)\n",
    "        print(f\"Data saved to {filename}\")\n",
    "\n",
    "\n",
    "def extract_data(soup: BeautifulSoup) -> List[Dict]:\n",
    "    \"\"\"\n",
    "    Extract all cancer case data including metadata fields.\n",
    "\n",
    "    Args:\n",
    "        soup (BeautifulSoup): Parsed HTML content\n",
    "\n",
    "    Returns:\n",
    "        List[Dict]: List of cases with their details\n",
    "    \"\"\"\n",
    "\n",
    "    def extract_field(soup: BeautifulSoup, field_name: str) -> str:\n",
    "        \"\"\"Helper function to extract field value from table row\"\"\"\n",
    "        field_cell = soup.find('td', string=f\"{field_name}:\")\n",
    "        if field_cell:\n",
    "            value_cell = field_cell.find_next('td')\n",
    "            return value_cell.text.strip() if value_cell else None\n",
    "        return None\n",
    "    case_data = {}\n",
    "    # Extract publication data (keeping the existing publication extraction)\n",
    "    pub_header = soup.find('td', string='Publications:')\n",
    "    if pub_header:\n",
    "        pub_cell = pub_header.find_next('td', class_='text-justify')\n",
    "        if pub_cell:\n",
    "            for div in pub_cell.find_all('div'):\n",
    "                link = div.find('a')\n",
    "                if link:\n",
    "                    url = link.get('href', '')\n",
    "                    authors_text = link.text.strip()\n",
    "\n",
    "                    last_name_match = re.search(r'\\s*(\\w+) et al\\.', authors_text)\n",
    "                    last_name = last_name_match.group(1) if last_name_match else None\n",
    "\n",
    "                    span = div.find('span')\n",
    "                    details = span.text.strip() if span else ''\n",
    "\n",
    "                    year_match = re.search(r',\\s*((?:19|20)\\d{2})', details)\n",
    "                    year = year_match.group(1) if year_match else None\n",
    "                    case_data.update({\n",
    "                                    'authors': authors_text,\n",
    "                                    'author_last_name': last_name,\n",
    "                                    'url': url,\n",
    "                                    'details': details,\n",
    "                                    'year': year,\n",
    "                                    'full_citation': authors_text + details})\n",
    "                    # Extract all the additional fields\n",
    "    case_data.update({\n",
    "            # Cancer and tumor details\n",
    "            'cancer_type': extract_field(soup, 'Cancer type'),\n",
    "            'cancer_type_abbr': extract_field(soup, 'Cancer type abbreviation'),\n",
    "            'primary_site': extract_field(soup, 'Primary site'),\n",
    "            'sampling_site': extract_field(soup, 'Sampling site'),\n",
    "            'tumor_grade': extract_field(soup, 'Tumor grade'),\n",
    "            'tumor_status': extract_field(soup, 'Tumor status'),\n",
    "            'strategy': extract_field(soup, 'Strategy'),\n",
    "            'protocol': extract_field(soup, 'Protocol'),\n",
    "            'instrument': extract_field(soup, 'Instrument'),\n",
    "            'GEO accession': extract_field(soup, 'GEO accession'),\n",
    "            # Patient details\n",
    "            'age': extract_field(soup, 'Donor age'),\n",
    "            'gender': extract_field(soup, 'Donor gender'),\n",
    "\n",
    "            # Treatment and additional info\n",
    "            'treatment': extract_field(soup, 'Treatment'),\n",
    "            'other_metadata': extract_field(soup, 'Other metadata')\n",
    "        })\n",
    "    return case_data\n"
   ]
  },
  {
   "cell_type": "code",
   "execution_count": null,
   "metadata": {},
   "outputs": [],
   "source": [
    "metadata = pd.read_csv(\"CancerSCEM-Browse-Table.csv\").iloc[:, :-3]\n",
    "project_counts = metadata[\"Project ID\"].value_counts().to_frame()\n",
    "project_counts.columns = [\"n_samples\"]\n",
    "\n",
    "metadata = metadata.merge(project_counts, how=\"left\", left_on=\"Project ID\", right_index=True)\n",
    "metadata = metadata[~metadata[\"Project ID\"].duplicated(keep=\"first\")]\n",
    "metadata = metadata[metadata[\"n_samples\"] >= 2]\n",
    "\n",
    "# Example usage\n",
    "\n",
    "\n",
    "results = []\n",
    "for sample_id in metadata[\"Sample ID\"]:\n",
    "    print(sample_id)\n",
    "    subset = metadata[metadata[\"Sample ID\"]==sample_id]\n",
    "    target_url = f\"https://ngdc.cncb.ac.cn/cancerscem/sample-details/{sample_id}\"\n",
    "    try:\n",
    "        scraper = WebScraper(target_url, cache_dir=\".cache\")\n",
    "\n",
    "        # Fetch and parse the webpage (will use cache if available)\n",
    "        soup = scraper.fetch_page(target_url)\n",
    "\n",
    "        # Extract data\n",
    "        data = extract_data(soup)\n",
    "        if data is not None:\n",
    "            data[\"sample ID\"] = sample_id\n",
    "            data[\"n_samples\"] = subset[\"n_samples\"].item()\n",
    "            data[\"Accession No.\"] = subset[\"Accession No.\"].item()\n",
    "            data[\"Project ID\"] = subset[\"Project ID\"].item()\n",
    "            results.append(data)\n",
    "        else:\n",
    "            print(\"Edge case\", sample_id)\n",
    "    except Exception as e:\n",
    "        print(f\"Scraping failed: {str(e)}\")\n",
    "results = pd.DataFrame(results)\n",
    "results = results.drop([\"age\", \"gender\", \"treatment\", \"sample ID\"], axis=1)\n",
    "results = results.set_index(\"Project ID\")\n",
    "results.to_csv(\"study_overview.csv\")"
   ]
  },
  {
   "cell_type": "code",
   "execution_count": 2,
   "metadata": {},
   "outputs": [],
   "source": [
    "_malignant_cell = \"Malignant cells\"\n",
    "_cell_type = \"cell_type\""
   ]
  },
  {
   "cell_type": "code",
   "execution_count": 3,
   "metadata": {},
   "outputs": [],
   "source": [
    "study_overview = pd.read_csv(\"study_overview.csv\", index_col=0)"
   ]
  },
  {
   "cell_type": "code",
   "execution_count": 4,
   "metadata": {},
   "outputs": [],
   "source": [
    "study_overview = study_overview[(study_overview[\"Source\"] == \"CancerSCEM\") & (study_overview[\"Include\"] == \"Yes\")]"
   ]
  },
  {
   "cell_type": "code",
   "execution_count": 5,
   "metadata": {},
   "outputs": [],
   "source": [
    "metadata = pd.read_csv(\"CancerSCEM-Browse-Table.csv\").iloc[:, :-3]\n"
   ]
  },
  {
   "cell_type": "code",
   "execution_count": 6,
   "metadata": {},
   "outputs": [],
   "source": [
    "metadata = metadata[metadata[\"Project ID\"].isin(study_overview[\"Project ID\"])]"
   ]
  },
  {
   "cell_type": "code",
   "execution_count": null,
   "metadata": {},
   "outputs": [],
   "source": []
  },
  {
   "cell_type": "code",
   "execution_count": 7,
   "metadata": {},
   "outputs": [
    {
     "data": {
      "text/html": [
       "<div>\n",
       "<style scoped>\n",
       "    .dataframe tbody tr th:only-of-type {\n",
       "        vertical-align: middle;\n",
       "    }\n",
       "\n",
       "    .dataframe tbody tr th {\n",
       "        vertical-align: top;\n",
       "    }\n",
       "\n",
       "    .dataframe thead th {\n",
       "        text-align: right;\n",
       "    }\n",
       "</style>\n",
       "<table border=\"1\" class=\"dataframe\">\n",
       "  <thead>\n",
       "    <tr style=\"text-align: right;\">\n",
       "      <th></th>\n",
       "      <th>Tissue</th>\n",
       "      <th>Article</th>\n",
       "      <th>Disease</th>\n",
       "      <th>Technology</th>\n",
       "      <th>N_samples</th>\n",
       "      <th>Source</th>\n",
       "      <th>author_last_name</th>\n",
       "      <th>year</th>\n",
       "      <th>Project ID</th>\n",
       "      <th>Include</th>\n",
       "      <th>Reason</th>\n",
       "    </tr>\n",
       "    <tr>\n",
       "      <th>Spalte 1</th>\n",
       "      <th></th>\n",
       "      <th></th>\n",
       "      <th></th>\n",
       "      <th></th>\n",
       "      <th></th>\n",
       "      <th></th>\n",
       "      <th></th>\n",
       "      <th></th>\n",
       "      <th></th>\n",
       "      <th></th>\n",
       "      <th></th>\n",
       "    </tr>\n",
       "  </thead>\n",
       "  <tbody>\n",
       "    <tr>\n",
       "      <th>Alchahin_2022_kidney</th>\n",
       "      <td>kidney</td>\n",
       "      <td>https://pubmed.ncbi.nlm.nih.gov/36180422\\n3828...</td>\n",
       "      <td>RCC</td>\n",
       "      <td>10x</td>\n",
       "      <td>15</td>\n",
       "      <td>CancerSCEM</td>\n",
       "      <td>Alchahin</td>\n",
       "      <td>2022</td>\n",
       "      <td>ccRCC-061</td>\n",
       "      <td>Yes</td>\n",
       "      <td>NaN</td>\n",
       "    </tr>\n",
       "    <tr>\n",
       "      <th>Aubin_2022_brain</th>\n",
       "      <td>brain</td>\n",
       "      <td>https://pubmed.ncbi.nlm.nih.gov/35803925/</td>\n",
       "      <td>Pediatric ependymoma</td>\n",
       "      <td>Drop-seq</td>\n",
       "      <td>8</td>\n",
       "      <td>CancerSCEM</td>\n",
       "      <td>Aubin</td>\n",
       "      <td>2022</td>\n",
       "      <td>EPN-102</td>\n",
       "      <td>Yes</td>\n",
       "      <td>NaN</td>\n",
       "    </tr>\n",
       "    <tr>\n",
       "      <th>Barrett_2024_brain</th>\n",
       "      <td>brain</td>\n",
       "      <td>https://pubmed.ncbi.nlm.nih.gov/38216553/</td>\n",
       "      <td>Sporadic Vestibular Schwannomas</td>\n",
       "      <td>10x</td>\n",
       "      <td>15</td>\n",
       "      <td>CancerSCEM</td>\n",
       "      <td>Barrett</td>\n",
       "      <td>2024</td>\n",
       "      <td>VS-105</td>\n",
       "      <td>Yes</td>\n",
       "      <td>NaN</td>\n",
       "    </tr>\n",
       "    <tr>\n",
       "      <th>Becker_2022_colorectal</th>\n",
       "      <td>colorectal</td>\n",
       "      <td>https://pubmed.ncbi.nlm.nih.gov/35726067/</td>\n",
       "      <td>Colorectal cancer</td>\n",
       "      <td>10x</td>\n",
       "      <td>4</td>\n",
       "      <td>CancerSCEM</td>\n",
       "      <td>Becker</td>\n",
       "      <td>2022</td>\n",
       "      <td>CRC-067</td>\n",
       "      <td>Yes</td>\n",
       "      <td>NaN</td>\n",
       "    </tr>\n",
       "    <tr>\n",
       "      <th>Becker_2022_colorectal</th>\n",
       "      <td>colorectal</td>\n",
       "      <td>https://pubmed.ncbi.nlm.nih.gov/35726067/</td>\n",
       "      <td>Colorectal cancer</td>\n",
       "      <td>10x</td>\n",
       "      <td>5</td>\n",
       "      <td>CancerSCEM</td>\n",
       "      <td>Becker</td>\n",
       "      <td>2022</td>\n",
       "      <td>CRC-101</td>\n",
       "      <td>Yes</td>\n",
       "      <td>NaN</td>\n",
       "    </tr>\n",
       "    <tr>\n",
       "      <th>...</th>\n",
       "      <td>...</td>\n",
       "      <td>...</td>\n",
       "      <td>...</td>\n",
       "      <td>...</td>\n",
       "      <td>...</td>\n",
       "      <td>...</td>\n",
       "      <td>...</td>\n",
       "      <td>...</td>\n",
       "      <td>...</td>\n",
       "      <td>...</td>\n",
       "      <td>...</td>\n",
       "    </tr>\n",
       "    <tr>\n",
       "      <th>Zhang_2022_skin</th>\n",
       "      <td>skin</td>\n",
       "      <td>https://pubmed.ncbi.nlm.nih.gov/36433984/</td>\n",
       "      <td>Acral Melanoma</td>\n",
       "      <td>10x</td>\n",
       "      <td>7</td>\n",
       "      <td>CancerSCEM</td>\n",
       "      <td>Zhang</td>\n",
       "      <td>2022</td>\n",
       "      <td>AM-036</td>\n",
       "      <td>Yes</td>\n",
       "      <td>NaN</td>\n",
       "    </tr>\n",
       "    <tr>\n",
       "      <th>Zhang_2023_pancreas</th>\n",
       "      <td>pancreas</td>\n",
       "      <td>https://pubmed.ncbi.nlm.nih.gov/37612267/</td>\n",
       "      <td>PDAC</td>\n",
       "      <td>10x</td>\n",
       "      <td>7</td>\n",
       "      <td>CancerSCEM</td>\n",
       "      <td>Zhang</td>\n",
       "      <td>2023</td>\n",
       "      <td>PDAC-106</td>\n",
       "      <td>Yes</td>\n",
       "      <td>NaN</td>\n",
       "    </tr>\n",
       "    <tr>\n",
       "      <th>Zhou_2023_head-and-neck</th>\n",
       "      <td>head-and-neck</td>\n",
       "      <td>https://pubmed.ncbi.nlm.nih.gov/36879115/</td>\n",
       "      <td>Salivary Adenoid Cystic Carcinoma</td>\n",
       "      <td>10x</td>\n",
       "      <td>4</td>\n",
       "      <td>CancerSCEM</td>\n",
       "      <td>Zhou</td>\n",
       "      <td>2023</td>\n",
       "      <td>SACC-103</td>\n",
       "      <td>Yes</td>\n",
       "      <td>NaN</td>\n",
       "    </tr>\n",
       "    <tr>\n",
       "      <th>Zhu_2023_liverbiliary</th>\n",
       "      <td>liverbiliary</td>\n",
       "      <td>https://pubmed.ncbi.nlm.nih.gov/36878933/</td>\n",
       "      <td>HCC</td>\n",
       "      <td>10x</td>\n",
       "      <td>6</td>\n",
       "      <td>CancerSCEM</td>\n",
       "      <td>Zhu</td>\n",
       "      <td>2023</td>\n",
       "      <td>HCC-059</td>\n",
       "      <td>Yes</td>\n",
       "      <td>NaN</td>\n",
       "    </tr>\n",
       "    <tr>\n",
       "      <th>Zou_2023_skin</th>\n",
       "      <td>skin</td>\n",
       "      <td>https://pubmed.ncbi.nlm.nih.gov/38099574/</td>\n",
       "      <td>Skin SCC</td>\n",
       "      <td>10x</td>\n",
       "      <td>3</td>\n",
       "      <td>CancerSCEM</td>\n",
       "      <td>Zou</td>\n",
       "      <td>2023</td>\n",
       "      <td>cSCC-099</td>\n",
       "      <td>Yes</td>\n",
       "      <td>NaN</td>\n",
       "    </tr>\n",
       "  </tbody>\n",
       "</table>\n",
       "<p>83 rows × 11 columns</p>\n",
       "</div>"
      ],
      "text/plain": [
       "                                Tissue  \\\n",
       "Spalte 1                                 \n",
       "Alchahin_2022_kidney            kidney   \n",
       "Aubin_2022_brain                 brain   \n",
       "Barrett_2024_brain               brain   \n",
       "Becker_2022_colorectal      colorectal   \n",
       "Becker_2022_colorectal      colorectal   \n",
       "...                                ...   \n",
       "Zhang_2022_skin                   skin   \n",
       "Zhang_2023_pancreas           pancreas   \n",
       "Zhou_2023_head-and-neck  head-and-neck   \n",
       "Zhu_2023_liverbiliary     liverbiliary   \n",
       "Zou_2023_skin                     skin   \n",
       "\n",
       "                                                                   Article  \\\n",
       "Spalte 1                                                                     \n",
       "Alchahin_2022_kidney     https://pubmed.ncbi.nlm.nih.gov/36180422\\n3828...   \n",
       "Aubin_2022_brain                 https://pubmed.ncbi.nlm.nih.gov/35803925/   \n",
       "Barrett_2024_brain               https://pubmed.ncbi.nlm.nih.gov/38216553/   \n",
       "Becker_2022_colorectal           https://pubmed.ncbi.nlm.nih.gov/35726067/   \n",
       "Becker_2022_colorectal           https://pubmed.ncbi.nlm.nih.gov/35726067/   \n",
       "...                                                                    ...   \n",
       "Zhang_2022_skin                  https://pubmed.ncbi.nlm.nih.gov/36433984/   \n",
       "Zhang_2023_pancreas              https://pubmed.ncbi.nlm.nih.gov/37612267/   \n",
       "Zhou_2023_head-and-neck          https://pubmed.ncbi.nlm.nih.gov/36879115/   \n",
       "Zhu_2023_liverbiliary            https://pubmed.ncbi.nlm.nih.gov/36878933/   \n",
       "Zou_2023_skin                    https://pubmed.ncbi.nlm.nih.gov/38099574/   \n",
       "\n",
       "                                                   Disease Technology  \\\n",
       "Spalte 1                                                                \n",
       "Alchahin_2022_kidney                                   RCC        10x   \n",
       "Aubin_2022_brain                      Pediatric ependymoma   Drop-seq   \n",
       "Barrett_2024_brain         Sporadic Vestibular Schwannomas        10x   \n",
       "Becker_2022_colorectal                   Colorectal cancer        10x   \n",
       "Becker_2022_colorectal                   Colorectal cancer        10x   \n",
       "...                                                    ...        ...   \n",
       "Zhang_2022_skin                             Acral Melanoma        10x   \n",
       "Zhang_2023_pancreas                                   PDAC        10x   \n",
       "Zhou_2023_head-and-neck  Salivary Adenoid Cystic Carcinoma        10x   \n",
       "Zhu_2023_liverbiliary                                  HCC        10x   \n",
       "Zou_2023_skin                                     Skin SCC        10x   \n",
       "\n",
       "                         N_samples      Source author_last_name  year  \\\n",
       "Spalte 1                                                                \n",
       "Alchahin_2022_kidney            15  CancerSCEM         Alchahin  2022   \n",
       "Aubin_2022_brain                 8  CancerSCEM            Aubin  2022   \n",
       "Barrett_2024_brain              15  CancerSCEM          Barrett  2024   \n",
       "Becker_2022_colorectal           4  CancerSCEM           Becker  2022   \n",
       "Becker_2022_colorectal           5  CancerSCEM           Becker  2022   \n",
       "...                            ...         ...              ...   ...   \n",
       "Zhang_2022_skin                  7  CancerSCEM            Zhang  2022   \n",
       "Zhang_2023_pancreas              7  CancerSCEM            Zhang  2023   \n",
       "Zhou_2023_head-and-neck          4  CancerSCEM             Zhou  2023   \n",
       "Zhu_2023_liverbiliary            6  CancerSCEM              Zhu  2023   \n",
       "Zou_2023_skin                    3  CancerSCEM              Zou  2023   \n",
       "\n",
       "                        Project ID Include Reason  \n",
       "Spalte 1                                           \n",
       "Alchahin_2022_kidney     ccRCC-061     Yes    NaN  \n",
       "Aubin_2022_brain           EPN-102     Yes    NaN  \n",
       "Barrett_2024_brain          VS-105     Yes    NaN  \n",
       "Becker_2022_colorectal     CRC-067     Yes    NaN  \n",
       "Becker_2022_colorectal     CRC-101     Yes    NaN  \n",
       "...                            ...     ...    ...  \n",
       "Zhang_2022_skin             AM-036     Yes    NaN  \n",
       "Zhang_2023_pancreas       PDAC-106     Yes    NaN  \n",
       "Zhou_2023_head-and-neck   SACC-103     Yes    NaN  \n",
       "Zhu_2023_liverbiliary      HCC-059     Yes    NaN  \n",
       "Zou_2023_skin             cSCC-099     Yes    NaN  \n",
       "\n",
       "[83 rows x 11 columns]"
      ]
     },
     "execution_count": 7,
     "metadata": {},
     "output_type": "execute_result"
    }
   ],
   "source": [
    "study_overview"
   ]
  },
  {
   "cell_type": "code",
   "execution_count": 18,
   "metadata": {},
   "outputs": [
    {
     "name": "stdout",
     "output_type": "stream",
     "text": [
      "LUAD-004-01-1A\n",
      "Loading from cache: https://ngdc.cncb.ac.cn/cancerscem/sample-details/LUAD-004-01-1A\n",
      "LUAD-004-02-1A\n",
      "Loading from cache: https://ngdc.cncb.ac.cn/cancerscem/sample-details/LUAD-004-02-1A\n",
      "LUAD-004-03-1A\n",
      "Loading from cache: https://ngdc.cncb.ac.cn/cancerscem/sample-details/LUAD-004-03-1A\n",
      "LUAD-004-06-1A\n",
      "Loading from cache: https://ngdc.cncb.ac.cn/cancerscem/sample-details/LUAD-004-06-1A\n",
      "LUAD-004-07-1A\n",
      "Loading from cache: https://ngdc.cncb.ac.cn/cancerscem/sample-details/LUAD-004-07-1A\n",
      "LUAD-004-08-1A\n",
      "Loading from cache: https://ngdc.cncb.ac.cn/cancerscem/sample-details/LUAD-004-08-1A\n",
      "LUSC-005-01-1A\n",
      "Loading from cache: https://ngdc.cncb.ac.cn/cancerscem/sample-details/LUSC-005-01-1A\n",
      "LUSC-005-02-1A\n",
      "Loading from cache: https://ngdc.cncb.ac.cn/cancerscem/sample-details/LUSC-005-02-1A\n",
      "LUSC-005-03-1A\n",
      "Loading from cache: https://ngdc.cncb.ac.cn/cancerscem/sample-details/LUSC-005-03-1A\n",
      "LUSC-005-04-1A\n",
      "Loading from cache: https://ngdc.cncb.ac.cn/cancerscem/sample-details/LUSC-005-04-1A\n",
      "LUSC-005-05-1A\n",
      "Downloading: https://ngdc.cncb.ac.cn/cancerscem/sample-details/LUSC-005-05-1A\n",
      "LUSC-005-06-1A\n",
      "Downloading: https://ngdc.cncb.ac.cn/cancerscem/sample-details/LUSC-005-06-1A\n",
      "NSCLC-006-01-1A\n",
      "Loading from cache: https://ngdc.cncb.ac.cn/cancerscem/sample-details/NSCLC-006-01-1A\n",
      "NSCLC-006-02-1A\n",
      "Downloading: https://ngdc.cncb.ac.cn/cancerscem/sample-details/NSCLC-006-02-1A\n",
      "NSCLC-006-03-1A\n",
      "Downloading: https://ngdc.cncb.ac.cn/cancerscem/sample-details/NSCLC-006-03-1A\n",
      "NSCLC-007-01-1A\n",
      "Loading from cache: https://ngdc.cncb.ac.cn/cancerscem/sample-details/NSCLC-007-01-1A\n",
      "NSCLC-007-02-1A\n",
      "Downloading: https://ngdc.cncb.ac.cn/cancerscem/sample-details/NSCLC-007-02-1A\n",
      "NSCLC-007-03-1A\n",
      "Downloading: https://ngdc.cncb.ac.cn/cancerscem/sample-details/NSCLC-007-03-1A\n",
      "OV-020-01-1A\n",
      "Loading from cache: https://ngdc.cncb.ac.cn/cancerscem/sample-details/OV-020-01-1A\n",
      "OV-020-02-1A\n",
      "Downloading: https://ngdc.cncb.ac.cn/cancerscem/sample-details/OV-020-02-1A\n",
      "OV-020-03-1A\n",
      "Downloading: https://ngdc.cncb.ac.cn/cancerscem/sample-details/OV-020-03-1A\n",
      "OV-020-04-1A\n",
      "Downloading: https://ngdc.cncb.ac.cn/cancerscem/sample-details/OV-020-04-1A\n",
      "MPAL-022-01-1A\n",
      "Loading from cache: https://ngdc.cncb.ac.cn/cancerscem/sample-details/MPAL-022-01-1A\n",
      "MPAL-022-02-1A\n",
      "Downloading: https://ngdc.cncb.ac.cn/cancerscem/sample-details/MPAL-022-02-1A\n",
      "MPAL-022-03-1A\n",
      "Downloading: https://ngdc.cncb.ac.cn/cancerscem/sample-details/MPAL-022-03-1A\n",
      "MPAL-022-04-1A\n",
      "Downloading: https://ngdc.cncb.ac.cn/cancerscem/sample-details/MPAL-022-04-1A\n",
      "MPAL-022-05-1A\n",
      "Downloading: https://ngdc.cncb.ac.cn/cancerscem/sample-details/MPAL-022-05-1A\n",
      "MPAL-022-06-1A\n",
      "Downloading: https://ngdc.cncb.ac.cn/cancerscem/sample-details/MPAL-022-06-1A\n",
      "MPAL-022-07-1A\n",
      "Downloading: https://ngdc.cncb.ac.cn/cancerscem/sample-details/MPAL-022-07-1A\n",
      "MPAL-022-08-1A\n",
      "Downloading: https://ngdc.cncb.ac.cn/cancerscem/sample-details/MPAL-022-08-1A\n",
      "MPAL-022-09-1A\n",
      "Downloading: https://ngdc.cncb.ac.cn/cancerscem/sample-details/MPAL-022-09-1A\n",
      "MPAL-022-10-1A\n",
      "Downloading: https://ngdc.cncb.ac.cn/cancerscem/sample-details/MPAL-022-10-1A\n",
      "UCEC-024-01-1A\n",
      "Loading from cache: https://ngdc.cncb.ac.cn/cancerscem/sample-details/UCEC-024-01-1A\n",
      "UCEC-024-02-1A\n",
      "Downloading: https://ngdc.cncb.ac.cn/cancerscem/sample-details/UCEC-024-02-1A\n",
      "UCEC-024-03-1A\n",
      "Downloading: https://ngdc.cncb.ac.cn/cancerscem/sample-details/UCEC-024-03-1A\n",
      "UCEC-024-04-1A\n",
      "Downloading: https://ngdc.cncb.ac.cn/cancerscem/sample-details/UCEC-024-04-1A\n",
      "UCEC-024-05-1A\n",
      "Downloading: https://ngdc.cncb.ac.cn/cancerscem/sample-details/UCEC-024-05-1A\n",
      "UCEC-024-06-1A\n",
      "Downloading: https://ngdc.cncb.ac.cn/cancerscem/sample-details/UCEC-024-06-1A\n",
      "ATC-026-01-1A\n",
      "Loading from cache: https://ngdc.cncb.ac.cn/cancerscem/sample-details/ATC-026-01-1A\n",
      "ATC-026-02-1A\n",
      "Downloading: https://ngdc.cncb.ac.cn/cancerscem/sample-details/ATC-026-02-1A\n",
      "ATC-026-03-1A\n",
      "Downloading: https://ngdc.cncb.ac.cn/cancerscem/sample-details/ATC-026-03-1A\n",
      "ATC-026-04-1A\n",
      "Downloading: https://ngdc.cncb.ac.cn/cancerscem/sample-details/ATC-026-04-1A\n",
      "ATC-026-05-1A\n",
      "Downloading: https://ngdc.cncb.ac.cn/cancerscem/sample-details/ATC-026-05-1A\n",
      "CRC-030-01-1A\n",
      "Loading from cache: https://ngdc.cncb.ac.cn/cancerscem/sample-details/CRC-030-01-1A\n",
      "CRC-030-02-1A\n",
      "Downloading: https://ngdc.cncb.ac.cn/cancerscem/sample-details/CRC-030-02-1A\n",
      "CRC-030-03-1A\n",
      "Downloading: https://ngdc.cncb.ac.cn/cancerscem/sample-details/CRC-030-03-1A\n",
      "CRC-030-04-1A\n",
      "Downloading: https://ngdc.cncb.ac.cn/cancerscem/sample-details/CRC-030-04-1A\n",
      "CRC-030-05-1A\n",
      "Downloading: https://ngdc.cncb.ac.cn/cancerscem/sample-details/CRC-030-05-1A\n",
      "CRC-030-06-1A\n",
      "Downloading: https://ngdc.cncb.ac.cn/cancerscem/sample-details/CRC-030-06-1A\n",
      "CRC-030-07-1A\n",
      "Downloading: https://ngdc.cncb.ac.cn/cancerscem/sample-details/CRC-030-07-1A\n",
      "CRC-030-08-1A\n",
      "Downloading: https://ngdc.cncb.ac.cn/cancerscem/sample-details/CRC-030-08-1A\n",
      "CRC-030-09-1A\n",
      "Downloading: https://ngdc.cncb.ac.cn/cancerscem/sample-details/CRC-030-09-1A\n",
      "CRC-030-10-1A\n",
      "Downloading: https://ngdc.cncb.ac.cn/cancerscem/sample-details/CRC-030-10-1A\n",
      "CRC-030-11-1A\n",
      "Downloading: https://ngdc.cncb.ac.cn/cancerscem/sample-details/CRC-030-11-1A\n",
      "CRC-030-12-1A\n",
      "Downloading: https://ngdc.cncb.ac.cn/cancerscem/sample-details/CRC-030-12-1A\n",
      "CRC-030-13-1A\n",
      "Downloading: https://ngdc.cncb.ac.cn/cancerscem/sample-details/CRC-030-13-1A\n",
      "CRC-030-14-1A\n",
      "Downloading: https://ngdc.cncb.ac.cn/cancerscem/sample-details/CRC-030-14-1A\n",
      "BLCA-031-01-1A\n",
      "Loading from cache: https://ngdc.cncb.ac.cn/cancerscem/sample-details/BLCA-031-01-1A\n",
      "BLCA-031-02-1A\n",
      "Downloading: https://ngdc.cncb.ac.cn/cancerscem/sample-details/BLCA-031-02-1A\n",
      "BLCA-031-03-1A\n",
      "Downloading: https://ngdc.cncb.ac.cn/cancerscem/sample-details/BLCA-031-03-1A\n",
      "BLCA-031-04-1A\n",
      "Downloading: https://ngdc.cncb.ac.cn/cancerscem/sample-details/BLCA-031-04-1A\n",
      "BLCA-031-05-1A\n",
      "Downloading: https://ngdc.cncb.ac.cn/cancerscem/sample-details/BLCA-031-05-1A\n",
      "BLCA-031-06-1A\n",
      "Downloading: https://ngdc.cncb.ac.cn/cancerscem/sample-details/BLCA-031-06-1A\n",
      "BLCA-031-07-1A\n",
      "Downloading: https://ngdc.cncb.ac.cn/cancerscem/sample-details/BLCA-031-07-1A\n",
      "ESCC-032-01-1A\n",
      "Loading from cache: https://ngdc.cncb.ac.cn/cancerscem/sample-details/ESCC-032-01-1A\n",
      "ESCC-032-02-1A\n",
      "Downloading: https://ngdc.cncb.ac.cn/cancerscem/sample-details/ESCC-032-02-1A\n",
      "ESCC-032-03-1A\n",
      "Downloading: https://ngdc.cncb.ac.cn/cancerscem/sample-details/ESCC-032-03-1A\n",
      "LSCC-034-01-1G\n",
      "Loading from cache: https://ngdc.cncb.ac.cn/cancerscem/sample-details/LSCC-034-01-1G\n",
      "LSCC-034-02-1G\n",
      "Downloading: https://ngdc.cncb.ac.cn/cancerscem/sample-details/LSCC-034-02-1G\n",
      "CM-036-01-1A\n",
      "Loading from cache: https://ngdc.cncb.ac.cn/cancerscem/sample-details/CM-036-01-1A\n",
      "AM-036-01-1A\n",
      "Loading from cache: https://ngdc.cncb.ac.cn/cancerscem/sample-details/AM-036-01-1A\n",
      "CM-036-02-1A\n",
      "Downloading: https://ngdc.cncb.ac.cn/cancerscem/sample-details/CM-036-02-1A\n",
      "AM-036-02-1A\n",
      "Downloading: https://ngdc.cncb.ac.cn/cancerscem/sample-details/AM-036-02-1A\n",
      "CM-036-03-1A\n",
      "Downloading: https://ngdc.cncb.ac.cn/cancerscem/sample-details/CM-036-03-1A\n",
      "AM-036-03-1A\n",
      "Downloading: https://ngdc.cncb.ac.cn/cancerscem/sample-details/AM-036-03-1A\n",
      "AM-036-04-1A\n",
      "Downloading: https://ngdc.cncb.ac.cn/cancerscem/sample-details/AM-036-04-1A\n",
      "CM-036-04-1A\n",
      "Downloading: https://ngdc.cncb.ac.cn/cancerscem/sample-details/CM-036-04-1A\n",
      "AM-036-05-1A\n",
      "Downloading: https://ngdc.cncb.ac.cn/cancerscem/sample-details/AM-036-05-1A\n",
      "AM-036-06-1A\n",
      "Downloading: https://ngdc.cncb.ac.cn/cancerscem/sample-details/AM-036-06-1A\n",
      "AM-036-07-1A\n",
      "Downloading: https://ngdc.cncb.ac.cn/cancerscem/sample-details/AM-036-07-1A\n",
      "PAAD-038-01-1A\n",
      "Loading from cache: https://ngdc.cncb.ac.cn/cancerscem/sample-details/PAAD-038-01-1A\n",
      "PAAD-038-02-1A\n",
      "Downloading: https://ngdc.cncb.ac.cn/cancerscem/sample-details/PAAD-038-02-1A\n",
      "PAAD-038-03-1A\n",
      "Downloading: https://ngdc.cncb.ac.cn/cancerscem/sample-details/PAAD-038-03-1A\n",
      "TS-039-02-1A\n",
      "Loading from cache: https://ngdc.cncb.ac.cn/cancerscem/sample-details/TS-039-02-1A\n",
      "TS-039-03-1A\n",
      "Downloading: https://ngdc.cncb.ac.cn/cancerscem/sample-details/TS-039-03-1A\n",
      "TS-039-04-1A\n",
      "Downloading: https://ngdc.cncb.ac.cn/cancerscem/sample-details/TS-039-04-1A\n",
      "HGSOC-042-03-1A\n",
      "Loading from cache: https://ngdc.cncb.ac.cn/cancerscem/sample-details/HGSOC-042-03-1A\n",
      "HGSOC-042-04-1A\n",
      "Downloading: https://ngdc.cncb.ac.cn/cancerscem/sample-details/HGSOC-042-04-1A\n",
      "HNSCC-043-01-1A\n",
      "Loading from cache: https://ngdc.cncb.ac.cn/cancerscem/sample-details/HNSCC-043-01-1A\n",
      "HNSCC-043-02-1A\n",
      "Downloading: https://ngdc.cncb.ac.cn/cancerscem/sample-details/HNSCC-043-02-1A\n",
      "HNSCC-043-03-1A\n",
      "Downloading: https://ngdc.cncb.ac.cn/cancerscem/sample-details/HNSCC-043-03-1A\n",
      "PDAC-044-01-1A\n",
      "Loading from cache: https://ngdc.cncb.ac.cn/cancerscem/sample-details/PDAC-044-01-1A\n",
      "PDAC-044-02-1A\n",
      "Downloading: https://ngdc.cncb.ac.cn/cancerscem/sample-details/PDAC-044-02-1A\n",
      "PDAC-044-03-1A\n",
      "Downloading: https://ngdc.cncb.ac.cn/cancerscem/sample-details/PDAC-044-03-1A\n",
      "PDAC-044-04-1A\n",
      "Downloading: https://ngdc.cncb.ac.cn/cancerscem/sample-details/PDAC-044-04-1A\n",
      "PDAC-044-05-1A\n",
      "Downloading: https://ngdc.cncb.ac.cn/cancerscem/sample-details/PDAC-044-05-1A\n",
      "PDAC-044-06-1A\n",
      "Downloading: https://ngdc.cncb.ac.cn/cancerscem/sample-details/PDAC-044-06-1A\n",
      "GCTB-045-01-1A\n",
      "Loading from cache: https://ngdc.cncb.ac.cn/cancerscem/sample-details/GCTB-045-01-1A\n",
      "GCTB-045-02-1A\n",
      "Downloading: https://ngdc.cncb.ac.cn/cancerscem/sample-details/GCTB-045-02-1A\n",
      "PDAC-046-01-1A\n",
      "Loading from cache: https://ngdc.cncb.ac.cn/cancerscem/sample-details/PDAC-046-01-1A\n",
      "PDAC-046-02-1A\n",
      "Downloading: https://ngdc.cncb.ac.cn/cancerscem/sample-details/PDAC-046-02-1A\n",
      "PDAC-046-03-1A\n",
      "Downloading: https://ngdc.cncb.ac.cn/cancerscem/sample-details/PDAC-046-03-1A\n",
      "PDAC-046-04-1A\n",
      "Downloading: https://ngdc.cncb.ac.cn/cancerscem/sample-details/PDAC-046-04-1A\n",
      "PDAC-046-05-1A\n",
      "Downloading: https://ngdc.cncb.ac.cn/cancerscem/sample-details/PDAC-046-05-1A\n",
      "PDAC-046-06-1A\n",
      "Downloading: https://ngdc.cncb.ac.cn/cancerscem/sample-details/PDAC-046-06-1A\n",
      "ESCC-048-01-1A\n",
      "Loading from cache: https://ngdc.cncb.ac.cn/cancerscem/sample-details/ESCC-048-01-1A\n",
      "ESCC-048-02-1A\n",
      "Downloading: https://ngdc.cncb.ac.cn/cancerscem/sample-details/ESCC-048-02-1A\n",
      "ESCC-048-03-1A\n",
      "Downloading: https://ngdc.cncb.ac.cn/cancerscem/sample-details/ESCC-048-03-1A\n",
      "ESCC-048-04-1A\n",
      "Downloading: https://ngdc.cncb.ac.cn/cancerscem/sample-details/ESCC-048-04-1A\n",
      "ESCC-048-05-1A\n",
      "Downloading: https://ngdc.cncb.ac.cn/cancerscem/sample-details/ESCC-048-05-1A\n",
      "ESCC-048-06-1A\n",
      "Downloading: https://ngdc.cncb.ac.cn/cancerscem/sample-details/ESCC-048-06-1A\n",
      "ESCC-048-07-1A\n",
      "Downloading: https://ngdc.cncb.ac.cn/cancerscem/sample-details/ESCC-048-07-1A\n",
      "ESCC-048-08-1A\n",
      "Downloading: https://ngdc.cncb.ac.cn/cancerscem/sample-details/ESCC-048-08-1A\n",
      "ESCC-048-09-1A\n",
      "Downloading: https://ngdc.cncb.ac.cn/cancerscem/sample-details/ESCC-048-09-1A\n",
      "ESCC-048-10-1A\n",
      "Downloading: https://ngdc.cncb.ac.cn/cancerscem/sample-details/ESCC-048-10-1A\n",
      "ESCC-048-11-1A\n",
      "Downloading: https://ngdc.cncb.ac.cn/cancerscem/sample-details/ESCC-048-11-1A\n",
      "ESCC-048-12-1A\n",
      "Downloading: https://ngdc.cncb.ac.cn/cancerscem/sample-details/ESCC-048-12-1A\n",
      "ESCC-048-13-1A\n",
      "Downloading: https://ngdc.cncb.ac.cn/cancerscem/sample-details/ESCC-048-13-1A\n",
      "ESCC-048-14-1A\n",
      "Downloading: https://ngdc.cncb.ac.cn/cancerscem/sample-details/ESCC-048-14-1A\n",
      "ESCC-048-15-1A\n",
      "Downloading: https://ngdc.cncb.ac.cn/cancerscem/sample-details/ESCC-048-15-1A\n",
      "ESCC-048-16-1A\n",
      "Downloading: https://ngdc.cncb.ac.cn/cancerscem/sample-details/ESCC-048-16-1A\n",
      "ESCC-048-17-1A\n",
      "Downloading: https://ngdc.cncb.ac.cn/cancerscem/sample-details/ESCC-048-17-1A\n",
      "ESCC-048-18-1A\n",
      "Downloading: https://ngdc.cncb.ac.cn/cancerscem/sample-details/ESCC-048-18-1A\n",
      "HGSOC-049-01-1A\n",
      "Loading from cache: https://ngdc.cncb.ac.cn/cancerscem/sample-details/HGSOC-049-01-1A\n",
      "HGSOC-049-02-1A\n",
      "Downloading: https://ngdc.cncb.ac.cn/cancerscem/sample-details/HGSOC-049-02-1A\n",
      "HGSOC-049-03-1A\n",
      "Downloading: https://ngdc.cncb.ac.cn/cancerscem/sample-details/HGSOC-049-03-1A\n",
      "HGSOC-049-04-1A\n",
      "Downloading: https://ngdc.cncb.ac.cn/cancerscem/sample-details/HGSOC-049-04-1A\n",
      "HGSOC-049-05-1A\n",
      "Downloading: https://ngdc.cncb.ac.cn/cancerscem/sample-details/HGSOC-049-05-1A\n",
      "UL-050-01-1A\n",
      "Loading from cache: https://ngdc.cncb.ac.cn/cancerscem/sample-details/UL-050-01-1A\n",
      "UL-050-02-1A\n",
      "Downloading: https://ngdc.cncb.ac.cn/cancerscem/sample-details/UL-050-02-1A\n",
      "UL-050-03-1A\n",
      "Downloading: https://ngdc.cncb.ac.cn/cancerscem/sample-details/UL-050-03-1A\n",
      "UL-050-04-1A\n",
      "Downloading: https://ngdc.cncb.ac.cn/cancerscem/sample-details/UL-050-04-1A\n",
      "PDAC-051-01-1A\n",
      "Loading from cache: https://ngdc.cncb.ac.cn/cancerscem/sample-details/PDAC-051-01-1A\n",
      "PDAC-051-02-1A\n",
      "Downloading: https://ngdc.cncb.ac.cn/cancerscem/sample-details/PDAC-051-02-1A\n",
      "PDAC-051-04-1A\n",
      "Downloading: https://ngdc.cncb.ac.cn/cancerscem/sample-details/PDAC-051-04-1A\n",
      "PDAC-051-05-1A\n",
      "Downloading: https://ngdc.cncb.ac.cn/cancerscem/sample-details/PDAC-051-05-1A\n",
      "GCTB-052-01-1A\n",
      "Loading from cache: https://ngdc.cncb.ac.cn/cancerscem/sample-details/GCTB-052-01-1A\n",
      "TGCT-052-01-1A\n",
      "Loading from cache: https://ngdc.cncb.ac.cn/cancerscem/sample-details/TGCT-052-01-1A\n",
      "GCTB-052-02-1A\n",
      "Downloading: https://ngdc.cncb.ac.cn/cancerscem/sample-details/GCTB-052-02-1A\n",
      "TGCT-052-02-1A\n",
      "Downloading: https://ngdc.cncb.ac.cn/cancerscem/sample-details/TGCT-052-02-1A\n",
      "GCTB-052-03-1A\n",
      "Downloading: https://ngdc.cncb.ac.cn/cancerscem/sample-details/GCTB-052-03-1A\n",
      "TGCT-052-03-1A\n",
      "Downloading: https://ngdc.cncb.ac.cn/cancerscem/sample-details/TGCT-052-03-1A\n",
      "TGCT-052-04-1A\n",
      "Downloading: https://ngdc.cncb.ac.cn/cancerscem/sample-details/TGCT-052-04-1A\n",
      "TGCT-052-05-1A\n",
      "Downloading: https://ngdc.cncb.ac.cn/cancerscem/sample-details/TGCT-052-05-1A\n",
      "HCC-059-01-1A\n",
      "Loading from cache: https://ngdc.cncb.ac.cn/cancerscem/sample-details/HCC-059-01-1A\n",
      "HCC-059-02-1A\n",
      "Downloading: https://ngdc.cncb.ac.cn/cancerscem/sample-details/HCC-059-02-1A\n",
      "HCC-059-03-1A\n",
      "Downloading: https://ngdc.cncb.ac.cn/cancerscem/sample-details/HCC-059-03-1A\n",
      "HCC-059-04-1A\n",
      "Downloading: https://ngdc.cncb.ac.cn/cancerscem/sample-details/HCC-059-04-1A\n",
      "HCC-059-05-1A\n",
      "Downloading: https://ngdc.cncb.ac.cn/cancerscem/sample-details/HCC-059-05-1A\n",
      "HCC-059-06-1A\n",
      "Downloading: https://ngdc.cncb.ac.cn/cancerscem/sample-details/HCC-059-06-1A\n",
      "ccRCC-060-01-1A\n",
      "Loading from cache: https://ngdc.cncb.ac.cn/cancerscem/sample-details/ccRCC-060-01-1A\n",
      "ccRCC-060-02-1A\n",
      "Downloading: https://ngdc.cncb.ac.cn/cancerscem/sample-details/ccRCC-060-02-1A\n",
      "ccRCC-060-03-1A\n",
      "Downloading: https://ngdc.cncb.ac.cn/cancerscem/sample-details/ccRCC-060-03-1A\n",
      "ccRCC-060-04-1A\n",
      "Downloading: https://ngdc.cncb.ac.cn/cancerscem/sample-details/ccRCC-060-04-1A\n",
      "ccRCC-060-05-1A\n",
      "Downloading: https://ngdc.cncb.ac.cn/cancerscem/sample-details/ccRCC-060-05-1A\n",
      "ccRCC-060-06-1A\n",
      "Downloading: https://ngdc.cncb.ac.cn/cancerscem/sample-details/ccRCC-060-06-1A\n",
      "ccRCC-060-07-1A\n",
      "Downloading: https://ngdc.cncb.ac.cn/cancerscem/sample-details/ccRCC-060-07-1A\n",
      "ccRCC-061-01-1A\n",
      "Loading from cache: https://ngdc.cncb.ac.cn/cancerscem/sample-details/ccRCC-061-01-1A\n",
      "ccRCC-061-02-1A\n",
      "Downloading: https://ngdc.cncb.ac.cn/cancerscem/sample-details/ccRCC-061-02-1A\n",
      "ccRCC-061-03-1A\n",
      "Downloading: https://ngdc.cncb.ac.cn/cancerscem/sample-details/ccRCC-061-03-1A\n",
      "ccRCC-061-04-1A\n",
      "Downloading: https://ngdc.cncb.ac.cn/cancerscem/sample-details/ccRCC-061-04-1A\n",
      "ccRCC-061-05-1A\n",
      "Downloading: https://ngdc.cncb.ac.cn/cancerscem/sample-details/ccRCC-061-05-1A\n",
      "ccRCC-061-06-1A\n",
      "Downloading: https://ngdc.cncb.ac.cn/cancerscem/sample-details/ccRCC-061-06-1A\n",
      "ccRCC-061-07-1A\n",
      "Downloading: https://ngdc.cncb.ac.cn/cancerscem/sample-details/ccRCC-061-07-1A\n",
      "ccRCC-061-08-1A\n",
      "Downloading: https://ngdc.cncb.ac.cn/cancerscem/sample-details/ccRCC-061-08-1A\n",
      "ccRCC-061-09-1A\n",
      "Downloading: https://ngdc.cncb.ac.cn/cancerscem/sample-details/ccRCC-061-09-1A\n",
      "ccRCC-061-10-1A\n",
      "Downloading: https://ngdc.cncb.ac.cn/cancerscem/sample-details/ccRCC-061-10-1A\n",
      "ccRCC-061-11-1A\n",
      "Downloading: https://ngdc.cncb.ac.cn/cancerscem/sample-details/ccRCC-061-11-1A\n",
      "ccRCC-061-12-1A\n",
      "Downloading: https://ngdc.cncb.ac.cn/cancerscem/sample-details/ccRCC-061-12-1A\n",
      "ccRCC-061-13-1A\n",
      "Downloading: https://ngdc.cncb.ac.cn/cancerscem/sample-details/ccRCC-061-13-1A\n",
      "ccRCC-061-14-1A\n",
      "Downloading: https://ngdc.cncb.ac.cn/cancerscem/sample-details/ccRCC-061-14-1A\n",
      "ccRCC-061-15-1A\n",
      "Downloading: https://ngdc.cncb.ac.cn/cancerscem/sample-details/ccRCC-061-15-1A\n",
      "PRAD-063-01-1A\n",
      "Loading from cache: https://ngdc.cncb.ac.cn/cancerscem/sample-details/PRAD-063-01-1A\n",
      "PRAD-063-02-1A\n",
      "Downloading: https://ngdc.cncb.ac.cn/cancerscem/sample-details/PRAD-063-02-1A\n",
      "PRAD-063-03-1A\n",
      "Downloading: https://ngdc.cncb.ac.cn/cancerscem/sample-details/PRAD-063-03-1A\n",
      "PRAD-063-04-1A\n",
      "Downloading: https://ngdc.cncb.ac.cn/cancerscem/sample-details/PRAD-063-04-1A\n",
      "PRAD-063-05-1A\n",
      "Downloading: https://ngdc.cncb.ac.cn/cancerscem/sample-details/PRAD-063-05-1A\n",
      "PRAD-063-06-1A\n",
      "Downloading: https://ngdc.cncb.ac.cn/cancerscem/sample-details/PRAD-063-06-1A\n",
      "PRAD-063-07-1A\n",
      "Downloading: https://ngdc.cncb.ac.cn/cancerscem/sample-details/PRAD-063-07-1A\n",
      "PRAD-063-08-1A\n",
      "Downloading: https://ngdc.cncb.ac.cn/cancerscem/sample-details/PRAD-063-08-1A\n",
      "PRAD-063-09-1A\n",
      "Downloading: https://ngdc.cncb.ac.cn/cancerscem/sample-details/PRAD-063-09-1A\n",
      "PRAD-063-10-1A\n",
      "Downloading: https://ngdc.cncb.ac.cn/cancerscem/sample-details/PRAD-063-10-1A\n",
      "PRAD-063-11-1A\n",
      "Downloading: https://ngdc.cncb.ac.cn/cancerscem/sample-details/PRAD-063-11-1A\n",
      "PRAD-063-12-1A\n",
      "Downloading: https://ngdc.cncb.ac.cn/cancerscem/sample-details/PRAD-063-12-1A\n",
      "PRAD-063-13-1A\n",
      "Downloading: https://ngdc.cncb.ac.cn/cancerscem/sample-details/PRAD-063-13-1A\n",
      "PRAD-063-14-1A\n",
      "Downloading: https://ngdc.cncb.ac.cn/cancerscem/sample-details/PRAD-063-14-1A\n",
      "PRAD-063-15-1A\n",
      "Downloading: https://ngdc.cncb.ac.cn/cancerscem/sample-details/PRAD-063-15-1A\n",
      "PRAD-063-16-1A\n",
      "Downloading: https://ngdc.cncb.ac.cn/cancerscem/sample-details/PRAD-063-16-1A\n",
      "PRAD-063-17-1A\n",
      "Downloading: https://ngdc.cncb.ac.cn/cancerscem/sample-details/PRAD-063-17-1A\n",
      "PDAC-064-01-1A\n",
      "Loading from cache: https://ngdc.cncb.ac.cn/cancerscem/sample-details/PDAC-064-01-1A\n",
      "PDAC-064-02-1A\n",
      "Downloading: https://ngdc.cncb.ac.cn/cancerscem/sample-details/PDAC-064-02-1A\n",
      "PDAC-064-03-1A\n",
      "Downloading: https://ngdc.cncb.ac.cn/cancerscem/sample-details/PDAC-064-03-1A\n",
      "PDAC-064-04-1A\n",
      "Downloading: https://ngdc.cncb.ac.cn/cancerscem/sample-details/PDAC-064-04-1A\n",
      "PDAC-064-05-1A\n",
      "Downloading: https://ngdc.cncb.ac.cn/cancerscem/sample-details/PDAC-064-05-1A\n",
      "PDAC-064-06-1A\n",
      "Downloading: https://ngdc.cncb.ac.cn/cancerscem/sample-details/PDAC-064-06-1A\n",
      "PDAC-064-07-1A\n",
      "Downloading: https://ngdc.cncb.ac.cn/cancerscem/sample-details/PDAC-064-07-1A\n",
      "PDAC-064-08-1A\n",
      "Downloading: https://ngdc.cncb.ac.cn/cancerscem/sample-details/PDAC-064-08-1A\n",
      "PDAC-064-09-1A\n",
      "Downloading: https://ngdc.cncb.ac.cn/cancerscem/sample-details/PDAC-064-09-1A\n",
      "PDAC-064-10-1A\n",
      "Downloading: https://ngdc.cncb.ac.cn/cancerscem/sample-details/PDAC-064-10-1A\n",
      "PDAC-064-11-1A\n",
      "Downloading: https://ngdc.cncb.ac.cn/cancerscem/sample-details/PDAC-064-11-1A\n",
      "PDAC-064-12-1A\n",
      "Downloading: https://ngdc.cncb.ac.cn/cancerscem/sample-details/PDAC-064-12-1A\n",
      "PDAC-064-13-1A\n",
      "Downloading: https://ngdc.cncb.ac.cn/cancerscem/sample-details/PDAC-064-13-1A\n",
      "PDAC-064-14-1A\n",
      "Downloading: https://ngdc.cncb.ac.cn/cancerscem/sample-details/PDAC-064-14-1A\n",
      "PDAC-064-15-1A\n",
      "Downloading: https://ngdc.cncb.ac.cn/cancerscem/sample-details/PDAC-064-15-1A\n",
      "PDAC-064-16-1A\n",
      "Downloading: https://ngdc.cncb.ac.cn/cancerscem/sample-details/PDAC-064-16-1A\n",
      "PDAC-064-17-1A\n",
      "Downloading: https://ngdc.cncb.ac.cn/cancerscem/sample-details/PDAC-064-17-1A\n",
      "PDAC-064-18-1A\n",
      "Downloading: https://ngdc.cncb.ac.cn/cancerscem/sample-details/PDAC-064-18-1A\n",
      "PDAC-064-19-1A\n",
      "Downloading: https://ngdc.cncb.ac.cn/cancerscem/sample-details/PDAC-064-19-1A\n",
      "PDAC-064-20-1A\n",
      "Downloading: https://ngdc.cncb.ac.cn/cancerscem/sample-details/PDAC-064-20-1A\n",
      "PDAC-064-21-1A\n",
      "Downloading: https://ngdc.cncb.ac.cn/cancerscem/sample-details/PDAC-064-21-1A\n",
      "PDAC-064-22-1A\n",
      "Downloading: https://ngdc.cncb.ac.cn/cancerscem/sample-details/PDAC-064-22-1A\n",
      "PDAC-064-23-1A\n",
      "Downloading: https://ngdc.cncb.ac.cn/cancerscem/sample-details/PDAC-064-23-1A\n",
      "PDAC-064-24-1A\n",
      "Downloading: https://ngdc.cncb.ac.cn/cancerscem/sample-details/PDAC-064-24-1A\n",
      "PDAC-064-25-1A\n",
      "Downloading: https://ngdc.cncb.ac.cn/cancerscem/sample-details/PDAC-064-25-1A\n",
      "PDAC-064-26-1A\n",
      "Downloading: https://ngdc.cncb.ac.cn/cancerscem/sample-details/PDAC-064-26-1A\n",
      "PDAC-064-27-1A\n",
      "Downloading: https://ngdc.cncb.ac.cn/cancerscem/sample-details/PDAC-064-27-1A\n",
      "PDAC-064-28-1A\n",
      "Downloading: https://ngdc.cncb.ac.cn/cancerscem/sample-details/PDAC-064-28-1A\n",
      "PDAC-064-29-1A\n",
      "Downloading: https://ngdc.cncb.ac.cn/cancerscem/sample-details/PDAC-064-29-1A\n",
      "PDAC-064-30-1A\n",
      "Downloading: https://ngdc.cncb.ac.cn/cancerscem/sample-details/PDAC-064-30-1A\n",
      "PDAC-064-31-1A\n",
      "Downloading: https://ngdc.cncb.ac.cn/cancerscem/sample-details/PDAC-064-31-1A\n",
      "PDAC-064-32-1A\n",
      "Downloading: https://ngdc.cncb.ac.cn/cancerscem/sample-details/PDAC-064-32-1A\n",
      "PDAC-064-33-1A\n",
      "Downloading: https://ngdc.cncb.ac.cn/cancerscem/sample-details/PDAC-064-33-1A\n",
      "PDAC-064-34-1A\n",
      "Downloading: https://ngdc.cncb.ac.cn/cancerscem/sample-details/PDAC-064-34-1A\n",
      "PDAC-064-35-1A\n",
      "Downloading: https://ngdc.cncb.ac.cn/cancerscem/sample-details/PDAC-064-35-1A\n",
      "PDAC-064-36-1A\n",
      "Downloading: https://ngdc.cncb.ac.cn/cancerscem/sample-details/PDAC-064-36-1A\n",
      "PDAC-064-37-1A\n",
      "Downloading: https://ngdc.cncb.ac.cn/cancerscem/sample-details/PDAC-064-37-1A\n",
      "PDAC-064-38-1A\n",
      "Downloading: https://ngdc.cncb.ac.cn/cancerscem/sample-details/PDAC-064-38-1A\n",
      "PDAC-064-39-1A\n",
      "Downloading: https://ngdc.cncb.ac.cn/cancerscem/sample-details/PDAC-064-39-1A\n",
      "PDAC-064-40-1A\n",
      "Downloading: https://ngdc.cncb.ac.cn/cancerscem/sample-details/PDAC-064-40-1A\n",
      "PDAC-064-41-1A\n",
      "Downloading: https://ngdc.cncb.ac.cn/cancerscem/sample-details/PDAC-064-41-1A\n",
      "PDAC-064-42-1A\n",
      "Downloading: https://ngdc.cncb.ac.cn/cancerscem/sample-details/PDAC-064-42-1A\n",
      "PDAC-064-43-1A\n",
      "Downloading: https://ngdc.cncb.ac.cn/cancerscem/sample-details/PDAC-064-43-1A\n",
      "PDAC-064-44-1A\n",
      "Downloading: https://ngdc.cncb.ac.cn/cancerscem/sample-details/PDAC-064-44-1A\n",
      "PDAC-064-45-1A\n",
      "Downloading: https://ngdc.cncb.ac.cn/cancerscem/sample-details/PDAC-064-45-1A\n",
      "PDAC-064-46-1A\n",
      "Downloading: https://ngdc.cncb.ac.cn/cancerscem/sample-details/PDAC-064-46-1A\n",
      "PDAC-064-47-1A\n",
      "Downloading: https://ngdc.cncb.ac.cn/cancerscem/sample-details/PDAC-064-47-1A\n",
      "PDAC-064-48-1A\n",
      "Downloading: https://ngdc.cncb.ac.cn/cancerscem/sample-details/PDAC-064-48-1A\n",
      "PDAC-064-49-1A\n",
      "Downloading: https://ngdc.cncb.ac.cn/cancerscem/sample-details/PDAC-064-49-1A\n",
      "PDAC-064-50-1A\n",
      "Downloading: https://ngdc.cncb.ac.cn/cancerscem/sample-details/PDAC-064-50-1A\n",
      "PDAC-064-51-1A\n",
      "Downloading: https://ngdc.cncb.ac.cn/cancerscem/sample-details/PDAC-064-51-1A\n",
      "PDAC-064-52-1A\n",
      "Downloading: https://ngdc.cncb.ac.cn/cancerscem/sample-details/PDAC-064-52-1A\n",
      "PDAC-064-53-1A\n",
      "Downloading: https://ngdc.cncb.ac.cn/cancerscem/sample-details/PDAC-064-53-1A\n",
      "PDAC-064-54-1A\n",
      "Downloading: https://ngdc.cncb.ac.cn/cancerscem/sample-details/PDAC-064-54-1A\n",
      "PDAC-064-55-1A\n",
      "Downloading: https://ngdc.cncb.ac.cn/cancerscem/sample-details/PDAC-064-55-1A\n",
      "PDAC-064-56-1A\n",
      "Downloading: https://ngdc.cncb.ac.cn/cancerscem/sample-details/PDAC-064-56-1A\n",
      "PDAC-064-57-1A\n",
      "Downloading: https://ngdc.cncb.ac.cn/cancerscem/sample-details/PDAC-064-57-1A\n",
      "PDAC-064-58-1A\n",
      "Downloading: https://ngdc.cncb.ac.cn/cancerscem/sample-details/PDAC-064-58-1A\n",
      "PDAC-064-59-1A\n",
      "Downloading: https://ngdc.cncb.ac.cn/cancerscem/sample-details/PDAC-064-59-1A\n",
      "PDAC-064-60-1A\n",
      "Downloading: https://ngdc.cncb.ac.cn/cancerscem/sample-details/PDAC-064-60-1A\n",
      "MESO-065-01-1A\n",
      "Loading from cache: https://ngdc.cncb.ac.cn/cancerscem/sample-details/MESO-065-01-1A\n",
      "MESO-065-02-1A\n",
      "Downloading: https://ngdc.cncb.ac.cn/cancerscem/sample-details/MESO-065-02-1A\n",
      "MESO-065-03-1A\n",
      "Downloading: https://ngdc.cncb.ac.cn/cancerscem/sample-details/MESO-065-03-1A\n",
      "iCCA-066-01-1A\n",
      "Loading from cache: https://ngdc.cncb.ac.cn/cancerscem/sample-details/iCCA-066-01-1A\n",
      "GBC-066-03-1A\n",
      "Loading from cache: https://ngdc.cncb.ac.cn/cancerscem/sample-details/GBC-066-03-1A\n",
      "iCCA-066-03-1A\n",
      "Downloading: https://ngdc.cncb.ac.cn/cancerscem/sample-details/iCCA-066-03-1A\n",
      "iCCA-066-04-1A\n",
      "Downloading: https://ngdc.cncb.ac.cn/cancerscem/sample-details/iCCA-066-04-1A\n",
      "GBC-066-06-1A\n",
      "Downloading: https://ngdc.cncb.ac.cn/cancerscem/sample-details/GBC-066-06-1A\n",
      "iCCA-066-06-1A\n",
      "Downloading: https://ngdc.cncb.ac.cn/cancerscem/sample-details/iCCA-066-06-1A\n",
      "GBC-066-07-1A\n",
      "Downloading: https://ngdc.cncb.ac.cn/cancerscem/sample-details/GBC-066-07-1A\n",
      "CRC-067-01-1A\n",
      "Loading from cache: https://ngdc.cncb.ac.cn/cancerscem/sample-details/CRC-067-01-1A\n",
      "CRC-067-02-1A\n",
      "Downloading: https://ngdc.cncb.ac.cn/cancerscem/sample-details/CRC-067-02-1A\n",
      "CRC-067-03-1A\n",
      "Downloading: https://ngdc.cncb.ac.cn/cancerscem/sample-details/CRC-067-03-1A\n",
      "CRC-067-04-1A\n",
      "Downloading: https://ngdc.cncb.ac.cn/cancerscem/sample-details/CRC-067-04-1A\n",
      "MPLC-068-01-1A\n",
      "Loading from cache: https://ngdc.cncb.ac.cn/cancerscem/sample-details/MPLC-068-01-1A\n",
      "MPLC-068-02-1A\n",
      "Downloading: https://ngdc.cncb.ac.cn/cancerscem/sample-details/MPLC-068-02-1A\n",
      "MPLC-068-03-1A\n",
      "Downloading: https://ngdc.cncb.ac.cn/cancerscem/sample-details/MPLC-068-03-1A\n",
      "MPLC-068-04-1A\n",
      "Downloading: https://ngdc.cncb.ac.cn/cancerscem/sample-details/MPLC-068-04-1A\n",
      "MPLC-068-05-1A\n",
      "Downloading: https://ngdc.cncb.ac.cn/cancerscem/sample-details/MPLC-068-05-1A\n",
      "MPLC-068-06-1A\n",
      "Downloading: https://ngdc.cncb.ac.cn/cancerscem/sample-details/MPLC-068-06-1A\n",
      "MPLC-068-07-1A\n",
      "Downloading: https://ngdc.cncb.ac.cn/cancerscem/sample-details/MPLC-068-07-1A\n",
      "PTC-069-01-1A\n",
      "Loading from cache: https://ngdc.cncb.ac.cn/cancerscem/sample-details/PTC-069-01-1A\n",
      "PTC-069-02-1A\n",
      "Downloading: https://ngdc.cncb.ac.cn/cancerscem/sample-details/PTC-069-02-1A\n",
      "PTC-069-03-1A\n",
      "Downloading: https://ngdc.cncb.ac.cn/cancerscem/sample-details/PTC-069-03-1A\n",
      "PTC-069-04-1A\n",
      "Downloading: https://ngdc.cncb.ac.cn/cancerscem/sample-details/PTC-069-04-1A\n",
      "PTC-069-05-1A\n",
      "Downloading: https://ngdc.cncb.ac.cn/cancerscem/sample-details/PTC-069-05-1A\n",
      "PTC-069-06-1A\n",
      "Downloading: https://ngdc.cncb.ac.cn/cancerscem/sample-details/PTC-069-06-1A\n",
      "WT-070-01-1A\n",
      "Loading from cache: https://ngdc.cncb.ac.cn/cancerscem/sample-details/WT-070-01-1A\n",
      "WT-070-02-1A\n",
      "Downloading: https://ngdc.cncb.ac.cn/cancerscem/sample-details/WT-070-02-1A\n",
      "WT-070-03-1A\n",
      "Downloading: https://ngdc.cncb.ac.cn/cancerscem/sample-details/WT-070-03-1A\n",
      "WT-070-04-1A\n",
      "Downloading: https://ngdc.cncb.ac.cn/cancerscem/sample-details/WT-070-04-1A\n",
      "WT-070-05-1A\n",
      "Downloading: https://ngdc.cncb.ac.cn/cancerscem/sample-details/WT-070-05-1A\n",
      "WT-070-06-1A\n",
      "Downloading: https://ngdc.cncb.ac.cn/cancerscem/sample-details/WT-070-06-1A\n",
      "WT-070-07-1A\n",
      "Downloading: https://ngdc.cncb.ac.cn/cancerscem/sample-details/WT-070-07-1A\n",
      "WT-070-08-1A\n",
      "Downloading: https://ngdc.cncb.ac.cn/cancerscem/sample-details/WT-070-08-1A\n",
      "WT-070-09-1A\n",
      "Downloading: https://ngdc.cncb.ac.cn/cancerscem/sample-details/WT-070-09-1A\n",
      "WT-070-10-1A\n",
      "Downloading: https://ngdc.cncb.ac.cn/cancerscem/sample-details/WT-070-10-1A\n",
      "WT-070-11-1A\n",
      "Downloading: https://ngdc.cncb.ac.cn/cancerscem/sample-details/WT-070-11-1A\n",
      "WT-070-12-1A\n",
      "Downloading: https://ngdc.cncb.ac.cn/cancerscem/sample-details/WT-070-12-1A\n",
      "WT-070-13-1A\n",
      "Downloading: https://ngdc.cncb.ac.cn/cancerscem/sample-details/WT-070-13-1A\n",
      "WT-070-14-1A\n",
      "Downloading: https://ngdc.cncb.ac.cn/cancerscem/sample-details/WT-070-14-1A\n",
      "WT-070-15-1A\n",
      "Downloading: https://ngdc.cncb.ac.cn/cancerscem/sample-details/WT-070-15-1A\n",
      "WT-070-16-1A\n",
      "Downloading: https://ngdc.cncb.ac.cn/cancerscem/sample-details/WT-070-16-1A\n",
      "WT-070-17-1A\n",
      "Downloading: https://ngdc.cncb.ac.cn/cancerscem/sample-details/WT-070-17-1A\n",
      "WT-070-18-1A\n",
      "Downloading: https://ngdc.cncb.ac.cn/cancerscem/sample-details/WT-070-18-1A\n",
      "WT-070-19-1A\n",
      "Downloading: https://ngdc.cncb.ac.cn/cancerscem/sample-details/WT-070-19-1A\n",
      "WT-070-20-1A\n",
      "Downloading: https://ngdc.cncb.ac.cn/cancerscem/sample-details/WT-070-20-1A\n",
      "WT-070-21-1A\n",
      "Downloading: https://ngdc.cncb.ac.cn/cancerscem/sample-details/WT-070-21-1A\n",
      "WT-070-22-1A\n",
      "Downloading: https://ngdc.cncb.ac.cn/cancerscem/sample-details/WT-070-22-1A\n",
      "WT-070-23-1A\n",
      "Downloading: https://ngdc.cncb.ac.cn/cancerscem/sample-details/WT-070-23-1A\n",
      "WT-070-24-1A\n",
      "Downloading: https://ngdc.cncb.ac.cn/cancerscem/sample-details/WT-070-24-1A\n",
      "WT-070-25-1A\n",
      "Downloading: https://ngdc.cncb.ac.cn/cancerscem/sample-details/WT-070-25-1A\n",
      "WT-070-26-1A\n",
      "Downloading: https://ngdc.cncb.ac.cn/cancerscem/sample-details/WT-070-26-1A\n",
      "WT-070-27-1A\n",
      "Downloading: https://ngdc.cncb.ac.cn/cancerscem/sample-details/WT-070-27-1A\n",
      "WT-070-28-1A\n",
      "Downloading: https://ngdc.cncb.ac.cn/cancerscem/sample-details/WT-070-28-1A\n",
      "WT-070-29-1A\n",
      "Downloading: https://ngdc.cncb.ac.cn/cancerscem/sample-details/WT-070-29-1A\n",
      "WT-070-30-1A\n",
      "Downloading: https://ngdc.cncb.ac.cn/cancerscem/sample-details/WT-070-30-1A\n",
      "WT-070-31-1A\n",
      "Downloading: https://ngdc.cncb.ac.cn/cancerscem/sample-details/WT-070-31-1A\n",
      "WT-070-32-1A\n",
      "Downloading: https://ngdc.cncb.ac.cn/cancerscem/sample-details/WT-070-32-1A\n",
      "WT-070-33-1A\n",
      "Downloading: https://ngdc.cncb.ac.cn/cancerscem/sample-details/WT-070-33-1A\n",
      "WT-070-34-1A\n",
      "Downloading: https://ngdc.cncb.ac.cn/cancerscem/sample-details/WT-070-34-1A\n",
      "WT-070-35-1A\n",
      "Downloading: https://ngdc.cncb.ac.cn/cancerscem/sample-details/WT-070-35-1A\n",
      "WT-070-36-1A\n",
      "Downloading: https://ngdc.cncb.ac.cn/cancerscem/sample-details/WT-070-36-1A\n",
      "WT-070-37-1A\n",
      "Downloading: https://ngdc.cncb.ac.cn/cancerscem/sample-details/WT-070-37-1A\n",
      "WT-070-38-1A\n",
      "Downloading: https://ngdc.cncb.ac.cn/cancerscem/sample-details/WT-070-38-1A\n",
      "WT-070-39-1A\n",
      "Downloading: https://ngdc.cncb.ac.cn/cancerscem/sample-details/WT-070-39-1A\n",
      "WT-070-40-1A\n",
      "Downloading: https://ngdc.cncb.ac.cn/cancerscem/sample-details/WT-070-40-1A\n",
      "BRCA-071-03-1A\n",
      "Loading from cache: https://ngdc.cncb.ac.cn/cancerscem/sample-details/BRCA-071-03-1A\n",
      "BRCA-071-06-1A\n",
      "Downloading: https://ngdc.cncb.ac.cn/cancerscem/sample-details/BRCA-071-06-1A\n",
      "BRCA-071-09-1A\n",
      "Downloading: https://ngdc.cncb.ac.cn/cancerscem/sample-details/BRCA-071-09-1A\n",
      "BRCA-071-12-1A\n",
      "Downloading: https://ngdc.cncb.ac.cn/cancerscem/sample-details/BRCA-071-12-1A\n",
      "TNBC-075-01-1A\n",
      "Loading from cache: https://ngdc.cncb.ac.cn/cancerscem/sample-details/TNBC-075-01-1A\n",
      "TNBC-075-02-1A\n",
      "Downloading: https://ngdc.cncb.ac.cn/cancerscem/sample-details/TNBC-075-02-1A\n",
      "TNBC-075-03-1A\n",
      "Downloading: https://ngdc.cncb.ac.cn/cancerscem/sample-details/TNBC-075-03-1A\n",
      "GBM-077-01-1A\n",
      "Loading from cache: https://ngdc.cncb.ac.cn/cancerscem/sample-details/GBM-077-01-1A\n",
      "GBM-077-02-1A\n",
      "Downloading: https://ngdc.cncb.ac.cn/cancerscem/sample-details/GBM-077-02-1A\n",
      "GBM-077-03-1A\n",
      "Downloading: https://ngdc.cncb.ac.cn/cancerscem/sample-details/GBM-077-03-1A\n",
      "GBM-077-04-1A\n",
      "Downloading: https://ngdc.cncb.ac.cn/cancerscem/sample-details/GBM-077-04-1A\n",
      "GBM-077-05-1A\n",
      "Downloading: https://ngdc.cncb.ac.cn/cancerscem/sample-details/GBM-077-05-1A\n",
      "GBM-077-06-1A\n",
      "Downloading: https://ngdc.cncb.ac.cn/cancerscem/sample-details/GBM-077-06-1A\n",
      "GBM-077-07-1A\n",
      "Downloading: https://ngdc.cncb.ac.cn/cancerscem/sample-details/GBM-077-07-1A\n",
      "GBM-077-08-1A\n",
      "Downloading: https://ngdc.cncb.ac.cn/cancerscem/sample-details/GBM-077-08-1A\n",
      "GBM-077-09-1A\n",
      "Downloading: https://ngdc.cncb.ac.cn/cancerscem/sample-details/GBM-077-09-1A\n",
      "GBM-077-10-1A\n",
      "Downloading: https://ngdc.cncb.ac.cn/cancerscem/sample-details/GBM-077-10-1A\n",
      "GBM-077-11-1A\n",
      "Downloading: https://ngdc.cncb.ac.cn/cancerscem/sample-details/GBM-077-11-1A\n",
      "GBM-077-12-1A\n",
      "Downloading: https://ngdc.cncb.ac.cn/cancerscem/sample-details/GBM-077-12-1A\n",
      "GBM-077-13-1A\n",
      "Downloading: https://ngdc.cncb.ac.cn/cancerscem/sample-details/GBM-077-13-1A\n",
      "GBM-077-14-1A\n",
      "Downloading: https://ngdc.cncb.ac.cn/cancerscem/sample-details/GBM-077-14-1A\n",
      "GBM-077-15-1A\n",
      "Downloading: https://ngdc.cncb.ac.cn/cancerscem/sample-details/GBM-077-15-1A\n",
      "GBM-077-16-1A\n",
      "Downloading: https://ngdc.cncb.ac.cn/cancerscem/sample-details/GBM-077-16-1A\n",
      "GBM-077-17-1A\n",
      "Downloading: https://ngdc.cncb.ac.cn/cancerscem/sample-details/GBM-077-17-1A\n",
      "GBM-077-18-1A\n",
      "Downloading: https://ngdc.cncb.ac.cn/cancerscem/sample-details/GBM-077-18-1A\n",
      "MB-078-01-1A\n",
      "Loading from cache: https://ngdc.cncb.ac.cn/cancerscem/sample-details/MB-078-01-1A\n",
      "MB-078-02-1A\n",
      "Downloading: https://ngdc.cncb.ac.cn/cancerscem/sample-details/MB-078-02-1A\n",
      "MB-078-03-1A\n",
      "Downloading: https://ngdc.cncb.ac.cn/cancerscem/sample-details/MB-078-03-1A\n",
      "MB-078-04-1A\n",
      "Downloading: https://ngdc.cncb.ac.cn/cancerscem/sample-details/MB-078-04-1A\n",
      "MB-078-05-1A\n",
      "Downloading: https://ngdc.cncb.ac.cn/cancerscem/sample-details/MB-078-05-1A\n",
      "MB-078-06-1A\n",
      "Downloading: https://ngdc.cncb.ac.cn/cancerscem/sample-details/MB-078-06-1A\n",
      "ESCC-079-01-1A\n",
      "Loading from cache: https://ngdc.cncb.ac.cn/cancerscem/sample-details/ESCC-079-01-1A\n",
      "ESCC-079-02-1A\n",
      "Downloading: https://ngdc.cncb.ac.cn/cancerscem/sample-details/ESCC-079-02-1A\n",
      "ESCC-079-03-1A\n",
      "Downloading: https://ngdc.cncb.ac.cn/cancerscem/sample-details/ESCC-079-03-1A\n",
      "ESCC-079-04-1A\n",
      "Downloading: https://ngdc.cncb.ac.cn/cancerscem/sample-details/ESCC-079-04-1A\n",
      "ESCC-079-05-1A\n",
      "Downloading: https://ngdc.cncb.ac.cn/cancerscem/sample-details/ESCC-079-05-1A\n",
      "ESCC-079-06-1A\n",
      "Downloading: https://ngdc.cncb.ac.cn/cancerscem/sample-details/ESCC-079-06-1A\n",
      "ESCC-079-07-1A\n",
      "Downloading: https://ngdc.cncb.ac.cn/cancerscem/sample-details/ESCC-079-07-1A\n",
      "ESCC-079-08-1A\n",
      "Downloading: https://ngdc.cncb.ac.cn/cancerscem/sample-details/ESCC-079-08-1A\n",
      "ESCC-079-09-1A\n",
      "Downloading: https://ngdc.cncb.ac.cn/cancerscem/sample-details/ESCC-079-09-1A\n",
      "ESCC-079-10-1A\n",
      "Downloading: https://ngdc.cncb.ac.cn/cancerscem/sample-details/ESCC-079-10-1A\n",
      "ESCC-079-11-1A\n",
      "Downloading: https://ngdc.cncb.ac.cn/cancerscem/sample-details/ESCC-079-11-1A\n",
      "ESCC-079-12-1A\n",
      "Downloading: https://ngdc.cncb.ac.cn/cancerscem/sample-details/ESCC-079-12-1A\n",
      "GBM-080-01-1F\n",
      "Loading from cache: https://ngdc.cncb.ac.cn/cancerscem/sample-details/GBM-080-01-1F\n",
      "GBM-080-02-1F\n",
      "Downloading: https://ngdc.cncb.ac.cn/cancerscem/sample-details/GBM-080-02-1F\n",
      "MB-081-01-1A\n",
      "Loading from cache: https://ngdc.cncb.ac.cn/cancerscem/sample-details/MB-081-01-1A\n",
      "MB-081-02-1A\n",
      "Downloading: https://ngdc.cncb.ac.cn/cancerscem/sample-details/MB-081-02-1A\n",
      "MB-081-03-1A\n",
      "Downloading: https://ngdc.cncb.ac.cn/cancerscem/sample-details/MB-081-03-1A\n",
      "MB-081-04-1A\n",
      "Downloading: https://ngdc.cncb.ac.cn/cancerscem/sample-details/MB-081-04-1A\n",
      "MB-081-05-1A\n",
      "Downloading: https://ngdc.cncb.ac.cn/cancerscem/sample-details/MB-081-05-1A\n",
      "MB-081-06-1A\n",
      "Downloading: https://ngdc.cncb.ac.cn/cancerscem/sample-details/MB-081-06-1A\n",
      "MB-081-07-1A\n",
      "Downloading: https://ngdc.cncb.ac.cn/cancerscem/sample-details/MB-081-07-1A\n",
      "MB-081-08-1A\n",
      "Downloading: https://ngdc.cncb.ac.cn/cancerscem/sample-details/MB-081-08-1A\n",
      "MB-081-09-1A\n",
      "Downloading: https://ngdc.cncb.ac.cn/cancerscem/sample-details/MB-081-09-1A\n",
      "MB-081-10-1A\n",
      "Downloading: https://ngdc.cncb.ac.cn/cancerscem/sample-details/MB-081-10-1A\n",
      "MB-081-11-1A\n",
      "Downloading: https://ngdc.cncb.ac.cn/cancerscem/sample-details/MB-081-11-1A\n",
      "MB-081-12-1A\n",
      "Downloading: https://ngdc.cncb.ac.cn/cancerscem/sample-details/MB-081-12-1A\n",
      "MB-081-13-1A\n",
      "Downloading: https://ngdc.cncb.ac.cn/cancerscem/sample-details/MB-081-13-1A\n",
      "PRAD-082-01-1A\n",
      "Loading from cache: https://ngdc.cncb.ac.cn/cancerscem/sample-details/PRAD-082-01-1A\n",
      "PRAD-082-02-1A\n",
      "Downloading: https://ngdc.cncb.ac.cn/cancerscem/sample-details/PRAD-082-02-1A\n",
      "PRAD-082-03-1A\n",
      "Downloading: https://ngdc.cncb.ac.cn/cancerscem/sample-details/PRAD-082-03-1A\n",
      "PRAD-082-04-1A\n",
      "Downloading: https://ngdc.cncb.ac.cn/cancerscem/sample-details/PRAD-082-04-1A\n",
      "PRAD-082-05-1A\n",
      "Downloading: https://ngdc.cncb.ac.cn/cancerscem/sample-details/PRAD-082-05-1A\n",
      "PRAD-082-06-1A\n",
      "Downloading: https://ngdc.cncb.ac.cn/cancerscem/sample-details/PRAD-082-06-1A\n",
      "PRAD-082-07-1A\n",
      "Downloading: https://ngdc.cncb.ac.cn/cancerscem/sample-details/PRAD-082-07-1A\n",
      "PRAD-082-08-1A\n",
      "Downloading: https://ngdc.cncb.ac.cn/cancerscem/sample-details/PRAD-082-08-1A\n",
      "PRAD-082-09-1A\n",
      "Downloading: https://ngdc.cncb.ac.cn/cancerscem/sample-details/PRAD-082-09-1A\n",
      "PRAD-082-10-1A\n",
      "Downloading: https://ngdc.cncb.ac.cn/cancerscem/sample-details/PRAD-082-10-1A\n",
      "PRAD-082-11-1A\n",
      "Downloading: https://ngdc.cncb.ac.cn/cancerscem/sample-details/PRAD-082-11-1A\n",
      "PRAD-082-12-1A\n",
      "Downloading: https://ngdc.cncb.ac.cn/cancerscem/sample-details/PRAD-082-12-1A\n",
      "PRAD-082-13-1A\n",
      "Downloading: https://ngdc.cncb.ac.cn/cancerscem/sample-details/PRAD-082-13-1A\n",
      "PRAD-082-14-1A\n",
      "Downloading: https://ngdc.cncb.ac.cn/cancerscem/sample-details/PRAD-082-14-1A\n",
      "PRAD-082-15-1A\n",
      "Downloading: https://ngdc.cncb.ac.cn/cancerscem/sample-details/PRAD-082-15-1A\n",
      "PRAD-082-16-1A\n",
      "Downloading: https://ngdc.cncb.ac.cn/cancerscem/sample-details/PRAD-082-16-1A\n",
      "PRAD-082-17-1A\n",
      "Downloading: https://ngdc.cncb.ac.cn/cancerscem/sample-details/PRAD-082-17-1A\n",
      "PRAD-082-18-1A\n",
      "Downloading: https://ngdc.cncb.ac.cn/cancerscem/sample-details/PRAD-082-18-1A\n",
      "PRAD-082-19-1A\n",
      "Downloading: https://ngdc.cncb.ac.cn/cancerscem/sample-details/PRAD-082-19-1A\n",
      "PRAD-082-20-1A\n",
      "Downloading: https://ngdc.cncb.ac.cn/cancerscem/sample-details/PRAD-082-20-1A\n",
      "PRAD-082-21-1A\n",
      "Downloading: https://ngdc.cncb.ac.cn/cancerscem/sample-details/PRAD-082-21-1A\n",
      "PRAD-082-22-1A\n",
      "Downloading: https://ngdc.cncb.ac.cn/cancerscem/sample-details/PRAD-082-22-1A\n",
      "PRAD-082-23-1A\n",
      "Downloading: https://ngdc.cncb.ac.cn/cancerscem/sample-details/PRAD-082-23-1A\n",
      "PRAD-082-24-1A\n",
      "Downloading: https://ngdc.cncb.ac.cn/cancerscem/sample-details/PRAD-082-24-1A\n",
      "PRAD-082-25-1A\n",
      "Downloading: https://ngdc.cncb.ac.cn/cancerscem/sample-details/PRAD-082-25-1A\n",
      "PRAD-082-26-1A\n",
      "Downloading: https://ngdc.cncb.ac.cn/cancerscem/sample-details/PRAD-082-26-1A\n",
      "PRAD-082-27-1A\n",
      "Downloading: https://ngdc.cncb.ac.cn/cancerscem/sample-details/PRAD-082-27-1A\n",
      "PRAD-082-28-1A\n",
      "Downloading: https://ngdc.cncb.ac.cn/cancerscem/sample-details/PRAD-082-28-1A\n",
      "PRAD-082-29-1A\n",
      "Downloading: https://ngdc.cncb.ac.cn/cancerscem/sample-details/PRAD-082-29-1A\n",
      "MCC-084-01-1A\n",
      "Loading from cache: https://ngdc.cncb.ac.cn/cancerscem/sample-details/MCC-084-01-1A\n",
      "MCC-084-02-1A\n",
      "Downloading: https://ngdc.cncb.ac.cn/cancerscem/sample-details/MCC-084-02-1A\n",
      "MCC-084-03-1A\n",
      "Downloading: https://ngdc.cncb.ac.cn/cancerscem/sample-details/MCC-084-03-1A\n",
      "MCC-084-04-1A\n",
      "Downloading: https://ngdc.cncb.ac.cn/cancerscem/sample-details/MCC-084-04-1A\n",
      "MCC-084-05-1A\n",
      "Downloading: https://ngdc.cncb.ac.cn/cancerscem/sample-details/MCC-084-05-1A\n",
      "MCC-084-06-1A\n",
      "Downloading: https://ngdc.cncb.ac.cn/cancerscem/sample-details/MCC-084-06-1A\n",
      "MCC-084-07-1A\n",
      "Downloading: https://ngdc.cncb.ac.cn/cancerscem/sample-details/MCC-084-07-1A\n",
      "MCC-084-08-1A\n",
      "Downloading: https://ngdc.cncb.ac.cn/cancerscem/sample-details/MCC-084-08-1A\n",
      "MCC-084-09-1A\n",
      "Downloading: https://ngdc.cncb.ac.cn/cancerscem/sample-details/MCC-084-09-1A\n",
      "MCC-084-10-1A\n",
      "Downloading: https://ngdc.cncb.ac.cn/cancerscem/sample-details/MCC-084-10-1A\n",
      "GBM-085-01-1A\n",
      "Loading from cache: https://ngdc.cncb.ac.cn/cancerscem/sample-details/GBM-085-01-1A\n",
      "GBM-085-02-1A\n",
      "Downloading: https://ngdc.cncb.ac.cn/cancerscem/sample-details/GBM-085-02-1A\n",
      "GBM-085-03-1A\n",
      "Downloading: https://ngdc.cncb.ac.cn/cancerscem/sample-details/GBM-085-03-1A\n",
      "GBM-085-04-1A\n",
      "Downloading: https://ngdc.cncb.ac.cn/cancerscem/sample-details/GBM-085-04-1A\n",
      "GBM-085-05-1A\n",
      "Downloading: https://ngdc.cncb.ac.cn/cancerscem/sample-details/GBM-085-05-1A\n",
      "GBM-085-06-1A\n",
      "Downloading: https://ngdc.cncb.ac.cn/cancerscem/sample-details/GBM-085-06-1A\n",
      "GBM-085-07-1A\n",
      "Downloading: https://ngdc.cncb.ac.cn/cancerscem/sample-details/GBM-085-07-1A\n",
      "GBM-085-08-1A\n",
      "Downloading: https://ngdc.cncb.ac.cn/cancerscem/sample-details/GBM-085-08-1A\n",
      "GBM-085-09-1A\n",
      "Downloading: https://ngdc.cncb.ac.cn/cancerscem/sample-details/GBM-085-09-1A\n",
      "GBM-085-10-1A\n",
      "Downloading: https://ngdc.cncb.ac.cn/cancerscem/sample-details/GBM-085-10-1A\n",
      "GBM-085-11-1A\n",
      "Downloading: https://ngdc.cncb.ac.cn/cancerscem/sample-details/GBM-085-11-1A\n",
      "GBM-085-12-1A\n",
      "Downloading: https://ngdc.cncb.ac.cn/cancerscem/sample-details/GBM-085-12-1A\n",
      "GBM-085-13-1A\n",
      "Downloading: https://ngdc.cncb.ac.cn/cancerscem/sample-details/GBM-085-13-1A\n",
      "GBM-085-14-1A\n",
      "Downloading: https://ngdc.cncb.ac.cn/cancerscem/sample-details/GBM-085-14-1A\n",
      "GBM-085-15-1A\n",
      "Downloading: https://ngdc.cncb.ac.cn/cancerscem/sample-details/GBM-085-15-1A\n",
      "GBM-085-16-1A\n",
      "Downloading: https://ngdc.cncb.ac.cn/cancerscem/sample-details/GBM-085-16-1A\n",
      "GBM-085-17-1A\n",
      "Downloading: https://ngdc.cncb.ac.cn/cancerscem/sample-details/GBM-085-17-1A\n",
      "GBM-085-18-1A\n",
      "Downloading: https://ngdc.cncb.ac.cn/cancerscem/sample-details/GBM-085-18-1A\n",
      "CRC-086-01-1A\n",
      "Loading from cache: https://ngdc.cncb.ac.cn/cancerscem/sample-details/CRC-086-01-1A\n",
      "CRC-086-02-1A\n",
      "Downloading: https://ngdc.cncb.ac.cn/cancerscem/sample-details/CRC-086-02-1A\n",
      "CRC-086-03-1A\n",
      "Downloading: https://ngdc.cncb.ac.cn/cancerscem/sample-details/CRC-086-03-1A\n",
      "CRC-086-04-1A\n",
      "Downloading: https://ngdc.cncb.ac.cn/cancerscem/sample-details/CRC-086-04-1A\n",
      "HNSCC-087-01-1A\n",
      "Loading from cache: https://ngdc.cncb.ac.cn/cancerscem/sample-details/HNSCC-087-01-1A\n",
      "HNSCC-087-02-1A\n",
      "Downloading: https://ngdc.cncb.ac.cn/cancerscem/sample-details/HNSCC-087-02-1A\n",
      "PDAC-091-01-1A\n",
      "Loading from cache: https://ngdc.cncb.ac.cn/cancerscem/sample-details/PDAC-091-01-1A\n",
      "PDAC-091-02-1A\n",
      "Downloading: https://ngdc.cncb.ac.cn/cancerscem/sample-details/PDAC-091-02-1A\n",
      "PDAC-091-03-1A\n",
      "Downloading: https://ngdc.cncb.ac.cn/cancerscem/sample-details/PDAC-091-03-1A\n",
      "PDAC-091-04-1A\n",
      "Downloading: https://ngdc.cncb.ac.cn/cancerscem/sample-details/PDAC-091-04-1A\n",
      "PDAC-091-05-1A\n",
      "Downloading: https://ngdc.cncb.ac.cn/cancerscem/sample-details/PDAC-091-05-1A\n",
      "PDAC-091-06-1A\n",
      "Downloading: https://ngdc.cncb.ac.cn/cancerscem/sample-details/PDAC-091-06-1A\n",
      "PDAC-091-07-1A\n",
      "Downloading: https://ngdc.cncb.ac.cn/cancerscem/sample-details/PDAC-091-07-1A\n",
      "PDAC-091-08-1A\n",
      "Downloading: https://ngdc.cncb.ac.cn/cancerscem/sample-details/PDAC-091-08-1A\n",
      "PDAC-091-09-1A\n",
      "Downloading: https://ngdc.cncb.ac.cn/cancerscem/sample-details/PDAC-091-09-1A\n",
      "PDAC-091-10-1A\n",
      "Downloading: https://ngdc.cncb.ac.cn/cancerscem/sample-details/PDAC-091-10-1A\n",
      "PDAC-091-11-1A\n",
      "Downloading: https://ngdc.cncb.ac.cn/cancerscem/sample-details/PDAC-091-11-1A\n",
      "PDAC-091-12-1A\n",
      "Downloading: https://ngdc.cncb.ac.cn/cancerscem/sample-details/PDAC-091-12-1A\n",
      "PDAC-091-13-1A\n",
      "Downloading: https://ngdc.cncb.ac.cn/cancerscem/sample-details/PDAC-091-13-1A\n",
      "PDAC-091-14-1A\n",
      "Downloading: https://ngdc.cncb.ac.cn/cancerscem/sample-details/PDAC-091-14-1A\n",
      "PDAC-091-15-1A\n",
      "Downloading: https://ngdc.cncb.ac.cn/cancerscem/sample-details/PDAC-091-15-1A\n",
      "PDAC-091-16-1A\n",
      "Downloading: https://ngdc.cncb.ac.cn/cancerscem/sample-details/PDAC-091-16-1A\n",
      "PDAC-091-17-1A\n",
      "Downloading: https://ngdc.cncb.ac.cn/cancerscem/sample-details/PDAC-091-17-1A\n",
      "PDAC-091-18-1A\n",
      "Downloading: https://ngdc.cncb.ac.cn/cancerscem/sample-details/PDAC-091-18-1A\n",
      "PDAC-091-19-1A\n",
      "Downloading: https://ngdc.cncb.ac.cn/cancerscem/sample-details/PDAC-091-19-1A\n",
      "PDAC-091-20-1A\n",
      "Downloading: https://ngdc.cncb.ac.cn/cancerscem/sample-details/PDAC-091-20-1A\n",
      "PDAC-091-21-1A\n",
      "Downloading: https://ngdc.cncb.ac.cn/cancerscem/sample-details/PDAC-091-21-1A\n",
      "PDAC-091-22-1A\n",
      "Downloading: https://ngdc.cncb.ac.cn/cancerscem/sample-details/PDAC-091-22-1A\n",
      "LUSC-092-01-1A\n",
      "Loading from cache: https://ngdc.cncb.ac.cn/cancerscem/sample-details/LUSC-092-01-1A\n",
      "LUSC-092-02-1A\n",
      "Downloading: https://ngdc.cncb.ac.cn/cancerscem/sample-details/LUSC-092-02-1A\n",
      "LUSC-092-03-1A\n",
      "Downloading: https://ngdc.cncb.ac.cn/cancerscem/sample-details/LUSC-092-03-1A\n",
      "LUSC-092-04-1A\n",
      "Downloading: https://ngdc.cncb.ac.cn/cancerscem/sample-details/LUSC-092-04-1A\n",
      "LUSC-092-05-1A\n",
      "Downloading: https://ngdc.cncb.ac.cn/cancerscem/sample-details/LUSC-092-05-1A\n",
      "LUSC-092-06-1A\n",
      "Downloading: https://ngdc.cncb.ac.cn/cancerscem/sample-details/LUSC-092-06-1A\n",
      "LUSC-092-07-1A\n",
      "Downloading: https://ngdc.cncb.ac.cn/cancerscem/sample-details/LUSC-092-07-1A\n",
      "LUSC-092-08-1A\n",
      "Downloading: https://ngdc.cncb.ac.cn/cancerscem/sample-details/LUSC-092-08-1A\n",
      "LUSC-092-09-1A\n",
      "Downloading: https://ngdc.cncb.ac.cn/cancerscem/sample-details/LUSC-092-09-1A\n",
      "LUSC-092-10-1A\n",
      "Downloading: https://ngdc.cncb.ac.cn/cancerscem/sample-details/LUSC-092-10-1A\n",
      "LUSC-092-11-1A\n",
      "Downloading: https://ngdc.cncb.ac.cn/cancerscem/sample-details/LUSC-092-11-1A\n",
      "LUSC-092-12-1A\n",
      "Downloading: https://ngdc.cncb.ac.cn/cancerscem/sample-details/LUSC-092-12-1A\n",
      "LUSC-092-13-1A\n",
      "Downloading: https://ngdc.cncb.ac.cn/cancerscem/sample-details/LUSC-092-13-1A\n",
      "LUSC-092-14-1A\n",
      "Downloading: https://ngdc.cncb.ac.cn/cancerscem/sample-details/LUSC-092-14-1A\n",
      "LUSC-092-15-1A\n",
      "Downloading: https://ngdc.cncb.ac.cn/cancerscem/sample-details/LUSC-092-15-1A\n",
      "LUSC-092-16-1A\n",
      "Downloading: https://ngdc.cncb.ac.cn/cancerscem/sample-details/LUSC-092-16-1A\n",
      "LUSC-092-17-1A\n",
      "Downloading: https://ngdc.cncb.ac.cn/cancerscem/sample-details/LUSC-092-17-1A\n",
      "LUSC-092-18-1A\n",
      "Downloading: https://ngdc.cncb.ac.cn/cancerscem/sample-details/LUSC-092-18-1A\n",
      "LUSC-092-19-1A\n",
      "Downloading: https://ngdc.cncb.ac.cn/cancerscem/sample-details/LUSC-092-19-1A\n",
      "LUSC-092-20-1A\n",
      "Downloading: https://ngdc.cncb.ac.cn/cancerscem/sample-details/LUSC-092-20-1A\n",
      "LUSC-092-21-1A\n",
      "Downloading: https://ngdc.cncb.ac.cn/cancerscem/sample-details/LUSC-092-21-1A\n",
      "LUSC-092-22-1A\n",
      "Downloading: https://ngdc.cncb.ac.cn/cancerscem/sample-details/LUSC-092-22-1A\n",
      "LUSC-092-23-1A\n",
      "Downloading: https://ngdc.cncb.ac.cn/cancerscem/sample-details/LUSC-092-23-1A\n",
      "LUSC-092-24-1A\n",
      "Downloading: https://ngdc.cncb.ac.cn/cancerscem/sample-details/LUSC-092-24-1A\n",
      "LUSC-092-25-1A\n",
      "Downloading: https://ngdc.cncb.ac.cn/cancerscem/sample-details/LUSC-092-25-1A\n",
      "LUSC-092-26-1A\n",
      "Downloading: https://ngdc.cncb.ac.cn/cancerscem/sample-details/LUSC-092-26-1A\n",
      "SKCM-095-01-1A\n",
      "Loading from cache: https://ngdc.cncb.ac.cn/cancerscem/sample-details/SKCM-095-01-1A\n",
      "SKCM-095-02-1A\n",
      "Downloading: https://ngdc.cncb.ac.cn/cancerscem/sample-details/SKCM-095-02-1A\n",
      "SKCM-095-03-1A\n",
      "Downloading: https://ngdc.cncb.ac.cn/cancerscem/sample-details/SKCM-095-03-1A\n",
      "LUAD-096-01-1A\n",
      "Loading from cache: https://ngdc.cncb.ac.cn/cancerscem/sample-details/LUAD-096-01-1A\n",
      "LUAD-096-02-1A\n",
      "Downloading: https://ngdc.cncb.ac.cn/cancerscem/sample-details/LUAD-096-02-1A\n",
      "LUAD-096-03-1A\n",
      "Downloading: https://ngdc.cncb.ac.cn/cancerscem/sample-details/LUAD-096-03-1A\n",
      "LUAD-096-04-1A\n",
      "Downloading: https://ngdc.cncb.ac.cn/cancerscem/sample-details/LUAD-096-04-1A\n",
      "LUAD-096-05-1A\n",
      "Downloading: https://ngdc.cncb.ac.cn/cancerscem/sample-details/LUAD-096-05-1A\n",
      "LUAD-096-06-1A\n",
      "Downloading: https://ngdc.cncb.ac.cn/cancerscem/sample-details/LUAD-096-06-1A\n",
      "LUAD-096-07-1A\n",
      "Downloading: https://ngdc.cncb.ac.cn/cancerscem/sample-details/LUAD-096-07-1A\n",
      "LUAD-096-08-1A\n",
      "Downloading: https://ngdc.cncb.ac.cn/cancerscem/sample-details/LUAD-096-08-1A\n",
      "LUAD-096-09-1A\n",
      "Downloading: https://ngdc.cncb.ac.cn/cancerscem/sample-details/LUAD-096-09-1A\n",
      "LUAD-096-10-1A\n",
      "Downloading: https://ngdc.cncb.ac.cn/cancerscem/sample-details/LUAD-096-10-1A\n",
      "LUAD-096-11-1A\n",
      "Downloading: https://ngdc.cncb.ac.cn/cancerscem/sample-details/LUAD-096-11-1A\n",
      "LUAD-096-12-1A\n",
      "Downloading: https://ngdc.cncb.ac.cn/cancerscem/sample-details/LUAD-096-12-1A\n",
      "LUAD-096-13-1A\n",
      "Downloading: https://ngdc.cncb.ac.cn/cancerscem/sample-details/LUAD-096-13-1A\n",
      "LUAD-096-14-1A\n",
      "Downloading: https://ngdc.cncb.ac.cn/cancerscem/sample-details/LUAD-096-14-1A\n",
      "LUAD-096-15-1A\n",
      "Downloading: https://ngdc.cncb.ac.cn/cancerscem/sample-details/LUAD-096-15-1A\n",
      "LUAD-096-16-1A\n",
      "Downloading: https://ngdc.cncb.ac.cn/cancerscem/sample-details/LUAD-096-16-1A\n",
      "LUAD-096-17-1A\n",
      "Downloading: https://ngdc.cncb.ac.cn/cancerscem/sample-details/LUAD-096-17-1A\n",
      "LUAD-096-18-1A\n",
      "Downloading: https://ngdc.cncb.ac.cn/cancerscem/sample-details/LUAD-096-18-1A\n",
      "LUAD-096-19-1A\n",
      "Downloading: https://ngdc.cncb.ac.cn/cancerscem/sample-details/LUAD-096-19-1A\n",
      "LUAD-096-20-1A\n",
      "Downloading: https://ngdc.cncb.ac.cn/cancerscem/sample-details/LUAD-096-20-1A\n",
      "LUAD-096-21-1A\n",
      "Downloading: https://ngdc.cncb.ac.cn/cancerscem/sample-details/LUAD-096-21-1A\n",
      "LUAD-096-22-1A\n",
      "Downloading: https://ngdc.cncb.ac.cn/cancerscem/sample-details/LUAD-096-22-1A\n",
      "LUAD-096-23-1A\n",
      "Downloading: https://ngdc.cncb.ac.cn/cancerscem/sample-details/LUAD-096-23-1A\n",
      "LUAD-096-24-1A\n",
      "Downloading: https://ngdc.cncb.ac.cn/cancerscem/sample-details/LUAD-096-24-1A\n",
      "LUAD-096-25-1A\n",
      "Downloading: https://ngdc.cncb.ac.cn/cancerscem/sample-details/LUAD-096-25-1A\n",
      "LUAD-096-26-1A\n",
      "Downloading: https://ngdc.cncb.ac.cn/cancerscem/sample-details/LUAD-096-26-1A\n",
      "LUAD-096-27-1A\n",
      "Downloading: https://ngdc.cncb.ac.cn/cancerscem/sample-details/LUAD-096-27-1A\n",
      "LUAD-096-28-1A\n",
      "Downloading: https://ngdc.cncb.ac.cn/cancerscem/sample-details/LUAD-096-28-1A\n",
      "LUAD-096-29-1A\n",
      "Downloading: https://ngdc.cncb.ac.cn/cancerscem/sample-details/LUAD-096-29-1A\n",
      "LUAD-096-30-1A\n",
      "Downloading: https://ngdc.cncb.ac.cn/cancerscem/sample-details/LUAD-096-30-1A\n",
      "LUAD-096-31-1A\n",
      "Downloading: https://ngdc.cncb.ac.cn/cancerscem/sample-details/LUAD-096-31-1A\n",
      "LUAD-096-32-1A\n",
      "Downloading: https://ngdc.cncb.ac.cn/cancerscem/sample-details/LUAD-096-32-1A\n",
      "LUAD-096-33-1A\n",
      "Downloading: https://ngdc.cncb.ac.cn/cancerscem/sample-details/LUAD-096-33-1A\n",
      "LUAD-096-34-1A\n",
      "Downloading: https://ngdc.cncb.ac.cn/cancerscem/sample-details/LUAD-096-34-1A\n",
      "LUAD-096-35-1A\n",
      "Downloading: https://ngdc.cncb.ac.cn/cancerscem/sample-details/LUAD-096-35-1A\n",
      "LUAD-096-36-1A\n",
      "Downloading: https://ngdc.cncb.ac.cn/cancerscem/sample-details/LUAD-096-36-1A\n",
      "LUAD-096-37-1A\n",
      "Downloading: https://ngdc.cncb.ac.cn/cancerscem/sample-details/LUAD-096-37-1A\n",
      "LUAD-096-38-1A\n",
      "Downloading: https://ngdc.cncb.ac.cn/cancerscem/sample-details/LUAD-096-38-1A\n",
      "LUAD-096-39-1A\n",
      "Downloading: https://ngdc.cncb.ac.cn/cancerscem/sample-details/LUAD-096-39-1A\n",
      "LUAD-096-40-1A\n",
      "Downloading: https://ngdc.cncb.ac.cn/cancerscem/sample-details/LUAD-096-40-1A\n",
      "LUAD-096-41-1A\n",
      "Downloading: https://ngdc.cncb.ac.cn/cancerscem/sample-details/LUAD-096-41-1A\n",
      "LUAD-096-42-1A\n",
      "Downloading: https://ngdc.cncb.ac.cn/cancerscem/sample-details/LUAD-096-42-1A\n",
      "LUAD-096-43-1A\n",
      "Downloading: https://ngdc.cncb.ac.cn/cancerscem/sample-details/LUAD-096-43-1A\n",
      "LUAD-096-44-1A\n",
      "Downloading: https://ngdc.cncb.ac.cn/cancerscem/sample-details/LUAD-096-44-1A\n",
      "LUAD-096-45-1A\n",
      "Downloading: https://ngdc.cncb.ac.cn/cancerscem/sample-details/LUAD-096-45-1A\n",
      "LUAD-096-46-1A\n",
      "Downloading: https://ngdc.cncb.ac.cn/cancerscem/sample-details/LUAD-096-46-1A\n",
      "LUAD-096-47-1A\n",
      "Downloading: https://ngdc.cncb.ac.cn/cancerscem/sample-details/LUAD-096-47-1A\n",
      "LUAD-096-48-1A\n",
      "Downloading: https://ngdc.cncb.ac.cn/cancerscem/sample-details/LUAD-096-48-1A\n",
      "LUAD-096-49-1A\n",
      "Downloading: https://ngdc.cncb.ac.cn/cancerscem/sample-details/LUAD-096-49-1A\n",
      "LUAD-096-50-1A\n",
      "Downloading: https://ngdc.cncb.ac.cn/cancerscem/sample-details/LUAD-096-50-1A\n",
      "LUAD-096-51-1A\n",
      "Downloading: https://ngdc.cncb.ac.cn/cancerscem/sample-details/LUAD-096-51-1A\n",
      "LUAD-096-52-1A\n",
      "Downloading: https://ngdc.cncb.ac.cn/cancerscem/sample-details/LUAD-096-52-1A\n",
      "LUAD-096-53-1A\n",
      "Downloading: https://ngdc.cncb.ac.cn/cancerscem/sample-details/LUAD-096-53-1A\n",
      "LUAD-096-54-1A\n",
      "Downloading: https://ngdc.cncb.ac.cn/cancerscem/sample-details/LUAD-096-54-1A\n",
      "LUAD-096-55-1A\n",
      "Downloading: https://ngdc.cncb.ac.cn/cancerscem/sample-details/LUAD-096-55-1A\n",
      "LUAD-096-56-1A\n",
      "Downloading: https://ngdc.cncb.ac.cn/cancerscem/sample-details/LUAD-096-56-1A\n",
      "RB-098-01-1A\n",
      "Loading from cache: https://ngdc.cncb.ac.cn/cancerscem/sample-details/RB-098-01-1A\n",
      "RB-098-02-1A\n",
      "Downloading: https://ngdc.cncb.ac.cn/cancerscem/sample-details/RB-098-02-1A\n",
      "cSCC-099-01-1A\n",
      "Loading from cache: https://ngdc.cncb.ac.cn/cancerscem/sample-details/cSCC-099-01-1A\n",
      "cSCC-099-02-1A\n",
      "Downloading: https://ngdc.cncb.ac.cn/cancerscem/sample-details/cSCC-099-02-1A\n",
      "cSCC-099-03-1A\n",
      "Downloading: https://ngdc.cncb.ac.cn/cancerscem/sample-details/cSCC-099-03-1A\n",
      "CRC-101-01-1A\n",
      "Loading from cache: https://ngdc.cncb.ac.cn/cancerscem/sample-details/CRC-101-01-1A\n",
      "CRC-101-02-1A\n",
      "Downloading: https://ngdc.cncb.ac.cn/cancerscem/sample-details/CRC-101-02-1A\n",
      "CRC-101-03-1A\n",
      "Downloading: https://ngdc.cncb.ac.cn/cancerscem/sample-details/CRC-101-03-1A\n",
      "CRC-101-04-1A\n",
      "Downloading: https://ngdc.cncb.ac.cn/cancerscem/sample-details/CRC-101-04-1A\n",
      "CRC-101-05-1A\n",
      "Downloading: https://ngdc.cncb.ac.cn/cancerscem/sample-details/CRC-101-05-1A\n",
      "EPN-102-01-1C\n",
      "Loading from cache: https://ngdc.cncb.ac.cn/cancerscem/sample-details/EPN-102-01-1C\n",
      "EPN-102-02-1C\n",
      "Loading from cache: https://ngdc.cncb.ac.cn/cancerscem/sample-details/EPN-102-02-1C\n",
      "EPN-102-03-1C\n",
      "Loading from cache: https://ngdc.cncb.ac.cn/cancerscem/sample-details/EPN-102-03-1C\n",
      "EPN-102-04-1C\n",
      "Loading from cache: https://ngdc.cncb.ac.cn/cancerscem/sample-details/EPN-102-04-1C\n",
      "EPN-102-05-1C\n",
      "Loading from cache: https://ngdc.cncb.ac.cn/cancerscem/sample-details/EPN-102-05-1C\n",
      "EPN-102-06-1C\n",
      "Loading from cache: https://ngdc.cncb.ac.cn/cancerscem/sample-details/EPN-102-06-1C\n",
      "EPN-102-07-1C\n",
      "Loading from cache: https://ngdc.cncb.ac.cn/cancerscem/sample-details/EPN-102-07-1C\n",
      "EPN-102-08-1C\n",
      "Loading from cache: https://ngdc.cncb.ac.cn/cancerscem/sample-details/EPN-102-08-1C\n",
      "SACC-103-01-1A\n",
      "Loading from cache: https://ngdc.cncb.ac.cn/cancerscem/sample-details/SACC-103-01-1A\n",
      "SACC-103-02-1A\n",
      "Downloading: https://ngdc.cncb.ac.cn/cancerscem/sample-details/SACC-103-02-1A\n",
      "SACC-103-03-1A\n",
      "Downloading: https://ngdc.cncb.ac.cn/cancerscem/sample-details/SACC-103-03-1A\n",
      "SACC-103-04-1A\n",
      "Downloading: https://ngdc.cncb.ac.cn/cancerscem/sample-details/SACC-103-04-1A\n",
      "VS-105-01-1A\n",
      "Loading from cache: https://ngdc.cncb.ac.cn/cancerscem/sample-details/VS-105-01-1A\n",
      "VS-105-02-1A\n",
      "Downloading: https://ngdc.cncb.ac.cn/cancerscem/sample-details/VS-105-02-1A\n",
      "VS-105-03-1A\n",
      "Downloading: https://ngdc.cncb.ac.cn/cancerscem/sample-details/VS-105-03-1A\n",
      "VS-105-04-1A\n",
      "Downloading: https://ngdc.cncb.ac.cn/cancerscem/sample-details/VS-105-04-1A\n",
      "VS-105-05-1A\n",
      "Downloading: https://ngdc.cncb.ac.cn/cancerscem/sample-details/VS-105-05-1A\n",
      "VS-105-06-1A\n",
      "Downloading: https://ngdc.cncb.ac.cn/cancerscem/sample-details/VS-105-06-1A\n",
      "VS-105-07-1A\n",
      "Downloading: https://ngdc.cncb.ac.cn/cancerscem/sample-details/VS-105-07-1A\n",
      "VS-105-08-1A\n",
      "Downloading: https://ngdc.cncb.ac.cn/cancerscem/sample-details/VS-105-08-1A\n",
      "VS-105-09-1A\n",
      "Downloading: https://ngdc.cncb.ac.cn/cancerscem/sample-details/VS-105-09-1A\n",
      "VS-105-10-1A\n",
      "Downloading: https://ngdc.cncb.ac.cn/cancerscem/sample-details/VS-105-10-1A\n",
      "VS-105-11-1A\n",
      "Downloading: https://ngdc.cncb.ac.cn/cancerscem/sample-details/VS-105-11-1A\n",
      "VS-105-12-1A\n",
      "Downloading: https://ngdc.cncb.ac.cn/cancerscem/sample-details/VS-105-12-1A\n",
      "VS-105-13-1A\n",
      "Downloading: https://ngdc.cncb.ac.cn/cancerscem/sample-details/VS-105-13-1A\n",
      "VS-105-14-1A\n",
      "Downloading: https://ngdc.cncb.ac.cn/cancerscem/sample-details/VS-105-14-1A\n",
      "VS-105-15-1A\n",
      "Downloading: https://ngdc.cncb.ac.cn/cancerscem/sample-details/VS-105-15-1A\n",
      "PDAC-106-01-1A\n",
      "Loading from cache: https://ngdc.cncb.ac.cn/cancerscem/sample-details/PDAC-106-01-1A\n",
      "PDAC-106-02-1A\n",
      "Downloading: https://ngdc.cncb.ac.cn/cancerscem/sample-details/PDAC-106-02-1A\n",
      "PDAC-106-03-1A\n",
      "Downloading: https://ngdc.cncb.ac.cn/cancerscem/sample-details/PDAC-106-03-1A\n",
      "PDAC-106-04-1A\n",
      "Downloading: https://ngdc.cncb.ac.cn/cancerscem/sample-details/PDAC-106-04-1A\n",
      "PDAC-106-05-1A\n",
      "Downloading: https://ngdc.cncb.ac.cn/cancerscem/sample-details/PDAC-106-05-1A\n",
      "PDAC-106-06-1A\n",
      "Downloading: https://ngdc.cncb.ac.cn/cancerscem/sample-details/PDAC-106-06-1A\n",
      "PDAC-106-07-1A\n",
      "Downloading: https://ngdc.cncb.ac.cn/cancerscem/sample-details/PDAC-106-07-1A\n",
      "BRCA-107-01-1A\n",
      "Loading from cache: https://ngdc.cncb.ac.cn/cancerscem/sample-details/BRCA-107-01-1A\n",
      "BRCA-107-02-1A\n",
      "Downloading: https://ngdc.cncb.ac.cn/cancerscem/sample-details/BRCA-107-02-1A\n",
      "BRCA-107-03-1A\n",
      "Downloading: https://ngdc.cncb.ac.cn/cancerscem/sample-details/BRCA-107-03-1A\n",
      "BRCA-107-04-1A\n",
      "Downloading: https://ngdc.cncb.ac.cn/cancerscem/sample-details/BRCA-107-04-1A\n",
      "BRCA-107-05-1A\n",
      "Downloading: https://ngdc.cncb.ac.cn/cancerscem/sample-details/BRCA-107-05-1A\n",
      "BRCA-107-06-1A\n",
      "Downloading: https://ngdc.cncb.ac.cn/cancerscem/sample-details/BRCA-107-06-1A\n",
      "BRCA-107-07-1A\n",
      "Downloading: https://ngdc.cncb.ac.cn/cancerscem/sample-details/BRCA-107-07-1A\n",
      "BRCA-107-08-1A\n",
      "Downloading: https://ngdc.cncb.ac.cn/cancerscem/sample-details/BRCA-107-08-1A\n",
      "BRCA-107-09-1A\n",
      "Downloading: https://ngdc.cncb.ac.cn/cancerscem/sample-details/BRCA-107-09-1A\n",
      "BRCA-107-10-1A\n",
      "Downloading: https://ngdc.cncb.ac.cn/cancerscem/sample-details/BRCA-107-10-1A\n",
      "BRCA-107-11-1A\n",
      "Downloading: https://ngdc.cncb.ac.cn/cancerscem/sample-details/BRCA-107-11-1A\n",
      "BRCA-107-12-1A\n",
      "Downloading: https://ngdc.cncb.ac.cn/cancerscem/sample-details/BRCA-107-12-1A\n",
      "BRCA-107-13-1A\n",
      "Downloading: https://ngdc.cncb.ac.cn/cancerscem/sample-details/BRCA-107-13-1A\n",
      "BRCA-107-14-1A\n",
      "Downloading: https://ngdc.cncb.ac.cn/cancerscem/sample-details/BRCA-107-14-1A\n",
      "BCC-109-01-1A\n",
      "Loading from cache: https://ngdc.cncb.ac.cn/cancerscem/sample-details/BCC-109-01-1A\n",
      "BCC-109-02-1A\n",
      "Downloading: https://ngdc.cncb.ac.cn/cancerscem/sample-details/BCC-109-02-1A\n",
      "BCC-109-03-1A\n",
      "Downloading: https://ngdc.cncb.ac.cn/cancerscem/sample-details/BCC-109-03-1A\n",
      "BCC-109-04-1A\n",
      "Downloading: https://ngdc.cncb.ac.cn/cancerscem/sample-details/BCC-109-04-1A\n",
      "BCC-109-05-1A\n",
      "Downloading: https://ngdc.cncb.ac.cn/cancerscem/sample-details/BCC-109-05-1A\n",
      "BCC-109-06-1A\n",
      "Downloading: https://ngdc.cncb.ac.cn/cancerscem/sample-details/BCC-109-06-1A\n",
      "BCC-109-07-1A\n",
      "Downloading: https://ngdc.cncb.ac.cn/cancerscem/sample-details/BCC-109-07-1A\n",
      "BCC-109-08-1A\n",
      "Downloading: https://ngdc.cncb.ac.cn/cancerscem/sample-details/BCC-109-08-1A\n",
      "ESCC-111-01-1A\n",
      "Loading from cache: https://ngdc.cncb.ac.cn/cancerscem/sample-details/ESCC-111-01-1A\n",
      "ESCC-111-02-1A\n",
      "Downloading: https://ngdc.cncb.ac.cn/cancerscem/sample-details/ESCC-111-02-1A\n",
      "ESCC-111-03-1A\n",
      "Downloading: https://ngdc.cncb.ac.cn/cancerscem/sample-details/ESCC-111-03-1A\n",
      "ESCC-111-04-1A\n",
      "Downloading: https://ngdc.cncb.ac.cn/cancerscem/sample-details/ESCC-111-04-1A\n",
      "ESCC-111-05-1A\n",
      "Downloading: https://ngdc.cncb.ac.cn/cancerscem/sample-details/ESCC-111-05-1A\n",
      "ESCC-111-06-1A\n",
      "Downloading: https://ngdc.cncb.ac.cn/cancerscem/sample-details/ESCC-111-06-1A\n",
      "ESCC-111-07-1A\n",
      "Downloading: https://ngdc.cncb.ac.cn/cancerscem/sample-details/ESCC-111-07-1A\n",
      "ESCC-111-08-1A\n",
      "Downloading: https://ngdc.cncb.ac.cn/cancerscem/sample-details/ESCC-111-08-1A\n",
      "ESCC-111-09-1A\n",
      "Downloading: https://ngdc.cncb.ac.cn/cancerscem/sample-details/ESCC-111-09-1A\n",
      "ESCC-111-10-1A\n",
      "Downloading: https://ngdc.cncb.ac.cn/cancerscem/sample-details/ESCC-111-10-1A\n",
      "ESCC-111-11-1A\n",
      "Downloading: https://ngdc.cncb.ac.cn/cancerscem/sample-details/ESCC-111-11-1A\n",
      "ESCC-111-12-1A\n",
      "Downloading: https://ngdc.cncb.ac.cn/cancerscem/sample-details/ESCC-111-12-1A\n",
      "ESCC-111-13-1A\n",
      "Downloading: https://ngdc.cncb.ac.cn/cancerscem/sample-details/ESCC-111-13-1A\n",
      "ESCC-111-14-1A\n",
      "Downloading: https://ngdc.cncb.ac.cn/cancerscem/sample-details/ESCC-111-14-1A\n",
      "ESCC-111-15-1A\n",
      "Downloading: https://ngdc.cncb.ac.cn/cancerscem/sample-details/ESCC-111-15-1A\n",
      "ESCC-111-16-1A\n",
      "Downloading: https://ngdc.cncb.ac.cn/cancerscem/sample-details/ESCC-111-16-1A\n",
      "ESCC-111-17-1A\n",
      "Downloading: https://ngdc.cncb.ac.cn/cancerscem/sample-details/ESCC-111-17-1A\n",
      "ESCC-111-18-1A\n",
      "Downloading: https://ngdc.cncb.ac.cn/cancerscem/sample-details/ESCC-111-18-1A\n",
      "ESCC-111-19-1A\n",
      "Downloading: https://ngdc.cncb.ac.cn/cancerscem/sample-details/ESCC-111-19-1A\n",
      "ESCC-111-20-1A\n",
      "Downloading: https://ngdc.cncb.ac.cn/cancerscem/sample-details/ESCC-111-20-1A\n",
      "ESCC-111-21-1A\n",
      "Downloading: https://ngdc.cncb.ac.cn/cancerscem/sample-details/ESCC-111-21-1A\n",
      "ESCC-111-22-1A\n",
      "Downloading: https://ngdc.cncb.ac.cn/cancerscem/sample-details/ESCC-111-22-1A\n",
      "ESCC-111-23-1A\n",
      "Downloading: https://ngdc.cncb.ac.cn/cancerscem/sample-details/ESCC-111-23-1A\n",
      "ESCC-111-24-1A\n",
      "Downloading: https://ngdc.cncb.ac.cn/cancerscem/sample-details/ESCC-111-24-1A\n",
      "ESCC-111-25-1A\n",
      "Downloading: https://ngdc.cncb.ac.cn/cancerscem/sample-details/ESCC-111-25-1A\n",
      "ESCC-111-26-1A\n",
      "Downloading: https://ngdc.cncb.ac.cn/cancerscem/sample-details/ESCC-111-26-1A\n",
      "ESCC-111-27-1A\n",
      "Downloading: https://ngdc.cncb.ac.cn/cancerscem/sample-details/ESCC-111-27-1A\n",
      "ESCC-111-28-1A\n",
      "Downloading: https://ngdc.cncb.ac.cn/cancerscem/sample-details/ESCC-111-28-1A\n",
      "ESCC-111-29-1A\n",
      "Downloading: https://ngdc.cncb.ac.cn/cancerscem/sample-details/ESCC-111-29-1A\n",
      "ESCC-111-30-1A\n",
      "Downloading: https://ngdc.cncb.ac.cn/cancerscem/sample-details/ESCC-111-30-1A\n",
      "ESCC-111-31-1A\n",
      "Downloading: https://ngdc.cncb.ac.cn/cancerscem/sample-details/ESCC-111-31-1A\n",
      "ESCC-111-32-1A\n",
      "Downloading: https://ngdc.cncb.ac.cn/cancerscem/sample-details/ESCC-111-32-1A\n",
      "ESCC-111-33-1A\n",
      "Downloading: https://ngdc.cncb.ac.cn/cancerscem/sample-details/ESCC-111-33-1A\n",
      "ESCC-111-34-1A\n",
      "Downloading: https://ngdc.cncb.ac.cn/cancerscem/sample-details/ESCC-111-34-1A\n",
      "ESCC-111-35-1A\n",
      "Downloading: https://ngdc.cncb.ac.cn/cancerscem/sample-details/ESCC-111-35-1A\n",
      "ESCC-111-36-1A\n",
      "Downloading: https://ngdc.cncb.ac.cn/cancerscem/sample-details/ESCC-111-36-1A\n",
      "ESCC-111-37-1A\n",
      "Downloading: https://ngdc.cncb.ac.cn/cancerscem/sample-details/ESCC-111-37-1A\n",
      "ESCC-111-38-1A\n",
      "Downloading: https://ngdc.cncb.ac.cn/cancerscem/sample-details/ESCC-111-38-1A\n",
      "ESCC-111-39-1A\n",
      "Downloading: https://ngdc.cncb.ac.cn/cancerscem/sample-details/ESCC-111-39-1A\n",
      "ESCC-111-40-1A\n",
      "Downloading: https://ngdc.cncb.ac.cn/cancerscem/sample-details/ESCC-111-40-1A\n",
      "ESCC-111-41-1A\n",
      "Downloading: https://ngdc.cncb.ac.cn/cancerscem/sample-details/ESCC-111-41-1A\n",
      "ESCC-111-42-1A\n",
      "Downloading: https://ngdc.cncb.ac.cn/cancerscem/sample-details/ESCC-111-42-1A\n",
      "ESCC-111-43-1A\n",
      "Downloading: https://ngdc.cncb.ac.cn/cancerscem/sample-details/ESCC-111-43-1A\n",
      "ESCC-111-44-1A\n",
      "Downloading: https://ngdc.cncb.ac.cn/cancerscem/sample-details/ESCC-111-44-1A\n",
      "ESCC-111-45-1A\n",
      "Downloading: https://ngdc.cncb.ac.cn/cancerscem/sample-details/ESCC-111-45-1A\n",
      "ESCC-111-46-1A\n",
      "Downloading: https://ngdc.cncb.ac.cn/cancerscem/sample-details/ESCC-111-46-1A\n",
      "ESCC-111-47-1A\n",
      "Downloading: https://ngdc.cncb.ac.cn/cancerscem/sample-details/ESCC-111-47-1A\n",
      "ESCC-111-48-1A\n",
      "Downloading: https://ngdc.cncb.ac.cn/cancerscem/sample-details/ESCC-111-48-1A\n",
      "ESCC-111-49-1A\n",
      "Downloading: https://ngdc.cncb.ac.cn/cancerscem/sample-details/ESCC-111-49-1A\n",
      "ESCC-111-50-1A\n",
      "Downloading: https://ngdc.cncb.ac.cn/cancerscem/sample-details/ESCC-111-50-1A\n",
      "ESCC-111-51-1A\n",
      "Downloading: https://ngdc.cncb.ac.cn/cancerscem/sample-details/ESCC-111-51-1A\n",
      "ESCC-111-52-1A\n",
      "Downloading: https://ngdc.cncb.ac.cn/cancerscem/sample-details/ESCC-111-52-1A\n",
      "ESCC-111-53-1A\n",
      "Downloading: https://ngdc.cncb.ac.cn/cancerscem/sample-details/ESCC-111-53-1A\n",
      "ESCC-111-54-1A\n",
      "Downloading: https://ngdc.cncb.ac.cn/cancerscem/sample-details/ESCC-111-54-1A\n",
      "ESCC-111-55-1A\n",
      "Downloading: https://ngdc.cncb.ac.cn/cancerscem/sample-details/ESCC-111-55-1A\n",
      "ESCC-111-56-1A\n",
      "Downloading: https://ngdc.cncb.ac.cn/cancerscem/sample-details/ESCC-111-56-1A\n",
      "ESCC-111-57-1A\n",
      "Downloading: https://ngdc.cncb.ac.cn/cancerscem/sample-details/ESCC-111-57-1A\n",
      "ESCC-111-58-1A\n",
      "Downloading: https://ngdc.cncb.ac.cn/cancerscem/sample-details/ESCC-111-58-1A\n",
      "SCE-112-01-1A\n",
      "Loading from cache: https://ngdc.cncb.ac.cn/cancerscem/sample-details/SCE-112-01-1A\n",
      "SCE-112-02-1A\n",
      "Downloading: https://ngdc.cncb.ac.cn/cancerscem/sample-details/SCE-112-02-1A\n",
      "SCE-112-03-1A\n",
      "Downloading: https://ngdc.cncb.ac.cn/cancerscem/sample-details/SCE-112-03-1A\n",
      "SCE-112-04-1A\n",
      "Downloading: https://ngdc.cncb.ac.cn/cancerscem/sample-details/SCE-112-04-1A\n",
      "SCE-112-05-1A\n",
      "Downloading: https://ngdc.cncb.ac.cn/cancerscem/sample-details/SCE-112-05-1A\n",
      "SCE-112-06-1A\n",
      "Downloading: https://ngdc.cncb.ac.cn/cancerscem/sample-details/SCE-112-06-1A\n",
      "SCE-112-07-1A\n",
      "Downloading: https://ngdc.cncb.ac.cn/cancerscem/sample-details/SCE-112-07-1A\n",
      "SCE-112-08-1A\n",
      "Downloading: https://ngdc.cncb.ac.cn/cancerscem/sample-details/SCE-112-08-1A\n",
      "SCE-112-09-1A\n",
      "Downloading: https://ngdc.cncb.ac.cn/cancerscem/sample-details/SCE-112-09-1A\n",
      "SCE-112-10-1A\n",
      "Downloading: https://ngdc.cncb.ac.cn/cancerscem/sample-details/SCE-112-10-1A\n",
      "SCE-112-11-1A\n",
      "Downloading: https://ngdc.cncb.ac.cn/cancerscem/sample-details/SCE-112-11-1A\n",
      "SCE-112-12-1A\n",
      "Downloading: https://ngdc.cncb.ac.cn/cancerscem/sample-details/SCE-112-12-1A\n",
      "SCE-112-13-1A\n",
      "Downloading: https://ngdc.cncb.ac.cn/cancerscem/sample-details/SCE-112-13-1A\n",
      "SCE-112-14-1A\n",
      "Downloading: https://ngdc.cncb.ac.cn/cancerscem/sample-details/SCE-112-14-1A\n",
      "SCE-112-15-1A\n",
      "Downloading: https://ngdc.cncb.ac.cn/cancerscem/sample-details/SCE-112-15-1A\n",
      "MPNST-114-01-1A\n",
      "Loading from cache: https://ngdc.cncb.ac.cn/cancerscem/sample-details/MPNST-114-01-1A\n",
      "MPNST-114-02-1A\n",
      "Downloading: https://ngdc.cncb.ac.cn/cancerscem/sample-details/MPNST-114-02-1A\n",
      "MPNST-114-03-1A\n",
      "Downloading: https://ngdc.cncb.ac.cn/cancerscem/sample-details/MPNST-114-03-1A\n",
      "MPNST-114-04-1A\n",
      "Downloading: https://ngdc.cncb.ac.cn/cancerscem/sample-details/MPNST-114-04-1A\n",
      "BLCA-115-01-1A\n",
      "Loading from cache: https://ngdc.cncb.ac.cn/cancerscem/sample-details/BLCA-115-01-1A\n",
      "BLCA-115-02-1A\n",
      "Downloading: https://ngdc.cncb.ac.cn/cancerscem/sample-details/BLCA-115-02-1A\n",
      "BLCA-115-03-1A\n",
      "Downloading: https://ngdc.cncb.ac.cn/cancerscem/sample-details/BLCA-115-03-1A\n",
      "EAC-116-01-1A\n",
      "Loading from cache: https://ngdc.cncb.ac.cn/cancerscem/sample-details/EAC-116-01-1A\n",
      "EAC-116-02-1A\n",
      "Downloading: https://ngdc.cncb.ac.cn/cancerscem/sample-details/EAC-116-02-1A\n",
      "EAC-116-03-1A\n",
      "Downloading: https://ngdc.cncb.ac.cn/cancerscem/sample-details/EAC-116-03-1A\n",
      "EAC-116-04-1A\n",
      "Downloading: https://ngdc.cncb.ac.cn/cancerscem/sample-details/EAC-116-04-1A\n",
      "EAC-116-05-1A\n",
      "Downloading: https://ngdc.cncb.ac.cn/cancerscem/sample-details/EAC-116-05-1A\n",
      "EAC-116-06-1A\n",
      "Downloading: https://ngdc.cncb.ac.cn/cancerscem/sample-details/EAC-116-06-1A\n",
      "EAC-116-07-1A\n",
      "Downloading: https://ngdc.cncb.ac.cn/cancerscem/sample-details/EAC-116-07-1A\n",
      "EAC-116-08-1A\n",
      "Downloading: https://ngdc.cncb.ac.cn/cancerscem/sample-details/EAC-116-08-1A\n",
      "GBM-117-01-1A\n",
      "Loading from cache: https://ngdc.cncb.ac.cn/cancerscem/sample-details/GBM-117-01-1A\n",
      "GBM-117-02-1A\n",
      "Downloading: https://ngdc.cncb.ac.cn/cancerscem/sample-details/GBM-117-02-1A\n",
      "ccRCC-118-01-1A\n",
      "Loading from cache: https://ngdc.cncb.ac.cn/cancerscem/sample-details/ccRCC-118-01-1A\n",
      "ccRCC-118-02-1A\n",
      "Downloading: https://ngdc.cncb.ac.cn/cancerscem/sample-details/ccRCC-118-02-1A\n",
      "ccRCC-118-03-1A\n",
      "Downloading: https://ngdc.cncb.ac.cn/cancerscem/sample-details/ccRCC-118-03-1A\n",
      "ccRCC-118-04-1A\n",
      "Downloading: https://ngdc.cncb.ac.cn/cancerscem/sample-details/ccRCC-118-04-1A\n",
      "ccRCC-118-05-1A\n",
      "Downloading: https://ngdc.cncb.ac.cn/cancerscem/sample-details/ccRCC-118-05-1A\n",
      "ccRCC-118-06-1A\n",
      "Downloading: https://ngdc.cncb.ac.cn/cancerscem/sample-details/ccRCC-118-06-1A\n",
      "ccRCC-118-07-1A\n",
      "Downloading: https://ngdc.cncb.ac.cn/cancerscem/sample-details/ccRCC-118-07-1A\n",
      "ccRCC-118-08-1A\n",
      "Downloading: https://ngdc.cncb.ac.cn/cancerscem/sample-details/ccRCC-118-08-1A\n",
      "CaCx-120-01-1A\n",
      "Loading from cache: https://ngdc.cncb.ac.cn/cancerscem/sample-details/CaCx-120-01-1A\n",
      "CaCx-120-02-1A\n",
      "Downloading: https://ngdc.cncb.ac.cn/cancerscem/sample-details/CaCx-120-02-1A\n",
      "CaCx-120-03-1A\n",
      "Downloading: https://ngdc.cncb.ac.cn/cancerscem/sample-details/CaCx-120-03-1A\n",
      "HNSCC-121-01-1A\n",
      "Loading from cache: https://ngdc.cncb.ac.cn/cancerscem/sample-details/HNSCC-121-01-1A\n",
      "HNSCC-121-02-1A\n",
      "Downloading: https://ngdc.cncb.ac.cn/cancerscem/sample-details/HNSCC-121-02-1A\n",
      "HNSCC-121-03-1A\n",
      "Downloading: https://ngdc.cncb.ac.cn/cancerscem/sample-details/HNSCC-121-03-1A\n",
      "HNSCC-121-04-1A\n",
      "Downloading: https://ngdc.cncb.ac.cn/cancerscem/sample-details/HNSCC-121-04-1A\n",
      "HNSCC-121-05-1A\n",
      "Downloading: https://ngdc.cncb.ac.cn/cancerscem/sample-details/HNSCC-121-05-1A\n",
      "HNSCC-121-06-1A\n",
      "Downloading: https://ngdc.cncb.ac.cn/cancerscem/sample-details/HNSCC-121-06-1A\n",
      "HNSCC-121-07-1A\n",
      "Downloading: https://ngdc.cncb.ac.cn/cancerscem/sample-details/HNSCC-121-07-1A\n",
      "HNSCC-121-08-1A\n",
      "Downloading: https://ngdc.cncb.ac.cn/cancerscem/sample-details/HNSCC-121-08-1A\n",
      "HNSCC-121-09-1A\n",
      "Downloading: https://ngdc.cncb.ac.cn/cancerscem/sample-details/HNSCC-121-09-1A\n",
      "HNSCC-121-10-1A\n",
      "Downloading: https://ngdc.cncb.ac.cn/cancerscem/sample-details/HNSCC-121-10-1A\n",
      "HNSCC-121-11-1A\n",
      "Downloading: https://ngdc.cncb.ac.cn/cancerscem/sample-details/HNSCC-121-11-1A\n",
      "HNSCC-121-12-1A\n",
      "Downloading: https://ngdc.cncb.ac.cn/cancerscem/sample-details/HNSCC-121-12-1A\n",
      "HNSCC-121-13-1A\n",
      "Downloading: https://ngdc.cncb.ac.cn/cancerscem/sample-details/HNSCC-121-13-1A\n",
      "HNSCC-121-14-1A\n",
      "Downloading: https://ngdc.cncb.ac.cn/cancerscem/sample-details/HNSCC-121-14-1A\n",
      "HNSCC-121-15-1A\n",
      "Downloading: https://ngdc.cncb.ac.cn/cancerscem/sample-details/HNSCC-121-15-1A\n",
      "MCC-122-01-1A\n",
      "Loading from cache: https://ngdc.cncb.ac.cn/cancerscem/sample-details/MCC-122-01-1A\n",
      "MCC-122-02-1A\n",
      "Downloading: https://ngdc.cncb.ac.cn/cancerscem/sample-details/MCC-122-02-1A\n",
      "MCC-122-03-1A\n",
      "Downloading: https://ngdc.cncb.ac.cn/cancerscem/sample-details/MCC-122-03-1A\n",
      "MCC-122-04-1A\n",
      "Downloading: https://ngdc.cncb.ac.cn/cancerscem/sample-details/MCC-122-04-1A\n",
      "MCC-122-05-1A\n",
      "Downloading: https://ngdc.cncb.ac.cn/cancerscem/sample-details/MCC-122-05-1A\n",
      "MCC-122-06-1A\n",
      "Downloading: https://ngdc.cncb.ac.cn/cancerscem/sample-details/MCC-122-06-1A\n",
      "MCC-122-07-1A\n",
      "Downloading: https://ngdc.cncb.ac.cn/cancerscem/sample-details/MCC-122-07-1A\n",
      "MCC-122-08-1A\n",
      "Downloading: https://ngdc.cncb.ac.cn/cancerscem/sample-details/MCC-122-08-1A\n",
      "MCC-122-09-1A\n",
      "Downloading: https://ngdc.cncb.ac.cn/cancerscem/sample-details/MCC-122-09-1A\n",
      "MCC-122-10-1A\n",
      "Downloading: https://ngdc.cncb.ac.cn/cancerscem/sample-details/MCC-122-10-1A\n",
      "MCC-122-11-1A\n",
      "Downloading: https://ngdc.cncb.ac.cn/cancerscem/sample-details/MCC-122-11-1A\n",
      "RMC-125-01-1A\n",
      "Loading from cache: https://ngdc.cncb.ac.cn/cancerscem/sample-details/RMC-125-01-1A\n",
      "RMC-125-02-1A\n",
      "Downloading: https://ngdc.cncb.ac.cn/cancerscem/sample-details/RMC-125-02-1A\n",
      "RMC-125-03-1A\n",
      "Downloading: https://ngdc.cncb.ac.cn/cancerscem/sample-details/RMC-125-03-1A\n",
      "ESCC-126-01-1A\n",
      "Loading from cache: https://ngdc.cncb.ac.cn/cancerscem/sample-details/ESCC-126-01-1A\n",
      "ESCC-126-02-1A\n",
      "Downloading: https://ngdc.cncb.ac.cn/cancerscem/sample-details/ESCC-126-02-1A\n",
      "ESCC-126-03-1A\n",
      "Downloading: https://ngdc.cncb.ac.cn/cancerscem/sample-details/ESCC-126-03-1A\n",
      "ESCC-126-04-1A\n",
      "Downloading: https://ngdc.cncb.ac.cn/cancerscem/sample-details/ESCC-126-04-1A\n",
      "ESCC-126-05-1A\n",
      "Downloading: https://ngdc.cncb.ac.cn/cancerscem/sample-details/ESCC-126-05-1A\n",
      "ESCC-126-06-1A\n",
      "Downloading: https://ngdc.cncb.ac.cn/cancerscem/sample-details/ESCC-126-06-1A\n",
      "ESCC-126-07-1A\n",
      "Downloading: https://ngdc.cncb.ac.cn/cancerscem/sample-details/ESCC-126-07-1A\n",
      "ESCC-126-08-1A\n",
      "Downloading: https://ngdc.cncb.ac.cn/cancerscem/sample-details/ESCC-126-08-1A\n",
      "ESCC-126-09-1A\n",
      "Downloading: https://ngdc.cncb.ac.cn/cancerscem/sample-details/ESCC-126-09-1A\n",
      "ESCC-126-10-1A\n",
      "Downloading: https://ngdc.cncb.ac.cn/cancerscem/sample-details/ESCC-126-10-1A\n",
      "ESCC-126-11-1A\n",
      "Downloading: https://ngdc.cncb.ac.cn/cancerscem/sample-details/ESCC-126-11-1A\n",
      "ESCC-126-12-1A\n",
      "Downloading: https://ngdc.cncb.ac.cn/cancerscem/sample-details/ESCC-126-12-1A\n",
      "HNSCC-127-01-1A\n",
      "Loading from cache: https://ngdc.cncb.ac.cn/cancerscem/sample-details/HNSCC-127-01-1A\n",
      "HNSCC-127-02-1A\n",
      "Downloading: https://ngdc.cncb.ac.cn/cancerscem/sample-details/HNSCC-127-02-1A\n",
      "HNSCC-127-03-1A\n",
      "Downloading: https://ngdc.cncb.ac.cn/cancerscem/sample-details/HNSCC-127-03-1A\n",
      "BRCA-128-01-1A\n",
      "Loading from cache: https://ngdc.cncb.ac.cn/cancerscem/sample-details/BRCA-128-01-1A\n",
      "BRCA-128-02-1A\n",
      "Downloading: https://ngdc.cncb.ac.cn/cancerscem/sample-details/BRCA-128-02-1A\n",
      "BRCA-128-03-1A\n",
      "Downloading: https://ngdc.cncb.ac.cn/cancerscem/sample-details/BRCA-128-03-1A\n",
      "BRCA-128-04-1A\n",
      "Downloading: https://ngdc.cncb.ac.cn/cancerscem/sample-details/BRCA-128-04-1A\n",
      "BRCA-128-05-1A\n",
      "Downloading: https://ngdc.cncb.ac.cn/cancerscem/sample-details/BRCA-128-05-1A\n",
      "BRCA-128-06-1A\n",
      "Downloading: https://ngdc.cncb.ac.cn/cancerscem/sample-details/BRCA-128-06-1A\n",
      "BRCA-128-07-1A\n",
      "Downloading: https://ngdc.cncb.ac.cn/cancerscem/sample-details/BRCA-128-07-1A\n",
      "BRCA-128-08-1A\n",
      "Downloading: https://ngdc.cncb.ac.cn/cancerscem/sample-details/BRCA-128-08-1A\n",
      "HSCC-130-01-1H\n",
      "Loading from cache: https://ngdc.cncb.ac.cn/cancerscem/sample-details/HSCC-130-01-1H\n",
      "HSCC-130-02-1H\n",
      "Downloading: https://ngdc.cncb.ac.cn/cancerscem/sample-details/HSCC-130-02-1H\n",
      "HSCC-130-03-1H\n",
      "Downloading: https://ngdc.cncb.ac.cn/cancerscem/sample-details/HSCC-130-03-1H\n",
      "HSCC-130-04-1H\n",
      "Downloading: https://ngdc.cncb.ac.cn/cancerscem/sample-details/HSCC-130-04-1H\n",
      "HSCC-130-05-1H\n",
      "Downloading: https://ngdc.cncb.ac.cn/cancerscem/sample-details/HSCC-130-05-1H\n",
      "HSCC-130-06-1H\n",
      "Downloading: https://ngdc.cncb.ac.cn/cancerscem/sample-details/HSCC-130-06-1H\n",
      "HSCC-130-07-1H\n",
      "Downloading: https://ngdc.cncb.ac.cn/cancerscem/sample-details/HSCC-130-07-1H\n",
      "HSCC-130-08-1H\n",
      "Downloading: https://ngdc.cncb.ac.cn/cancerscem/sample-details/HSCC-130-08-1H\n",
      "HSCC-130-09-1H\n",
      "Downloading: https://ngdc.cncb.ac.cn/cancerscem/sample-details/HSCC-130-09-1H\n",
      "HSCC-130-10-1H\n",
      "Downloading: https://ngdc.cncb.ac.cn/cancerscem/sample-details/HSCC-130-10-1H\n",
      "PDAC-132-01-1A\n",
      "Loading from cache: https://ngdc.cncb.ac.cn/cancerscem/sample-details/PDAC-132-01-1A\n",
      "PDAC-132-02-1A\n",
      "Downloading: https://ngdc.cncb.ac.cn/cancerscem/sample-details/PDAC-132-02-1A\n",
      "CRC-133-01-1A\n",
      "Loading from cache: https://ngdc.cncb.ac.cn/cancerscem/sample-details/CRC-133-01-1A\n",
      "CRC-133-02-1A\n",
      "Downloading: https://ngdc.cncb.ac.cn/cancerscem/sample-details/CRC-133-02-1A\n",
      "BRCA-134-01-1A\n",
      "Loading from cache: https://ngdc.cncb.ac.cn/cancerscem/sample-details/BRCA-134-01-1A\n",
      "BRCA-134-02-1A\n",
      "Downloading: https://ngdc.cncb.ac.cn/cancerscem/sample-details/BRCA-134-02-1A\n",
      "BRCA-134-03-1A\n",
      "Downloading: https://ngdc.cncb.ac.cn/cancerscem/sample-details/BRCA-134-03-1A\n",
      "BRCA-135-01-1H\n",
      "Loading from cache: https://ngdc.cncb.ac.cn/cancerscem/sample-details/BRCA-135-01-1H\n",
      "BRCA-135-02-1H\n",
      "Downloading: https://ngdc.cncb.ac.cn/cancerscem/sample-details/BRCA-135-02-1H\n"
     ]
    }
   ],
   "source": [
    "\n",
    "results = []\n",
    "for sample_id in metadata[\"Sample ID\"]:\n",
    "    print(sample_id)\n",
    "    subset = metadata[metadata[\"Sample ID\"]==sample_id]\n",
    "    target_url = f\"https://ngdc.cncb.ac.cn/cancerscem/sample-details/{sample_id}\"\n",
    "    try:\n",
    "        scraper = WebScraper(target_url, cache_dir=\".cache\")\n",
    "\n",
    "        # Fetch and parse the webpage (will use cache if available)\n",
    "        soup = scraper.fetch_page(target_url)\n",
    "\n",
    "        # Extract data\n",
    "        data = extract_data(soup)\n",
    "        if data is not None:\n",
    "            data[\"sample ID\"] = sample_id\n",
    "            data[\"Accession No.\"] = subset[\"Accession No.\"].item()\n",
    "            data[\"Project ID\"] = subset[\"Project ID\"].item()\n",
    "            results.append(data)\n",
    "        else:\n",
    "            print(\"Edge case\", sample_id)\n",
    "    except Exception as e:\n",
    "        print(f\"Scraping failed: {str(e)}\")\n",
    "results = pd.DataFrame(results)\n"
   ]
  },
  {
   "cell_type": "code",
   "execution_count": 21,
   "metadata": {},
   "outputs": [],
   "source": [
    "results.to_csv(\"sample_metadata.csv\")"
   ]
  },
  {
   "cell_type": "code",
   "execution_count": 8,
   "metadata": {},
   "outputs": [],
   "source": [
    "results = pd.read_csv(\"sample_metadata.csv\")\n",
    "results = results[results[\"included\"]==\"yes\"]"
   ]
  },
  {
   "cell_type": "code",
   "execution_count": null,
   "metadata": {},
   "outputs": [],
   "source": [
    "from io import BytesIO\n",
    "from typing import Optional\n",
    "\n",
    "import requests\n",
    "from scipy import sparse\n",
    "\n",
    "\n",
    "def get_dataframe(url, compression = None) -> Optional[pd.DataFrame]:\n",
    "    response = requests.get(url, stream=True)\n",
    "    if response.status_code == 200:\n",
    "        content = BytesIO(response.content)\n",
    "        df = pd.read_csv(content, compression=compression, sep='\\t', index_col=0)\n",
    "        return df\n",
    "\n",
    "\n",
    "def get_anndata_from_sample_id(sample_id: str) -> Optional[sc.AnnData]:\n",
    "    count_url = f'https://ngdc.cncb.ac.cn/cancerscem/downloads/expMatrixes/{sample_id}.counts.matrix.tsv.gz'\n",
    "    celltype_url = f'https://ngdc.cncb.ac.cn/cancerscem/downloads/cell_annotation/{sample_id}.cell.type.txt'\n",
    "\n",
    "    cell_type = get_dataframe(celltype_url)\n",
    "\n",
    "    cell_type_counts = cell_type.value_counts()\n",
    "\n",
    "    if not _malignant_cell in cell_type_counts.index:\n",
    "        return \n",
    "\n",
    "    if cell_type_counts[_malignant_cell] < 50:\n",
    "        return\n",
    "\n",
    "    count_data = get_dataframe(count_url, compression=\"gzip\")\n",
    "\n",
    "    if (count_data is None) or (cell_type is None):\n",
    "        return\n",
    "\n",
    "    adata = sc.AnnData(count_data.transpose())\n",
    "    adata.X = sparse.csr_matrix(adata.X)\n",
    "    adata.obs = cell_type.loc[adata.obs_names].copy()\n",
    "    adata.obs[\"sample_id\"] = sample_id\n",
    "    return adata\n",
    "\n"
   ]
  },
  {
   "cell_type": "code",
   "execution_count": 11,
   "metadata": {},
   "outputs": [
    {
     "name": "stderr",
     "output_type": "stream",
     "text": [
      " 31%|███▏      | 232/737 [11:22<2:17:32, 16.34s/it]"
     ]
    },
    {
     "name": "stdout",
     "output_type": "stream",
     "text": [
      "WT-070-01-1A\n"
     ]
    },
    {
     "name": "stderr",
     "output_type": "stream",
     "text": [
      " 32%|███▏      | 233/737 [11:24<1:54:45, 13.66s/it]"
     ]
    },
    {
     "name": "stdout",
     "output_type": "stream",
     "text": [
      "WT-070-02-1A\n"
     ]
    },
    {
     "name": "stderr",
     "output_type": "stream",
     "text": [
      " 32%|███▏      | 234/737 [11:25<1:33:02, 11.10s/it]"
     ]
    },
    {
     "name": "stdout",
     "output_type": "stream",
     "text": [
      "WT-070-03-1A\n"
     ]
    },
    {
     "name": "stderr",
     "output_type": "stream",
     "text": [
      " 32%|███▏      | 235/737 [11:26<1:14:09,  8.86s/it]"
     ]
    },
    {
     "name": "stdout",
     "output_type": "stream",
     "text": [
      "WT-070-04-1A\n"
     ]
    },
    {
     "name": "stderr",
     "output_type": "stream",
     "text": [
      " 32%|███▏      | 236/737 [11:28<58:36,  7.02s/it]  "
     ]
    },
    {
     "name": "stdout",
     "output_type": "stream",
     "text": [
      "WT-070-05-1A\n"
     ]
    },
    {
     "name": "stderr",
     "output_type": "stream",
     "text": [
      " 32%|███▏      | 237/737 [11:29<46:08,  5.54s/it]"
     ]
    },
    {
     "name": "stdout",
     "output_type": "stream",
     "text": [
      "WT-070-06-1A\n"
     ]
    },
    {
     "name": "stderr",
     "output_type": "stream",
     "text": [
      " 32%|███▏      | 238/737 [11:31<36:39,  4.41s/it]"
     ]
    },
    {
     "name": "stdout",
     "output_type": "stream",
     "text": [
      "WT-070-07-1A\n"
     ]
    },
    {
     "name": "stderr",
     "output_type": "stream",
     "text": [
      " 32%|███▏      | 239/737 [11:32<29:32,  3.56s/it]"
     ]
    },
    {
     "name": "stdout",
     "output_type": "stream",
     "text": [
      "WT-070-08-1A\n"
     ]
    },
    {
     "name": "stderr",
     "output_type": "stream",
     "text": [
      " 33%|███▎      | 240/737 [11:33<24:15,  2.93s/it]"
     ]
    },
    {
     "name": "stdout",
     "output_type": "stream",
     "text": [
      "WT-070-09-1A\n"
     ]
    },
    {
     "name": "stderr",
     "output_type": "stream",
     "text": [
      " 33%|███▎      | 241/737 [11:35<21:02,  2.54s/it]"
     ]
    },
    {
     "name": "stdout",
     "output_type": "stream",
     "text": [
      "WT-070-10-1A\n"
     ]
    },
    {
     "name": "stderr",
     "output_type": "stream",
     "text": [
      " 33%|███▎      | 242/737 [11:36<17:33,  2.13s/it]"
     ]
    },
    {
     "name": "stdout",
     "output_type": "stream",
     "text": [
      "WT-070-11-1A\n"
     ]
    },
    {
     "name": "stderr",
     "output_type": "stream",
     "text": [
      " 33%|███▎      | 244/737 [12:21<1:27:15, 10.62s/it]"
     ]
    },
    {
     "name": "stdout",
     "output_type": "stream",
     "text": [
      "WT-070-13-1A\n"
     ]
    },
    {
     "name": "stderr",
     "output_type": "stream",
     "text": [
      " 33%|███▎      | 246/737 [13:27<2:36:57, 19.18s/it]"
     ]
    },
    {
     "name": "stdout",
     "output_type": "stream",
     "text": [
      "WT-070-15-1A\n"
     ]
    },
    {
     "name": "stderr",
     "output_type": "stream",
     "text": [
      " 34%|███▎      | 248/737 [14:16<2:41:43, 19.84s/it]"
     ]
    },
    {
     "name": "stdout",
     "output_type": "stream",
     "text": [
      "WT-070-17-1A\n"
     ]
    },
    {
     "name": "stderr",
     "output_type": "stream",
     "text": [
      " 34%|███▍      | 249/737 [14:18<1:56:20, 14.30s/it]"
     ]
    },
    {
     "name": "stdout",
     "output_type": "stream",
     "text": [
      "WT-070-18-1A\n"
     ]
    },
    {
     "name": "stderr",
     "output_type": "stream",
     "text": [
      " 34%|███▍      | 250/737 [14:19<1:24:34, 10.42s/it]"
     ]
    },
    {
     "name": "stdout",
     "output_type": "stream",
     "text": [
      "WT-070-19-1A\n"
     ]
    },
    {
     "name": "stderr",
     "output_type": "stream",
     "text": [
      " 34%|███▍      | 251/737 [14:20<1:02:23,  7.70s/it]"
     ]
    },
    {
     "name": "stdout",
     "output_type": "stream",
     "text": [
      "WT-070-20-1A\n"
     ]
    },
    {
     "name": "stderr",
     "output_type": "stream",
     "text": [
      " 34%|███▍      | 252/737 [14:22<46:52,  5.80s/it]  "
     ]
    },
    {
     "name": "stdout",
     "output_type": "stream",
     "text": [
      "WT-070-21-1A\n"
     ]
    },
    {
     "name": "stderr",
     "output_type": "stream",
     "text": [
      " 34%|███▍      | 253/737 [14:23<37:03,  4.59s/it]"
     ]
    },
    {
     "name": "stdout",
     "output_type": "stream",
     "text": [
      "WT-070-22-1A\n"
     ]
    },
    {
     "name": "stderr",
     "output_type": "stream",
     "text": [
      " 34%|███▍      | 254/737 [14:24<28:35,  3.55s/it]"
     ]
    },
    {
     "name": "stdout",
     "output_type": "stream",
     "text": [
      "WT-070-23-1A\n"
     ]
    },
    {
     "name": "stderr",
     "output_type": "stream",
     "text": [
      " 35%|███▍      | 257/737 [17:03<3:41:32, 27.69s/it]"
     ]
    },
    {
     "name": "stdout",
     "output_type": "stream",
     "text": [
      "WT-070-26-1A\n"
     ]
    },
    {
     "name": "stderr",
     "output_type": "stream",
     "text": [
      " 35%|███▌      | 260/737 [18:29<3:20:18, 25.20s/it]"
     ]
    },
    {
     "name": "stdout",
     "output_type": "stream",
     "text": [
      "WT-070-29-1A\n"
     ]
    },
    {
     "name": "stderr",
     "output_type": "stream",
     "text": [
      " 35%|███▌      | 261/737 [18:30<2:23:09, 18.05s/it]"
     ]
    },
    {
     "name": "stdout",
     "output_type": "stream",
     "text": [
      "WT-070-30-1A\n"
     ]
    },
    {
     "name": "stderr",
     "output_type": "stream",
     "text": [
      " 36%|███▌      | 262/737 [18:31<1:43:12, 13.04s/it]"
     ]
    },
    {
     "name": "stdout",
     "output_type": "stream",
     "text": [
      "WT-070-31-1A\n"
     ]
    },
    {
     "name": "stderr",
     "output_type": "stream",
     "text": [
      " 36%|███▌      | 263/737 [18:33<1:15:48,  9.60s/it]"
     ]
    },
    {
     "name": "stdout",
     "output_type": "stream",
     "text": [
      "WT-070-32-1A\n"
     ]
    },
    {
     "name": "stderr",
     "output_type": "stream",
     "text": [
      " 36%|███▌      | 266/737 [19:18<1:33:02, 11.85s/it]"
     ]
    },
    {
     "name": "stdout",
     "output_type": "stream",
     "text": [
      "WT-070-35-1A\n"
     ]
    },
    {
     "name": "stderr",
     "output_type": "stream",
     "text": [
      " 36%|███▌      | 267/737 [19:20<1:08:42,  8.77s/it]"
     ]
    },
    {
     "name": "stdout",
     "output_type": "stream",
     "text": [
      "WT-070-36-1A\n"
     ]
    },
    {
     "name": "stderr",
     "output_type": "stream",
     "text": [
      " 36%|███▋      | 268/737 [19:21<51:49,  6.63s/it]  "
     ]
    },
    {
     "name": "stdout",
     "output_type": "stream",
     "text": [
      "WT-070-37-1A\n"
     ]
    },
    {
     "name": "stderr",
     "output_type": "stream",
     "text": [
      " 36%|███▋      | 269/737 [19:23<39:22,  5.05s/it]"
     ]
    },
    {
     "name": "stdout",
     "output_type": "stream",
     "text": [
      "WT-070-38-1A\n"
     ]
    },
    {
     "name": "stderr",
     "output_type": "stream",
     "text": [
      " 37%|███▋      | 270/737 [19:24<31:07,  4.00s/it]"
     ]
    },
    {
     "name": "stdout",
     "output_type": "stream",
     "text": [
      "WT-070-39-1A\n"
     ]
    },
    {
     "name": "stderr",
     "output_type": "stream",
     "text": [
      " 37%|███▋      | 271/737 [19:26<25:54,  3.34s/it]"
     ]
    },
    {
     "name": "stdout",
     "output_type": "stream",
     "text": [
      "WT-070-40-1A\n"
     ]
    },
    {
     "name": "stderr",
     "output_type": "stream",
     "text": [
      " 38%|███▊      | 279/737 [28:17<6:57:02, 54.63s/it]"
     ]
    },
    {
     "name": "stdout",
     "output_type": "stream",
     "text": [
      "GBM-077-01-1A\n"
     ]
    },
    {
     "name": "stderr",
     "output_type": "stream",
     "text": [
      " 38%|███▊      | 280/737 [28:19<4:55:26, 38.79s/it]"
     ]
    },
    {
     "name": "stdout",
     "output_type": "stream",
     "text": [
      "GBM-077-02-1A\n"
     ]
    },
    {
     "name": "stderr",
     "output_type": "stream",
     "text": [
      " 38%|███▊      | 281/737 [28:20<3:29:58, 27.63s/it]"
     ]
    },
    {
     "name": "stdout",
     "output_type": "stream",
     "text": [
      "GBM-077-03-1A\n"
     ]
    },
    {
     "name": "stderr",
     "output_type": "stream",
     "text": [
      " 38%|███▊      | 282/737 [28:22<2:30:16, 19.82s/it]"
     ]
    },
    {
     "name": "stdout",
     "output_type": "stream",
     "text": [
      "GBM-077-04-1A\n"
     ]
    },
    {
     "name": "stderr",
     "output_type": "stream",
     "text": [
      " 38%|███▊      | 283/737 [28:24<1:48:34, 14.35s/it]"
     ]
    },
    {
     "name": "stdout",
     "output_type": "stream",
     "text": [
      "GBM-077-05-1A\n"
     ]
    },
    {
     "name": "stderr",
     "output_type": "stream",
     "text": [
      " 39%|███▊      | 284/737 [28:25<1:19:26, 10.52s/it]"
     ]
    },
    {
     "name": "stdout",
     "output_type": "stream",
     "text": [
      "GBM-077-06-1A\n"
     ]
    },
    {
     "name": "stderr",
     "output_type": "stream",
     "text": [
      " 39%|███▊      | 285/737 [28:27<59:04,  7.84s/it]  "
     ]
    },
    {
     "name": "stdout",
     "output_type": "stream",
     "text": [
      "GBM-077-07-1A\n"
     ]
    },
    {
     "name": "stderr",
     "output_type": "stream",
     "text": [
      " 39%|███▉      | 286/737 [28:28<44:20,  5.90s/it]"
     ]
    },
    {
     "name": "stdout",
     "output_type": "stream",
     "text": [
      "GBM-077-08-1A\n"
     ]
    },
    {
     "name": "stderr",
     "output_type": "stream",
     "text": [
      " 39%|███▉      | 287/737 [28:29<34:01,  4.54s/it]"
     ]
    },
    {
     "name": "stdout",
     "output_type": "stream",
     "text": [
      "GBM-077-09-1A\n"
     ]
    },
    {
     "name": "stderr",
     "output_type": "stream",
     "text": [
      " 39%|███▉      | 288/737 [28:31<27:23,  3.66s/it]"
     ]
    },
    {
     "name": "stdout",
     "output_type": "stream",
     "text": [
      "GBM-077-10-1A\n"
     ]
    },
    {
     "name": "stderr",
     "output_type": "stream",
     "text": [
      " 39%|███▉      | 289/737 [28:32<22:12,  2.97s/it]"
     ]
    },
    {
     "name": "stdout",
     "output_type": "stream",
     "text": [
      "GBM-077-11-1A\n"
     ]
    },
    {
     "name": "stderr",
     "output_type": "stream",
     "text": [
      " 39%|███▉      | 290/737 [28:34<19:33,  2.62s/it]"
     ]
    },
    {
     "name": "stdout",
     "output_type": "stream",
     "text": [
      "GBM-077-12-1A\n"
     ]
    },
    {
     "name": "stderr",
     "output_type": "stream",
     "text": [
      " 39%|███▉      | 291/737 [28:36<17:14,  2.32s/it]"
     ]
    },
    {
     "name": "stdout",
     "output_type": "stream",
     "text": [
      "GBM-077-13-1A\n"
     ]
    },
    {
     "name": "stderr",
     "output_type": "stream",
     "text": [
      " 40%|███▉      | 292/737 [28:37<15:35,  2.10s/it]"
     ]
    },
    {
     "name": "stdout",
     "output_type": "stream",
     "text": [
      "GBM-077-14-1A\n"
     ]
    },
    {
     "name": "stderr",
     "output_type": "stream",
     "text": [
      " 40%|███▉      | 293/737 [28:39<14:26,  1.95s/it]"
     ]
    },
    {
     "name": "stdout",
     "output_type": "stream",
     "text": [
      "GBM-077-15-1A\n"
     ]
    },
    {
     "name": "stderr",
     "output_type": "stream",
     "text": [
      " 40%|███▉      | 294/737 [28:41<13:37,  1.85s/it]"
     ]
    },
    {
     "name": "stdout",
     "output_type": "stream",
     "text": [
      "GBM-077-16-1A\n"
     ]
    },
    {
     "name": "stderr",
     "output_type": "stream",
     "text": [
      " 40%|████      | 295/737 [28:42<13:27,  1.83s/it]"
     ]
    },
    {
     "name": "stdout",
     "output_type": "stream",
     "text": [
      "GBM-077-17-1A\n"
     ]
    },
    {
     "name": "stderr",
     "output_type": "stream",
     "text": [
      " 40%|████      | 296/737 [28:44<12:49,  1.75s/it]"
     ]
    },
    {
     "name": "stdout",
     "output_type": "stream",
     "text": [
      "GBM-077-18-1A\n"
     ]
    },
    {
     "name": "stderr",
     "output_type": "stream",
     "text": [
      " 43%|████▎     | 315/737 [40:19<2:33:29, 21.82s/it]"
     ]
    },
    {
     "name": "stdout",
     "output_type": "stream",
     "text": [
      "GBM-080-01-1F\n"
     ]
    },
    {
     "name": "stderr",
     "output_type": "stream",
     "text": [
      " 43%|████▎     | 316/737 [40:21<1:49:59, 15.68s/it]"
     ]
    },
    {
     "name": "stdout",
     "output_type": "stream",
     "text": [
      "GBM-080-02-1F\n"
     ]
    },
    {
     "name": "stderr",
     "output_type": "stream",
     "text": [
      " 43%|████▎     | 317/737 [40:22<1:20:09, 11.45s/it]"
     ]
    },
    {
     "name": "stdout",
     "output_type": "stream",
     "text": [
      "MB-081-01-1A\n"
     ]
    },
    {
     "name": "stderr",
     "output_type": "stream",
     "text": [
      " 43%|████▎     | 318/737 [40:24<59:14,  8.48s/it]  "
     ]
    },
    {
     "name": "stdout",
     "output_type": "stream",
     "text": [
      "MB-081-02-1A\n"
     ]
    },
    {
     "name": "stderr",
     "output_type": "stream",
     "text": [
      " 43%|████▎     | 319/737 [40:26<44:41,  6.41s/it]"
     ]
    },
    {
     "name": "stdout",
     "output_type": "stream",
     "text": [
      "MB-081-03-1A\n"
     ]
    },
    {
     "name": "stderr",
     "output_type": "stream",
     "text": [
      " 43%|████▎     | 320/737 [40:27<34:54,  5.02s/it]"
     ]
    },
    {
     "name": "stdout",
     "output_type": "stream",
     "text": [
      "MB-081-04-1A\n"
     ]
    },
    {
     "name": "stderr",
     "output_type": "stream",
     "text": [
      " 44%|████▎     | 321/737 [40:29<28:42,  4.14s/it]"
     ]
    },
    {
     "name": "stdout",
     "output_type": "stream",
     "text": [
      "MB-081-05-1A\n"
     ]
    },
    {
     "name": "stderr",
     "output_type": "stream",
     "text": [
      " 44%|████▎     | 322/737 [40:32<25:19,  3.66s/it]"
     ]
    },
    {
     "name": "stdout",
     "output_type": "stream",
     "text": [
      "MB-081-06-1A\n"
     ]
    },
    {
     "name": "stderr",
     "output_type": "stream",
     "text": [
      " 44%|████▍     | 323/737 [40:34<21:25,  3.11s/it]"
     ]
    },
    {
     "name": "stdout",
     "output_type": "stream",
     "text": [
      "MB-081-07-1A\n"
     ]
    },
    {
     "name": "stderr",
     "output_type": "stream",
     "text": [
      " 44%|████▍     | 324/737 [40:35<18:14,  2.65s/it]"
     ]
    },
    {
     "name": "stdout",
     "output_type": "stream",
     "text": [
      "MB-081-08-1A\n"
     ]
    },
    {
     "name": "stderr",
     "output_type": "stream",
     "text": [
      " 44%|████▍     | 325/737 [40:38<18:33,  2.70s/it]"
     ]
    },
    {
     "name": "stdout",
     "output_type": "stream",
     "text": [
      "MB-081-09-1A\n"
     ]
    },
    {
     "name": "stderr",
     "output_type": "stream",
     "text": [
      " 44%|████▍     | 326/737 [40:42<19:55,  2.91s/it]"
     ]
    },
    {
     "name": "stdout",
     "output_type": "stream",
     "text": [
      "MB-081-10-1A\n"
     ]
    },
    {
     "name": "stderr",
     "output_type": "stream",
     "text": [
      " 44%|████▍     | 327/737 [40:44<19:32,  2.86s/it]"
     ]
    },
    {
     "name": "stdout",
     "output_type": "stream",
     "text": [
      "MB-081-11-1A\n"
     ]
    },
    {
     "name": "stderr",
     "output_type": "stream",
     "text": [
      " 45%|████▍     | 328/737 [40:46<17:16,  2.53s/it]"
     ]
    },
    {
     "name": "stdout",
     "output_type": "stream",
     "text": [
      "MB-081-12-1A\n"
     ]
    },
    {
     "name": "stderr",
     "output_type": "stream",
     "text": [
      " 45%|████▍     | 329/737 [40:48<15:45,  2.32s/it]"
     ]
    },
    {
     "name": "stdout",
     "output_type": "stream",
     "text": [
      "MB-081-13-1A\n"
     ]
    },
    {
     "name": "stderr",
     "output_type": "stream",
     "text": [
      " 45%|████▌     | 333/737 [41:55<1:16:18, 11.33s/it]"
     ]
    },
    {
     "name": "stdout",
     "output_type": "stream",
     "text": [
      "PRAD-082-04-1A\n"
     ]
    },
    {
     "name": "stderr",
     "output_type": "stream",
     "text": [
      " 45%|████▌     | 334/737 [41:56<55:34,  8.28s/it]  "
     ]
    },
    {
     "name": "stdout",
     "output_type": "stream",
     "text": [
      "PRAD-082-05-1A\n"
     ]
    },
    {
     "name": "stderr",
     "output_type": "stream",
     "text": [
      " 46%|████▋     | 341/737 [46:32<3:43:11, 33.82s/it]"
     ]
    },
    {
     "name": "stdout",
     "output_type": "stream",
     "text": [
      "PRAD-082-12-1A\n"
     ]
    },
    {
     "name": "stderr",
     "output_type": "stream",
     "text": [
      " 47%|████▋     | 344/737 [47:04<1:50:40, 16.90s/it]"
     ]
    },
    {
     "name": "stdout",
     "output_type": "stream",
     "text": [
      "PRAD-082-15-1A\n"
     ]
    },
    {
     "name": "stderr",
     "output_type": "stream",
     "text": [
      " 48%|████▊     | 356/737 [55:27<2:55:57, 27.71s/it]"
     ]
    },
    {
     "name": "stdout",
     "output_type": "stream",
     "text": [
      "PRAD-082-27-1A\n"
     ]
    },
    {
     "name": "stderr",
     "output_type": "stream",
     "text": [
      " 49%|████▊     | 359/737 [56:31<2:13:17, 21.16s/it]"
     ]
    },
    {
     "name": "stdout",
     "output_type": "stream",
     "text": [
      "MCC-084-01-1A\n"
     ]
    },
    {
     "name": "stderr",
     "output_type": "stream",
     "text": [
      " 49%|████▉     | 362/737 [57:01<1:20:07, 12.82s/it]"
     ]
    },
    {
     "name": "stdout",
     "output_type": "stream",
     "text": [
      "MCC-084-04-1A\n"
     ]
    },
    {
     "name": "stderr",
     "output_type": "stream",
     "text": [
      " 49%|████▉     | 364/737 [57:14<57:35,  9.26s/it]  "
     ]
    },
    {
     "name": "stdout",
     "output_type": "stream",
     "text": [
      "MCC-084-06-1A\n"
     ]
    },
    {
     "name": "stderr",
     "output_type": "stream",
     "text": [
      " 50%|████▉     | 365/737 [57:16<43:09,  6.96s/it]"
     ]
    },
    {
     "name": "stdout",
     "output_type": "stream",
     "text": [
      "MCC-084-07-1A\n"
     ]
    },
    {
     "name": "stderr",
     "output_type": "stream",
     "text": [
      " 50%|████▉     | 366/737 [57:17<32:37,  5.28s/it]"
     ]
    },
    {
     "name": "stdout",
     "output_type": "stream",
     "text": [
      "MCC-084-08-1A\n"
     ]
    },
    {
     "name": "stderr",
     "output_type": "stream",
     "text": [
      " 50%|████▉     | 367/737 [57:19<25:18,  4.10s/it]"
     ]
    },
    {
     "name": "stdout",
     "output_type": "stream",
     "text": [
      "MCC-084-09-1A\n"
     ]
    },
    {
     "name": "stderr",
     "output_type": "stream",
     "text": [
      " 50%|████▉     | 368/737 [57:20<20:09,  3.28s/it]"
     ]
    },
    {
     "name": "stdout",
     "output_type": "stream",
     "text": [
      "MCC-084-10-1A\n"
     ]
    },
    {
     "name": "stderr",
     "output_type": "stream",
     "text": [
      " 52%|█████▏    | 380/737 [1:03:08<2:37:09, 26.41s/it]"
     ]
    },
    {
     "name": "stdout",
     "output_type": "stream",
     "text": [
      "GBM-085-12-1A\n"
     ]
    },
    {
     "name": "stderr",
     "output_type": "stream",
     "text": [
      " 52%|█████▏    | 381/737 [1:03:09<1:52:09, 18.90s/it]"
     ]
    },
    {
     "name": "stdout",
     "output_type": "stream",
     "text": [
      "GBM-085-13-1A\n"
     ]
    },
    {
     "name": "stderr",
     "output_type": "stream",
     "text": [
      " 53%|█████▎    | 387/737 [1:05:50<2:09:25, 22.19s/it]"
     ]
    },
    {
     "name": "stdout",
     "output_type": "stream",
     "text": [
      "CRC-086-01-1A\n"
     ]
    },
    {
     "name": "stderr",
     "output_type": "stream",
     "text": [
      " 53%|█████▎    | 391/737 [1:06:28<1:09:46, 12.10s/it]"
     ]
    },
    {
     "name": "stdout",
     "output_type": "stream",
     "text": [
      "HNSCC-087-01-1A\n"
     ]
    },
    {
     "name": "stderr",
     "output_type": "stream",
     "text": [
      " 53%|█████▎    | 394/737 [1:07:01<56:16,  9.85s/it]  "
     ]
    },
    {
     "name": "stdout",
     "output_type": "stream",
     "text": [
      "PDAC-091-02-1A\n"
     ]
    },
    {
     "name": "stderr",
     "output_type": "stream",
     "text": [
      " 54%|█████▎    | 395/737 [1:07:03<41:42,  7.32s/it]"
     ]
    },
    {
     "name": "stdout",
     "output_type": "stream",
     "text": [
      "PDAC-091-03-1A\n"
     ]
    },
    {
     "name": "stderr",
     "output_type": "stream",
     "text": [
      " 54%|█████▎    | 396/737 [1:07:04<31:24,  5.53s/it]"
     ]
    },
    {
     "name": "stdout",
     "output_type": "stream",
     "text": [
      "PDAC-091-04-1A\n"
     ]
    },
    {
     "name": "stderr",
     "output_type": "stream",
     "text": [
      " 54%|█████▍    | 397/737 [1:07:05<24:12,  4.27s/it]"
     ]
    },
    {
     "name": "stdout",
     "output_type": "stream",
     "text": [
      "PDAC-091-05-1A\n"
     ]
    },
    {
     "name": "stderr",
     "output_type": "stream",
     "text": [
      " 55%|█████▍    | 402/737 [1:08:11<1:07:59, 12.18s/it]"
     ]
    },
    {
     "name": "stdout",
     "output_type": "stream",
     "text": [
      "PDAC-091-10-1A\n"
     ]
    },
    {
     "name": "stderr",
     "output_type": "stream",
     "text": [
      " 56%|█████▌    | 414/737 [1:10:28<47:01,  8.73s/it]  "
     ]
    },
    {
     "name": "stdout",
     "output_type": "stream",
     "text": [
      "PDAC-091-22-1A\n"
     ]
    },
    {
     "name": "stderr",
     "output_type": "stream",
     "text": [
      " 56%|█████▋    | 416/737 [1:11:42<1:47:05, 20.02s/it]"
     ]
    },
    {
     "name": "stdout",
     "output_type": "stream",
     "text": [
      "LUSC-092-02-1A\n"
     ]
    },
    {
     "name": "stderr",
     "output_type": "stream",
     "text": [
      " 58%|█████▊    | 430/737 [1:26:32<3:30:01, 41.05s/it]"
     ]
    },
    {
     "name": "stdout",
     "output_type": "stream",
     "text": [
      "LUSC-092-16-1A\n"
     ]
    },
    {
     "name": "stderr",
     "output_type": "stream",
     "text": [
      " 59%|█████▊    | 432/737 [1:27:04<2:17:23, 27.03s/it]"
     ]
    },
    {
     "name": "stdout",
     "output_type": "stream",
     "text": [
      "LUSC-092-18-1A\n"
     ]
    },
    {
     "name": "stderr",
     "output_type": "stream",
     "text": [
      " 60%|█████▉    | 441/737 [1:33:01<2:19:06, 28.20s/it]"
     ]
    },
    {
     "name": "stdout",
     "output_type": "stream",
     "text": [
      "SKCM-095-01-1A\n"
     ]
    },
    {
     "name": "stderr",
     "output_type": "stream",
     "text": [
      " 60%|█████▉    | 442/737 [1:33:03<1:40:03, 20.35s/it]"
     ]
    },
    {
     "name": "stdout",
     "output_type": "stream",
     "text": [
      "SKCM-095-02-1A\n"
     ]
    },
    {
     "name": "stderr",
     "output_type": "stream",
     "text": [
      " 60%|██████    | 443/737 [1:33:06<1:13:21, 14.97s/it]"
     ]
    },
    {
     "name": "stdout",
     "output_type": "stream",
     "text": [
      "SKCM-095-03-1A\n"
     ]
    },
    {
     "name": "stderr",
     "output_type": "stream",
     "text": [
      " 61%|██████    | 446/737 [1:34:25<1:34:22, 19.46s/it]"
     ]
    },
    {
     "name": "stdout",
     "output_type": "stream",
     "text": [
      "LUAD-096-03-1A\n"
     ]
    },
    {
     "name": "stderr",
     "output_type": "stream",
     "text": [
      " 61%|██████    | 451/737 [1:37:11<2:01:20, 25.46s/it]"
     ]
    },
    {
     "name": "stdout",
     "output_type": "stream",
     "text": [
      "LUAD-096-08-1A\n"
     ]
    },
    {
     "name": "stderr",
     "output_type": "stream",
     "text": [
      " 61%|██████▏   | 452/737 [1:37:12<1:26:51, 18.29s/it]"
     ]
    },
    {
     "name": "stdout",
     "output_type": "stream",
     "text": [
      "LUAD-096-09-1A\n"
     ]
    },
    {
     "name": "stderr",
     "output_type": "stream",
     "text": [
      " 61%|██████▏   | 453/737 [1:37:13<1:02:31, 13.21s/it]"
     ]
    },
    {
     "name": "stdout",
     "output_type": "stream",
     "text": [
      "LUAD-096-10-1A\n"
     ]
    },
    {
     "name": "stderr",
     "output_type": "stream",
     "text": [
      " 62%|██████▏   | 454/737 [1:37:15<45:48,  9.71s/it]  "
     ]
    },
    {
     "name": "stdout",
     "output_type": "stream",
     "text": [
      "LUAD-096-11-1A\n"
     ]
    },
    {
     "name": "stderr",
     "output_type": "stream",
     "text": [
      " 62%|██████▏   | 456/737 [1:37:40<47:40, 10.18s/it]  "
     ]
    },
    {
     "name": "stdout",
     "output_type": "stream",
     "text": [
      "LUAD-096-13-1A\n"
     ]
    },
    {
     "name": "stderr",
     "output_type": "stream",
     "text": [
      " 62%|██████▏   | 457/737 [1:37:42<35:29,  7.61s/it]"
     ]
    },
    {
     "name": "stdout",
     "output_type": "stream",
     "text": [
      "LUAD-096-14-1A\n"
     ]
    },
    {
     "name": "stderr",
     "output_type": "stream",
     "text": [
      " 62%|██████▏   | 458/737 [1:37:43<26:58,  5.80s/it]"
     ]
    },
    {
     "name": "stdout",
     "output_type": "stream",
     "text": [
      "LUAD-096-15-1A\n"
     ]
    },
    {
     "name": "stderr",
     "output_type": "stream",
     "text": [
      " 64%|██████▍   | 473/737 [1:45:30<1:34:45, 21.54s/it]"
     ]
    },
    {
     "name": "stdout",
     "output_type": "stream",
     "text": [
      "LUAD-096-30-1A\n"
     ]
    },
    {
     "name": "stderr",
     "output_type": "stream",
     "text": [
      " 64%|██████▍   | 474/737 [1:45:33<1:08:59, 15.74s/it]"
     ]
    },
    {
     "name": "stdout",
     "output_type": "stream",
     "text": [
      "LUAD-096-31-1A\n"
     ]
    },
    {
     "name": "stderr",
     "output_type": "stream",
     "text": [
      " 65%|██████▍   | 476/737 [1:46:05<1:04:02, 14.72s/it]"
     ]
    },
    {
     "name": "stdout",
     "output_type": "stream",
     "text": [
      "LUAD-096-33-1A\n"
     ]
    },
    {
     "name": "stderr",
     "output_type": "stream",
     "text": [
      " 65%|██████▍   | 478/737 [1:47:03<1:24:41, 19.62s/it]"
     ]
    },
    {
     "name": "stdout",
     "output_type": "stream",
     "text": [
      "LUAD-096-35-1A\n"
     ]
    },
    {
     "name": "stderr",
     "output_type": "stream",
     "text": [
      " 65%|██████▍   | 479/737 [1:47:05<1:01:04, 14.20s/it]"
     ]
    },
    {
     "name": "stdout",
     "output_type": "stream",
     "text": [
      "LUAD-096-36-1A\n"
     ]
    },
    {
     "name": "stderr",
     "output_type": "stream",
     "text": [
      " 65%|██████▌   | 480/737 [1:47:07<45:24, 10.60s/it]  "
     ]
    },
    {
     "name": "stdout",
     "output_type": "stream",
     "text": [
      "LUAD-096-37-1A\n"
     ]
    },
    {
     "name": "stderr",
     "output_type": "stream",
     "text": [
      " 65%|██████▌   | 481/737 [1:47:08<33:23,  7.83s/it]"
     ]
    },
    {
     "name": "stdout",
     "output_type": "stream",
     "text": [
      "LUAD-096-38-1A\n"
     ]
    },
    {
     "name": "stderr",
     "output_type": "stream",
     "text": [
      " 65%|██████▌   | 482/737 [1:47:10<25:00,  5.89s/it]"
     ]
    },
    {
     "name": "stdout",
     "output_type": "stream",
     "text": [
      "LUAD-096-39-1A\n"
     ]
    },
    {
     "name": "stderr",
     "output_type": "stream",
     "text": [
      " 66%|██████▌   | 483/737 [1:47:11<19:11,  4.54s/it]"
     ]
    },
    {
     "name": "stdout",
     "output_type": "stream",
     "text": [
      "LUAD-096-40-1A\n"
     ]
    },
    {
     "name": "stderr",
     "output_type": "stream",
     "text": [
      " 66%|██████▌   | 484/737 [1:47:13<15:23,  3.65s/it]"
     ]
    },
    {
     "name": "stdout",
     "output_type": "stream",
     "text": [
      "LUAD-096-41-1A\n"
     ]
    },
    {
     "name": "stderr",
     "output_type": "stream",
     "text": [
      " 68%|██████▊   | 501/737 [1:56:47<2:07:11, 32.33s/it]"
     ]
    },
    {
     "name": "stdout",
     "output_type": "stream",
     "text": [
      "RB-098-02-1A\n"
     ]
    },
    {
     "name": "stderr",
     "output_type": "stream",
     "text": [
      " 69%|██████▉   | 510/737 [2:02:47<1:38:19, 25.99s/it]"
     ]
    },
    {
     "name": "stdout",
     "output_type": "stream",
     "text": [
      "EPN-102-01-1C\n"
     ]
    },
    {
     "name": "stderr",
     "output_type": "stream",
     "text": [
      " 69%|██████▉   | 511/737 [2:02:51<1:13:25, 19.49s/it]"
     ]
    },
    {
     "name": "stdout",
     "output_type": "stream",
     "text": [
      "EPN-102-02-1C\n"
     ]
    },
    {
     "name": "stderr",
     "output_type": "stream",
     "text": [
      " 69%|██████▉   | 512/737 [2:02:52<52:29, 14.00s/it]  "
     ]
    },
    {
     "name": "stdout",
     "output_type": "stream",
     "text": [
      "EPN-102-03-1C\n"
     ]
    },
    {
     "name": "stderr",
     "output_type": "stream",
     "text": [
      " 70%|██████▉   | 513/737 [2:02:54<38:06, 10.21s/it]"
     ]
    },
    {
     "name": "stdout",
     "output_type": "stream",
     "text": [
      "EPN-102-04-1C\n"
     ]
    },
    {
     "name": "stderr",
     "output_type": "stream",
     "text": [
      " 70%|██████▉   | 514/737 [2:02:55<27:48,  7.48s/it]"
     ]
    },
    {
     "name": "stdout",
     "output_type": "stream",
     "text": [
      "EPN-102-05-1C\n"
     ]
    },
    {
     "name": "stderr",
     "output_type": "stream",
     "text": [
      " 70%|██████▉   | 515/737 [2:02:56<21:06,  5.70s/it]"
     ]
    },
    {
     "name": "stdout",
     "output_type": "stream",
     "text": [
      "EPN-102-06-1C\n"
     ]
    },
    {
     "name": "stderr",
     "output_type": "stream",
     "text": [
      " 70%|███████   | 516/737 [2:02:58<17:05,  4.64s/it]"
     ]
    },
    {
     "name": "stdout",
     "output_type": "stream",
     "text": [
      "EPN-102-07-1C\n"
     ]
    },
    {
     "name": "stderr",
     "output_type": "stream",
     "text": [
      " 70%|███████   | 517/737 [2:03:00<13:49,  3.77s/it]"
     ]
    },
    {
     "name": "stdout",
     "output_type": "stream",
     "text": [
      "EPN-102-08-1C\n"
     ]
    },
    {
     "name": "stderr",
     "output_type": "stream",
     "text": [
      " 71%|███████   | 522/737 [2:10:45<3:27:57, 58.03s/it]"
     ]
    },
    {
     "name": "stdout",
     "output_type": "stream",
     "text": [
      "VS-105-01-1A\n"
     ]
    },
    {
     "name": "stderr",
     "output_type": "stream",
     "text": [
      " 71%|███████   | 523/737 [2:10:46<2:26:39, 41.12s/it]"
     ]
    },
    {
     "name": "stdout",
     "output_type": "stream",
     "text": [
      "VS-105-02-1A\n"
     ]
    },
    {
     "name": "stderr",
     "output_type": "stream",
     "text": [
      " 71%|███████▏  | 526/737 [2:17:16<5:30:27, 93.97s/it] "
     ]
    },
    {
     "name": "stdout",
     "output_type": "stream",
     "text": [
      "VS-105-05-1A\n"
     ]
    },
    {
     "name": "stderr",
     "output_type": "stream",
     "text": [
      " 72%|███████▏  | 527/737 [2:17:17<3:52:04, 66.31s/it]"
     ]
    },
    {
     "name": "stdout",
     "output_type": "stream",
     "text": [
      "VS-105-06-1A\n"
     ]
    },
    {
     "name": "stderr",
     "output_type": "stream",
     "text": [
      " 72%|███████▏  | 529/737 [2:18:25<2:43:23, 47.13s/it]"
     ]
    },
    {
     "name": "stdout",
     "output_type": "stream",
     "text": [
      "VS-105-08-1A\n"
     ]
    },
    {
     "name": "stderr",
     "output_type": "stream",
     "text": [
      " 72%|███████▏  | 531/737 [2:19:38<2:12:38, 38.63s/it]"
     ]
    },
    {
     "name": "stdout",
     "output_type": "stream",
     "text": [
      "VS-105-10-1A\n"
     ]
    },
    {
     "name": "stderr",
     "output_type": "stream",
     "text": [
      " 72%|███████▏  | 532/737 [2:19:40<1:34:14, 27.58s/it]"
     ]
    },
    {
     "name": "stdout",
     "output_type": "stream",
     "text": [
      "VS-105-11-1A\n"
     ]
    },
    {
     "name": "stderr",
     "output_type": "stream",
     "text": [
      " 72%|███████▏  | 533/737 [2:19:42<1:07:40, 19.90s/it]"
     ]
    },
    {
     "name": "stdout",
     "output_type": "stream",
     "text": [
      "VS-105-12-1A\n"
     ]
    },
    {
     "name": "stderr",
     "output_type": "stream",
     "text": [
      " 72%|███████▏  | 534/737 [2:19:44<49:22, 14.59s/it]  "
     ]
    },
    {
     "name": "stdout",
     "output_type": "stream",
     "text": [
      "VS-105-13-1A\n"
     ]
    },
    {
     "name": "stderr",
     "output_type": "stream",
     "text": [
      " 73%|███████▎  | 535/737 [2:19:46<36:13, 10.76s/it]"
     ]
    },
    {
     "name": "stdout",
     "output_type": "stream",
     "text": [
      "VS-105-14-1A\n"
     ]
    },
    {
     "name": "stderr",
     "output_type": "stream",
     "text": [
      " 73%|███████▎  | 536/737 [2:19:48<27:02,  8.07s/it]"
     ]
    },
    {
     "name": "stdout",
     "output_type": "stream",
     "text": [
      "VS-105-15-1A\n"
     ]
    },
    {
     "name": "stderr",
     "output_type": "stream",
     "text": [
      " 75%|███████▌  | 554/737 [2:43:01<3:32:59, 69.84s/it] "
     ]
    },
    {
     "name": "stdout",
     "output_type": "stream",
     "text": [
      "BRCA-107-11-1A\n"
     ]
    },
    {
     "name": "stderr",
     "output_type": "stream",
     "text": [
      " 76%|███████▌  | 560/737 [2:58:02<6:28:12, 131.59s/it]"
     ]
    },
    {
     "name": "stdout",
     "output_type": "stream",
     "text": [
      "BCC-109-03-1A\n"
     ]
    },
    {
     "name": "stderr",
     "output_type": "stream",
     "text": [
      " 76%|███████▋  | 562/737 [2:59:39<4:07:56, 85.01s/it] "
     ]
    },
    {
     "name": "stdout",
     "output_type": "stream",
     "text": [
      "BCC-109-05-1A\n"
     ]
    },
    {
     "name": "stderr",
     "output_type": "stream",
     "text": [
      " 76%|███████▋  | 563/737 [2:59:41<2:53:57, 59.98s/it]"
     ]
    },
    {
     "name": "stdout",
     "output_type": "stream",
     "text": [
      "BCC-109-06-1A\n"
     ]
    },
    {
     "name": "stderr",
     "output_type": "stream",
     "text": [
      " 77%|███████▋  | 564/737 [2:59:43<2:02:47, 42.59s/it]"
     ]
    },
    {
     "name": "stdout",
     "output_type": "stream",
     "text": [
      "BCC-109-07-1A\n"
     ]
    },
    {
     "name": "stderr",
     "output_type": "stream",
     "text": [
      " 77%|███████▋  | 571/737 [3:07:05<2:24:54, 52.37s/it]"
     ]
    },
    {
     "name": "stdout",
     "output_type": "stream",
     "text": [
      "ESCC-111-06-1A\n"
     ]
    },
    {
     "name": "stderr",
     "output_type": "stream",
     "text": [
      " 81%|████████▏ | 600/737 [3:31:28<1:14:48, 32.76s/it]"
     ]
    },
    {
     "name": "stdout",
     "output_type": "stream",
     "text": [
      "ESCC-111-35-1A\n"
     ]
    },
    {
     "name": "stderr",
     "output_type": "stream",
     "text": [
      " 83%|████████▎ | 614/737 [3:40:44<1:04:12, 31.32s/it]"
     ]
    },
    {
     "name": "stdout",
     "output_type": "stream",
     "text": [
      "ESCC-111-49-1A\n"
     ]
    },
    {
     "name": "stderr",
     "output_type": "stream",
     "text": [
      " 85%|████████▌ | 630/737 [3:57:37<2:31:25, 84.91s/it] "
     ]
    },
    {
     "name": "stdout",
     "output_type": "stream",
     "text": [
      "SCE-112-07-1A\n"
     ]
    },
    {
     "name": "stderr",
     "output_type": "stream",
     "text": [
      " 86%|████████▌ | 631/737 [3:57:39<1:46:06, 60.06s/it]"
     ]
    },
    {
     "name": "stdout",
     "output_type": "stream",
     "text": [
      "SCE-112-08-1A\n"
     ]
    },
    {
     "name": "stderr",
     "output_type": "stream",
     "text": [
      " 86%|████████▌ | 632/737 [3:57:41<1:14:38, 42.65s/it]"
     ]
    },
    {
     "name": "stdout",
     "output_type": "stream",
     "text": [
      "SCE-112-09-1A\n"
     ]
    },
    {
     "name": "stderr",
     "output_type": "stream",
     "text": [
      " 86%|████████▌ | 633/737 [3:57:43<52:41, 30.40s/it]  "
     ]
    },
    {
     "name": "stdout",
     "output_type": "stream",
     "text": [
      "SCE-112-10-1A\n"
     ]
    },
    {
     "name": "stderr",
     "output_type": "stream",
     "text": [
      " 86%|████████▌ | 634/737 [3:57:45<37:33, 21.88s/it]"
     ]
    },
    {
     "name": "stdout",
     "output_type": "stream",
     "text": [
      "SCE-112-11-1A\n"
     ]
    },
    {
     "name": "stderr",
     "output_type": "stream",
     "text": [
      " 86%|████████▌ | 635/737 [3:57:47<27:04, 15.93s/it]"
     ]
    },
    {
     "name": "stdout",
     "output_type": "stream",
     "text": [
      "SCE-112-12-1A\n"
     ]
    },
    {
     "name": "stderr",
     "output_type": "stream",
     "text": [
      " 86%|████████▋ | 636/737 [3:57:49<19:47, 11.76s/it]"
     ]
    },
    {
     "name": "stdout",
     "output_type": "stream",
     "text": [
      "SCE-112-13-1A\n"
     ]
    },
    {
     "name": "stderr",
     "output_type": "stream",
     "text": [
      " 87%|████████▋ | 639/737 [4:00:25<57:35, 35.26s/it]  "
     ]
    },
    {
     "name": "stdout",
     "output_type": "stream",
     "text": [
      "MPNST-114-01-1A\n"
     ]
    },
    {
     "name": "stderr",
     "output_type": "stream",
     "text": [
      " 87%|████████▋ | 640/737 [4:00:27<40:41, 25.17s/it]"
     ]
    },
    {
     "name": "stdout",
     "output_type": "stream",
     "text": [
      "MPNST-114-02-1A\n"
     ]
    },
    {
     "name": "stderr",
     "output_type": "stream",
     "text": [
      " 87%|████████▋ | 641/737 [4:00:28<28:50, 18.03s/it]"
     ]
    },
    {
     "name": "stdout",
     "output_type": "stream",
     "text": [
      "MPNST-114-03-1A\n"
     ]
    },
    {
     "name": "stderr",
     "output_type": "stream",
     "text": [
      " 87%|████████▋ | 642/737 [4:00:30<20:43, 13.09s/it]"
     ]
    },
    {
     "name": "stdout",
     "output_type": "stream",
     "text": [
      "MPNST-114-04-1A\n"
     ]
    },
    {
     "name": "stderr",
     "output_type": "stream",
     "text": [
      " 88%|████████▊ | 646/737 [4:01:26<17:29, 11.53s/it]"
     ]
    },
    {
     "name": "stdout",
     "output_type": "stream",
     "text": [
      "EAC-116-01-1A\n"
     ]
    },
    {
     "name": "stderr",
     "output_type": "stream",
     "text": [
      " 88%|████████▊ | 648/737 [4:02:52<35:12, 23.74s/it]"
     ]
    },
    {
     "name": "stdout",
     "output_type": "stream",
     "text": [
      "EAC-116-03-1A\n"
     ]
    },
    {
     "name": "stderr",
     "output_type": "stream",
     "text": [
      " 88%|████████▊ | 649/737 [4:02:53<25:03, 17.09s/it]"
     ]
    },
    {
     "name": "stdout",
     "output_type": "stream",
     "text": [
      "EAC-116-04-1A\n"
     ]
    },
    {
     "name": "stderr",
     "output_type": "stream",
     "text": [
      " 88%|████████▊ | 650/737 [4:02:55<18:01, 12.43s/it]"
     ]
    },
    {
     "name": "stdout",
     "output_type": "stream",
     "text": [
      "EAC-116-05-1A\n"
     ]
    },
    {
     "name": "stderr",
     "output_type": "stream",
     "text": [
      " 88%|████████▊ | 651/737 [4:02:56<13:09,  9.18s/it]"
     ]
    },
    {
     "name": "stdout",
     "output_type": "stream",
     "text": [
      "EAC-116-06-1A\n"
     ]
    },
    {
     "name": "stderr",
     "output_type": "stream",
     "text": [
      " 88%|████████▊ | 652/737 [4:02:58<09:52,  6.97s/it]"
     ]
    },
    {
     "name": "stdout",
     "output_type": "stream",
     "text": [
      "EAC-116-07-1A\n"
     ]
    },
    {
     "name": "stderr",
     "output_type": "stream",
     "text": [
      " 89%|████████▊ | 653/737 [4:03:00<07:39,  5.47s/it]"
     ]
    },
    {
     "name": "stdout",
     "output_type": "stream",
     "text": [
      "EAC-116-08-1A\n"
     ]
    },
    {
     "name": "stderr",
     "output_type": "stream",
     "text": [
      " 89%|████████▊ | 654/737 [4:03:01<05:51,  4.24s/it]"
     ]
    },
    {
     "name": "stdout",
     "output_type": "stream",
     "text": [
      "GBM-117-01-1A\n"
     ]
    },
    {
     "name": "stderr",
     "output_type": "stream",
     "text": [
      " 89%|████████▉ | 655/737 [4:03:03<04:30,  3.30s/it]"
     ]
    },
    {
     "name": "stdout",
     "output_type": "stream",
     "text": [
      "GBM-117-02-1A\n"
     ]
    },
    {
     "name": "stderr",
     "output_type": "stream",
     "text": [
      " 89%|████████▉ | 656/737 [4:03:04<03:40,  2.72s/it]"
     ]
    },
    {
     "name": "stdout",
     "output_type": "stream",
     "text": [
      "ccRCC-118-01-1A\n"
     ]
    },
    {
     "name": "stderr",
     "output_type": "stream",
     "text": [
      " 89%|████████▉ | 659/737 [4:05:28<31:22, 24.14s/it]"
     ]
    },
    {
     "name": "stdout",
     "output_type": "stream",
     "text": [
      "ccRCC-118-04-1A\n"
     ]
    },
    {
     "name": "stderr",
     "output_type": "stream",
     "text": [
      " 90%|████████▉ | 661/737 [4:05:51<21:05, 16.65s/it]"
     ]
    },
    {
     "name": "stdout",
     "output_type": "stream",
     "text": [
      "ccRCC-118-06-1A\n"
     ]
    },
    {
     "name": "stderr",
     "output_type": "stream",
     "text": [
      " 90%|████████▉ | 663/737 [4:07:03<29:00, 23.52s/it]"
     ]
    },
    {
     "name": "stdout",
     "output_type": "stream",
     "text": [
      "ccRCC-118-08-1A\n"
     ]
    },
    {
     "name": "stderr",
     "output_type": "stream",
     "text": [
      " 93%|█████████▎| 687/737 [4:25:36<27:01, 32.43s/it]  "
     ]
    },
    {
     "name": "stdout",
     "output_type": "stream",
     "text": [
      "MCC-122-06-1A\n"
     ]
    },
    {
     "name": "stderr",
     "output_type": "stream",
     "text": [
      " 93%|█████████▎| 689/737 [4:26:18<19:48, 24.77s/it]"
     ]
    },
    {
     "name": "stdout",
     "output_type": "stream",
     "text": [
      "MCC-122-08-1A\n"
     ]
    },
    {
     "name": "stderr",
     "output_type": "stream",
     "text": [
      " 96%|█████████▋| 710/737 [4:39:02<13:40, 30.40s/it]"
     ]
    },
    {
     "name": "stdout",
     "output_type": "stream",
     "text": [
      "HNSCC-127-03-1A\n"
     ]
    },
    {
     "name": "stderr",
     "output_type": "stream",
     "text": [
      " 96%|█████████▋| 711/737 [4:39:04<09:29, 21.89s/it]"
     ]
    },
    {
     "name": "stdout",
     "output_type": "stream",
     "text": [
      "BRCA-128-01-1A\n"
     ]
    },
    {
     "name": "stderr",
     "output_type": "stream",
     "text": [
      " 97%|█████████▋| 712/737 [4:39:05<06:33, 15.72s/it]"
     ]
    },
    {
     "name": "stdout",
     "output_type": "stream",
     "text": [
      "BRCA-128-02-1A\n"
     ]
    },
    {
     "name": "stderr",
     "output_type": "stream",
     "text": [
      " 97%|█████████▋| 714/737 [4:40:12<08:23, 21.89s/it]"
     ]
    },
    {
     "name": "stdout",
     "output_type": "stream",
     "text": [
      "BRCA-128-04-1A\n"
     ]
    },
    {
     "name": "stderr",
     "output_type": "stream",
     "text": [
      " 97%|█████████▋| 716/737 [4:41:44<10:32, 30.11s/it]"
     ]
    },
    {
     "name": "stdout",
     "output_type": "stream",
     "text": [
      "BRCA-128-06-1A\n"
     ]
    },
    {
     "name": "stderr",
     "output_type": "stream",
     "text": [
      " 98%|█████████▊| 721/737 [4:45:14<08:45, 32.85s/it]"
     ]
    },
    {
     "name": "stdout",
     "output_type": "stream",
     "text": [
      "HSCC-130-03-1H\n"
     ]
    },
    {
     "name": "stderr",
     "output_type": "stream",
     "text": [
      " 99%|█████████▉| 728/737 [4:50:03<04:47, 31.89s/it]"
     ]
    },
    {
     "name": "stdout",
     "output_type": "stream",
     "text": [
      "HSCC-130-10-1H\n"
     ]
    },
    {
     "name": "stderr",
     "output_type": "stream",
     "text": [
      " 99%|█████████▉| 731/737 [4:52:06<03:16, 32.71s/it]"
     ]
    },
    {
     "name": "stdout",
     "output_type": "stream",
     "text": [
      "CRC-133-01-1A\n"
     ]
    },
    {
     "name": "stderr",
     "output_type": "stream",
     "text": [
      "100%|██████████| 737/737 [4:54:15<00:00, 23.96s/it]\n"
     ]
    }
   ],
   "source": [
    "from genericpath import isfile\n",
    "import pathlib\n",
    "\n",
    "import tqdm\n",
    "\n",
    "results_dir = pathlib.Path(\"data/CancerSCEM/\")\n",
    "skipped_samples = []\n",
    "for _, (sample_id, project_id) in tqdm.tqdm(results[[\"sample ID\", \"Project ID\"]].iterrows(), total=results.shape[0]):\n",
    "    project_dir = results_dir.joinpath(project_id)\n",
    "    if not project_dir.is_dir():\n",
    "        project_dir.mkdir(parents=True)\n",
    "    \n",
    "    sample_path = project_dir.joinpath(f\"{sample_id}.h5ad\")\n",
    "    if sample_path.is_file():\n",
    "        continue\n",
    "    adata = get_anndata_from_sample_id(sample_id)\n",
    "    if adata is None:\n",
    "        skipped_samples.append(sample_id)\n",
    "        print(sample_id)\n",
    "        continue\n",
    "    adata.write_h5ad(sample_path)"
   ]
  },
  {
   "cell_type": "code",
   "execution_count": 12,
   "metadata": {},
   "outputs": [],
   "source": [
    "results.loc[results[\"sample ID\"].isin(skipped_samples), [\"included\"]] = \"no\"\n",
    "results.loc[results[\"sample ID\"].isin(skipped_samples), [\"reason\"]] = \"Too few malignant cells\"\n",
    "results = results.drop(\"Unnamed: 0\", axis=1)\n",
    "results.to_csv(\"sample_metadata.csv\")"
   ]
  },
  {
   "cell_type": "code",
   "execution_count": 47,
   "metadata": {},
   "outputs": [
    {
     "data": {
      "text/plain": [
       "Index(['AL627309.1', 'AL627309.5', 'AP006222.2', 'LINC01409', 'LINC01128',\n",
       "       'LINC00115', 'FAM41C', 'AL645608.2', 'LINC02593', 'SAMD11',\n",
       "       ...\n",
       "       'MT-ND6', 'MT-CYB', 'BX004987.1', 'MAFIP', 'AC011043.1', 'AL354822.1',\n",
       "       'AL592183.1', 'AC240274.1', 'AC233755.2', 'AC007325.4'],\n",
       "      dtype='object', length=20506)"
      ]
     },
     "execution_count": 47,
     "metadata": {},
     "output_type": "execute_result"
    }
   ],
   "source": [
    "adata.var_names"
   ]
  },
  {
   "cell_type": "code",
   "execution_count": 13,
   "metadata": {},
   "outputs": [
    {
     "data": {
      "text/plain": [
       "included\n",
       "yes    565\n",
       "no     172\n",
       "Name: count, dtype: int64"
      ]
     },
     "execution_count": 13,
     "metadata": {},
     "output_type": "execute_result"
    }
   ],
   "source": [
    "results[\"included\"].value_counts()"
   ]
  },
  {
   "cell_type": "code",
   "execution_count": 63,
   "metadata": {},
   "outputs": [
    {
     "data": {
      "text/plain": [
       "Index(['Unnamed: 0', 'authors', 'author_last_name', 'url', 'details', 'year',\n",
       "       'full_citation', 'cancer_type', 'cancer_type_abbr', 'primary_site',\n",
       "       'sampling_site', 'tumor_grade', 'tumor_status', 'strategy', 'protocol',\n",
       "       'instrument', 'GEO accession', 'age', 'gender', 'treatment',\n",
       "       'other_metadata', 'sample ID', 'Accession No.', 'Project ID',\n",
       "       'included', 'reason'],\n",
       "      dtype='object')"
      ]
     },
     "execution_count": 63,
     "metadata": {},
     "output_type": "execute_result"
    }
   ],
   "source": [
    "results.columns"
   ]
  },
  {
   "cell_type": "code",
   "execution_count": 3,
   "metadata": {},
   "outputs": [
    {
     "name": "stdout",
     "output_type": "stream",
     "text": [
      "TS-039\n",
      "MPAL-022\n",
      "TGCT-052\n",
      "CM-036\n",
      "LSCC-034\n",
      "PDAC-044\n",
      "UCEC-024\n",
      "LUSC-092\n",
      "BRCA-071\n",
      "CRC-133\n",
      "GBC-066\n",
      "LUAD-096\n",
      "GBM-077\n",
      "PDAC-106\n",
      "PDAC-132\n",
      "RB-098\n",
      "ESCC-079\n",
      "OV-020\n",
      "PAAD-038\n",
      "ATC-026\n",
      "PDAC-046\n",
      "MB-078\n",
      "UL-050\n",
      "iCCA-066\n",
      "CRC-086\n",
      "SKCM-095\n",
      "BLCA-115\n",
      "PRAD-063\n",
      "WT-070\n",
      "CRC-030\n",
      "ccRCC-061\n",
      "ESCC-126\n",
      "ccRCC-060\n",
      "MPNST-114\n",
      "MCC-122\n",
      "GCTB-045\n",
      "HCC-059\n",
      "BRCA-135\n",
      "ESCC-111\n",
      "CaCx-120\n",
      "SCE-112\n",
      "HNSCC-087\n",
      "HNSCC-127\n",
      "SACC-103\n",
      "HNSCC-121\n",
      "MB-081\n",
      "MPLC-068\n",
      "HSCC-130\n",
      "LUSC-005\n",
      "EPN-102\n",
      "RMC-125\n",
      "VS-105\n",
      "BRCA-107\n",
      "EAC-116\n",
      "BRCA-134\n",
      "PDAC-064\n",
      "GBM-117\n",
      "PDAC-091\n",
      "cSCC-099\n",
      "BCC-109\n",
      "NSCLC-006\n",
      "MCC-084\n",
      "AM-036\n",
      "HNSCC-043\n",
      "NSCLC-007\n",
      "HGSOC-042\n",
      "HGSOC-049\n",
      "PDAC-051\n",
      "PTC-069\n",
      "MESO-065\n",
      "GBM-085\n",
      "LUAD-004\n",
      "CRC-101\n",
      "ccRCC-118\n",
      "TNBC-075\n",
      "PRAD-082\n",
      "BRCA-128\n",
      "BLCA-031\n",
      "GCTB-052\n",
      "CRC-067\n",
      "ESCC-032\n",
      "ESCC-048\n",
      "GBM-080\n"
     ]
    }
   ],
   "source": [
    "import pathlib\n",
    "import scanpy as sc\n",
    "\n",
    "m_cells = 0\n",
    "for project in pathlib.Path(\"data/CancerSCEM/\").iterdir():\n",
    "    print(project.stem)\n",
    "    for dataset_path in project.iterdir():\n",
    "        adata = sc.read_h5ad(dataset_path)\n",
    "        m_cells += adata.obs[\"cell_type\"].value_counts()[_malignant_cell]"
   ]
  },
  {
   "cell_type": "code",
   "execution_count": 4,
   "metadata": {},
   "outputs": [
    {
     "data": {
      "text/plain": [
       "818940"
      ]
     },
     "execution_count": 4,
     "metadata": {},
     "output_type": "execute_result"
    }
   ],
   "source": [
    "m_cells"
   ]
  },
  {
   "cell_type": "code",
   "execution_count": null,
   "metadata": {},
   "outputs": [],
   "source": []
  }
 ],
 "metadata": {
  "kernelspec": {
   "display_name": "cancerfoundation",
   "language": "python",
   "name": "python3"
  },
  "language_info": {
   "codemirror_mode": {
    "name": "ipython",
    "version": 3
   },
   "file_extension": ".py",
   "mimetype": "text/x-python",
   "name": "python",
   "nbconvert_exporter": "python",
   "pygments_lexer": "ipython3",
   "version": "3.9.12"
  }
 },
 "nbformat": 4,
 "nbformat_minor": 2
}
