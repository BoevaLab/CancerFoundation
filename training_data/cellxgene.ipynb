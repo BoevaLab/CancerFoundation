{
 "cells": [
  {
   "cell_type": "code",
   "execution_count": 1,
   "metadata": {},
   "outputs": [],
   "source": [
    "import pandas as pd\n",
    "import scanpy as sc"
   ]
  },
  {
   "cell_type": "code",
   "execution_count": 2,
   "metadata": {},
   "outputs": [],
   "source": [
    "_project_id = \"project_id\"\n",
    "_sample_id = \"sample_id\"\n",
    "_cancer_type = \"cancer_type\"\n",
    "_count_type = \"count_type\"\n",
    "_technology = \"technology\"\n",
    "_suspension_type = \"suspension_type\"\n",
    "_primary_side = \"primary_side\"\n",
    "_sample_side = \"sample_side\""
   ]
  },
  {
   "cell_type": "code",
   "execution_count": 3,
   "metadata": {},
   "outputs": [],
   "source": [
    "def clean_adata(adata: sc.AnnData) -> sc.AnnData:\n",
    "    for key in list(adata.obsm_keys()):\n",
    "        del adata.obsm[key]\n",
    "    for key in list(adata.obsp.keys()):\n",
    "        del adata.obsp[key]\n",
    "    \n",
    "    return adata"
   ]
  },
  {
   "cell_type": "code",
   "execution_count": 6,
   "metadata": {},
   "outputs": [],
   "source": [
    "metadata = pd.read_csv(\"study_overview.csv\", index_col=0)"
   ]
  },
  {
   "cell_type": "markdown",
   "metadata": {},
   "source": [
    "## GBM Extend Atlas\n"
   ]
  },
  {
   "cell_type": "code",
   "execution_count": 7,
   "metadata": {},
   "outputs": [],
   "source": [
    "metadata = metadata[(metadata[\"Source\"] == \"CellxGene(Ruiz)\") & (metadata[\"Include\"] == \"Yes\")]\n",
    "metadata.index = metadata[\"author_last_name\"] + metadata[\"year\"].astype(str)\n",
    "studies = (metadata[\"author_last_name\"] + metadata[\"year\"].astype(str)).to_list()"
   ]
  },
  {
   "cell_type": "code",
   "execution_count": 8,
   "metadata": {},
   "outputs": [],
   "source": [
    "adata = sc.read(\"data/cellxgene/ruiz.h5ad\", backed=\"r\",backup_url=\"https://datasets.cellxgene.cziscience.com/d36a23ec-65f6-446e-8e69-c72ccbd44d9e.h5ad\")\n",
    "adata = adata[(adata.obs[\"cell_type\"]==\"malignant cell\") & (adata.obs[\"author\"].isin(studies))]\n",
    "adata = adata.raw.to_adata()\n"
   ]
  },
  {
   "cell_type": "code",
   "execution_count": 9,
   "metadata": {},
   "outputs": [],
   "source": [
    "del adata.obsm[\"X_umap\"]\n",
    "adata.var_names = adata.var[\"feature_name\"].astype(str)\n",
    "adata.uns = {}"
   ]
  },
  {
   "cell_type": "code",
   "execution_count": null,
   "metadata": {},
   "outputs": [
    {
     "name": "stdout",
     "output_type": "stream",
     "text": [
      "Goswami2019\n",
      "Sankowski2019\n",
      "Mathewson2021\n",
      "Friedrich2021\n",
      "Xie2021\n"
     ]
    }
   ],
   "source": [
    "sample_counts = {}\n",
    "for study in studies:\n",
    "    bdata = adata[adata.obs[\"author\"]==study].copy()\n",
    "    if bdata.n_obs < 100:\n",
    "        print(study)\n",
    "        continue\n",
    "    bdata.var = bdata.var.drop(bdata.var.columns, axis=1)\n",
    "    bdata.obs = bdata.obs[[\"donor_id\", \"assay\"]]\n",
    "    bdata.obs = bdata.obs.rename(columns={\"donor_id\": _sample_id, \"assay\": _technology})\n",
    "    bdata.obs[_primary_side] = \"brain\"\n",
    "    bdata.obs[_sample_side] = \"brain\"\n",
    "    bdata.obs[_suspension_type] = \"cell\"\n",
    "    bdata.obs[_project_id] = metadata.loc[study, [\"Project ID\"]].item()\n",
    "    bdata.uns = {_count_type: \"raw_counts\"}\n",
    "    bdata.write_h5ad(f\"data/cellxgene/ruiz/{study}.h5ad\")"
   ]
  },
  {
   "cell_type": "markdown",
   "metadata": {},
   "source": [
    "## Breast Cancer CellxGene dataset\n"
   ]
  },
  {
   "cell_type": "code",
   "execution_count": null,
   "metadata": {},
   "outputs": [
    {
     "name": "stdout",
     "output_type": "stream",
     "text": [
      "(85033, 27361)\n",
      "['HTAPP-983', 'HTAPP-382', 'HTAPP-982', 'HTAPP-321', 'HTAPP-285', ..., 'HTAPP-649', 'HTAPP-908', 'HTAPP-586', 'HTAPP-759', 'HTAPP-812']\n",
      "Length: 26\n",
      "Categories (26, object): ['HTAPP-262', 'HTAPP-285', 'HTAPP-313', 'HTAPP-321', ..., 'HTAPP-908', 'HTAPP-917', 'HTAPP-982', 'HTAPP-983']\n",
      "(201003, 30450)\n",
      "['HTAPP-225', 'HTAPP-589', 'HTAPP-231', 'HTAPP-862', 'HTAPP-232', ..., 'HTAPP-226', 'HTAPP-890', 'HTAPP-262', 'HTAPP-861', 'HTAPP-997']\n",
      "Length: 30\n",
      "Categories (30, object): ['HTAPP-211', 'HTAPP-213', 'HTAPP-223', 'HTAPP-225', ..., 'HTAPP-944', 'HTAPP-947', 'HTAPP-963', 'HTAPP-997']\n"
     ]
    }
   ],
   "source": [
    "adatas = []\n",
    "for s_type, url in zip([\"cell\", \"nucleus\"], [\"https://datasets.cellxgene.cziscience.com/0a563530-3000-458e-a4d2-d549e026f326.h5ad\", \"https://datasets.cellxgene.cziscience.com/ccdb972d-6655-43ae-9ad8-f895bd893d8a.h5ad\"]):\n",
    "    adata = sc.read(f\"data/cellxgene/klughammer_{s_type}.h5ad\", backed=\"r\", backup_url=url)\n",
    "\n",
    "    adata = adata[adata.obs[\"cell_type\"]==\"malignant cell\"]\n",
    "    adata = adata.raw.to_adata()\n",
    "    adata.var_names = adata.var[\"feature_name\"].astype(str)\n",
    "    adata = clean_adata(adata)\n",
    "    adata.obs[_suspension_type] = s_type\n",
    "    adata.obs[_sample_id] = adata.obs[\"donor_id\"].astype(str) + \"_\" + s_type\n",
    "    adatas.append(adata)\n",
    "\n",
    "\n",
    "\n",
    "adata = sc.concat(adatas)\n",
    "del adatas\n",
    "\n",
    "adata.var = adata.var.drop(adata.var.columns, axis=1)\n",
    "adata.obs[_primary_side] = \"breast\"\n",
    "adata.obs[_sample_side] = adata.obs[\"site_biopsy\"]\n",
    "adata.obs[_project_id] = \"CG-28\"\n",
    "adata.uns = {_count_type: \"raw_counts\"}\n",
    "\n",
    "#adata.var = adata.var.drop(adata.var.columns, axis=1)\n",
    "adata.obs[_primary_side] = \"breast\"\n",
    "adata.obs[_sample_side] = adata.obs[\"site_biopsy\"]\n",
    "adata.obs[_project_id] = \"CG-28\"\n",
    "adata.uns = {_count_type: \"raw_counts\"}\n",
    "adata.obs[_technology] = adata.obs[\"assay\"]\n",
    "adata.obs = adata.obs[[_sample_id, _project_id, _sample_side, _primary_side, _technology, _suspension_type]]\n",
    "adata.write_h5ad(\"data/cellxgene/klughammer/klughammer.h5ad\")"
   ]
  },
  {
   "cell_type": "markdown",
   "metadata": {},
   "source": [
    "## "
   ]
  },
  {
   "cell_type": "code",
   "execution_count": 67,
   "metadata": {},
   "outputs": [],
   "source": [
    "adata = sc.read(\"data/cellxgene/garcia.h5ad\", backed=\"r\", backup_url=\"https://datasets.cellxgene.cziscience.com/c613f4a1-abfe-4a2c-98d6-59748a8a234c.h5ad\")"
   ]
  },
  {
   "cell_type": "code",
   "execution_count": 72,
   "metadata": {},
   "outputs": [],
   "source": [
    "adata = adata[(adata.obs[\"cluster_label\"].str.lower().str.contains(\"cancer\", regex=False)) & (adata.obs[\"doublet\"]==\"False\"), :]\n",
    "adata = adata.raw.to_adata()"
   ]
  },
  {
   "cell_type": "code",
   "execution_count": 73,
   "metadata": {},
   "outputs": [],
   "source": [
    "adata = clean_adata(adata)\n",
    "adata.var_names = adata.var[\"feature_name\"].astype(str)\n",
    "adata.uns = {}\n",
    "adata.obs[_sample_id] = adata.obs[\"patient_id\"].astype(str)\n",
    "adata.obs[_cancer_type] = \"HGSOC\"\n",
    "adata.obs[_project_id] = \"CG-29\"\n",
    "adata.obs[_technology] = adata.obs[\"assay\"]\n",
    "adata.obs[_suspension_type] = \"cell\"\n",
    "adata.obs[_primary_side] = \"Ovarian\"\n",
    "adata.obs[_sample_side] =  \"Ovarian\"\n",
    "\n",
    "adata.uns = {_count_type: \"raw_counts\"}\n",
    "adata.var = adata.var.drop(adata.var.columns, axis=1)\n",
    "\n",
    "adata.obs = adata.obs[[_sample_id, _project_id, _sample_side, _primary_side, _technology, _suspension_type]]"
   ]
  },
  {
   "cell_type": "code",
   "execution_count": 76,
   "metadata": {},
   "outputs": [],
   "source": [
    "adata.write_h5ad(\"data/cellxgene/garcia/garcia.h5ad\")"
   ]
  },
  {
   "cell_type": "markdown",
   "metadata": {},
   "source": [
    "## The single-cell lung cancer atlas (LuCA) -- extended atlas"
   ]
  },
  {
   "cell_type": "code",
   "execution_count": 77,
   "metadata": {},
   "outputs": [
    {
     "data": {
      "application/vnd.jupyter.widget-view+json": {
       "model_id": "33c1a55393c548899613b4918a095edd",
       "version_major": 2,
       "version_minor": 0
      },
      "text/plain": [
       "  0%|          | 0.00/16.2G [00:00<?, ?B/s]"
      ]
     },
     "metadata": {},
     "output_type": "display_data"
    },
    {
     "ename": "",
     "evalue": "",
     "output_type": "error",
     "traceback": [
      "\u001b[1;31mThe Kernel crashed while executing code in the current cell or a previous cell. \n",
      "\u001b[1;31mPlease review the code in the cell(s) to identify a possible cause of the failure. \n",
      "\u001b[1;31mClick <a href='https://aka.ms/vscodeJupyterKernelCrash'>here</a> for more info. \n",
      "\u001b[1;31mView Jupyter <a href='command:jupyter.viewOutput'>log</a> for further details."
     ]
    }
   ],
   "source": [
    "adata = sc.read(\"data/cellxgene/salcher.h5ad\", backed=\"r\", backup_url=\"https://datasets.cellxgene.cziscience.com/c366b76c-b5cf-499b-ad99-84bd57f71f0f.h5ad\")"
   ]
  },
  {
   "cell_type": "code",
   "execution_count": null,
   "metadata": {},
   "outputs": [],
   "source": []
  }
 ],
 "metadata": {
  "kernelspec": {
   "display_name": "cancerfoundation",
   "language": "python",
   "name": "python3"
  },
  "language_info": {
   "codemirror_mode": {
    "name": "ipython",
    "version": 3
   },
   "file_extension": ".py",
   "mimetype": "text/x-python",
   "name": "python",
   "nbconvert_exporter": "python",
   "pygments_lexer": "ipython3",
   "version": "3.9.12"
  }
 },
 "nbformat": 4,
 "nbformat_minor": 2
}
