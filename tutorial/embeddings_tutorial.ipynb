{
 "cells": [
  {
   "cell_type": "code",
   "execution_count": null,
   "metadata": {},
   "outputs": [],
   "source": [
    "import sys\n",
    "sys.path.insert(0, \"../\")\n",
    "import scanpy as sc\n",
    "from model.embedding import embed\n",
    "from scib_metrics.benchmark import Benchmarker, BioConservation"
   ]
  },
  {
   "cell_type": "code",
   "execution_count": 2,
   "metadata": {},
   "outputs": [],
   "source": [
    "model_dir = \"../model/assets\"\n",
    "adata_path = \"../data/neftel_ss2.h5ad\" # INSERT the path to your anndata object here\n",
    "\n",
    "adata = sc.read_h5ad(adata_path)\n",
    "batch_key = \"sample\" # The batch identity is used for highly variable gene selection\n",
    "bio_key = \"subtype\""
   ]
  },
  {
   "cell_type": "code",
   "execution_count": null,
   "metadata": {},
   "outputs": [],
   "source": [
    "embed_adata = embed(\n",
    "    adata_or_file=adata,\n",
    "    model_dir=model_dir,\n",
    "    batch_key=batch_key,\n",
    "    batch_size=64,\n",
    ")\n"
   ]
  },
  {
   "cell_type": "code",
   "execution_count": null,
   "metadata": {},
   "outputs": [],
   "source": [
    "sc.pp.neighbors(embed_adata, use_rep=\"CancerGPT\")\n",
    "sc.tl.umap(embed_adata)\n",
    "fig = sc.pl.umap(embed_adata,\n",
    "                 color=[bio_key],\n",
    "                 frameon=False,\n",
    "                 palette=sc.pl.palettes.default_20,\n",
    "                 legend_loc=None,\n",
    "                 return_fig=True,\n",
    "                 title=[\"Subtype\"])"
   ]
  }
 ],
 "metadata": {
  "kernelspec": {
   "display_name": "master_thesis",
   "language": "python",
   "name": "python3"
  },
  "language_info": {
   "codemirror_mode": {
    "name": "ipython",
    "version": 3
   },
   "file_extension": ".py",
   "mimetype": "text/x-python",
   "name": "python",
   "nbconvert_exporter": "python",
   "pygments_lexer": "ipython3",
   "version": "3.9.12"
  }
 },
 "nbformat": 4,
 "nbformat_minor": 2
}
